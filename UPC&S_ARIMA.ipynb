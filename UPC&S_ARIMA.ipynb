{
 "cells": [
  {
   "cell_type": "code",
   "execution_count": 1,
   "metadata": {},
   "outputs": [],
   "source": [
    "import pandas as pd\n",
    "import numpy as np\n",
    "import statsmodels.api as sm\n",
    "import matplotlib.pyplot as plt\n",
    "%matplotlib inline"
   ]
  },
  {
   "cell_type": "markdown",
   "metadata": {},
   "source": [
    "1단계: 현재 가지고 있는 3년 간의 실적 데이터 중 공정머신 0401로 생산되는 품목들과 관련하여 실제 작업 일수와 수량 데이터 분석"
   ]
  },
  {
   "cell_type": "code",
   "execution_count": 2,
   "metadata": {},
   "outputs": [
    {
     "data": {
      "text/html": [
       "<div>\n",
       "<style scoped>\n",
       "    .dataframe tbody tr th:only-of-type {\n",
       "        vertical-align: middle;\n",
       "    }\n",
       "\n",
       "    .dataframe tbody tr th {\n",
       "        vertical-align: top;\n",
       "    }\n",
       "\n",
       "    .dataframe thead th {\n",
       "        text-align: right;\n",
       "    }\n",
       "</style>\n",
       "<table border=\"1\" class=\"dataframe\">\n",
       "  <thead>\n",
       "    <tr style=\"text-align: right;\">\n",
       "      <th></th>\n",
       "      <th>Working</th>\n",
       "      <th>Quantity</th>\n",
       "    </tr>\n",
       "  </thead>\n",
       "  <tbody>\n",
       "    <tr>\n",
       "      <th>0</th>\n",
       "      <td>2018-01-04</td>\n",
       "      <td>40</td>\n",
       "    </tr>\n",
       "    <tr>\n",
       "      <th>1</th>\n",
       "      <td>2018-01-10</td>\n",
       "      <td>4</td>\n",
       "    </tr>\n",
       "    <tr>\n",
       "      <th>2</th>\n",
       "      <td>2018-01-10</td>\n",
       "      <td>4</td>\n",
       "    </tr>\n",
       "    <tr>\n",
       "      <th>3</th>\n",
       "      <td>2018-01-31</td>\n",
       "      <td>5</td>\n",
       "    </tr>\n",
       "    <tr>\n",
       "      <th>4</th>\n",
       "      <td>2018-02-01</td>\n",
       "      <td>6</td>\n",
       "    </tr>\n",
       "    <tr>\n",
       "      <th>...</th>\n",
       "      <td>...</td>\n",
       "      <td>...</td>\n",
       "    </tr>\n",
       "    <tr>\n",
       "      <th>511</th>\n",
       "      <td>2020-11-18</td>\n",
       "      <td>19</td>\n",
       "    </tr>\n",
       "    <tr>\n",
       "      <th>512</th>\n",
       "      <td>2020-11-18</td>\n",
       "      <td>21</td>\n",
       "    </tr>\n",
       "    <tr>\n",
       "      <th>513</th>\n",
       "      <td>2020-11-02</td>\n",
       "      <td>32</td>\n",
       "    </tr>\n",
       "    <tr>\n",
       "      <th>514</th>\n",
       "      <td>2020-12-08</td>\n",
       "      <td>2</td>\n",
       "    </tr>\n",
       "    <tr>\n",
       "      <th>515</th>\n",
       "      <td>2020-12-08</td>\n",
       "      <td>2</td>\n",
       "    </tr>\n",
       "  </tbody>\n",
       "</table>\n",
       "<p>516 rows × 2 columns</p>\n",
       "</div>"
      ],
      "text/plain": [
       "       Working  Quantity\n",
       "0   2018-01-04        40\n",
       "1   2018-01-10         4\n",
       "2   2018-01-10         4\n",
       "3   2018-01-31         5\n",
       "4   2018-02-01         6\n",
       "..         ...       ...\n",
       "511 2020-11-18        19\n",
       "512 2020-11-18        21\n",
       "513 2020-11-02        32\n",
       "514 2020-12-08         2\n",
       "515 2020-12-08         2\n",
       "\n",
       "[516 rows x 2 columns]"
      ]
     },
     "execution_count": 2,
     "metadata": {},
     "output_type": "execute_result"
    }
   ],
   "source": [
    "# 데이터 불러오기\n",
    "# 실제 엑셀 시트에서 sheet_3에 다음과 같이 2개의 데이터만 볼 수 있도록 사전 작업 진행\n",
    "df = pd.read_excel(\"NC공정 생산이력.xlsx\", sheet_name = 2)\n",
    "df"
   ]
  },
  {
   "cell_type": "code",
   "execution_count": 4,
   "metadata": {},
   "outputs": [
    {
     "data": {
      "text/plain": [
       "Index(['Working', 'Quantity'], dtype='object')"
      ]
     },
     "execution_count": 4,
     "metadata": {},
     "output_type": "execute_result"
    }
   ],
   "source": [
    "df.columns"
   ]
  },
  {
   "cell_type": "code",
   "execution_count": 5,
   "metadata": {},
   "outputs": [
    {
     "data": {
      "text/html": [
       "<div>\n",
       "<style scoped>\n",
       "    .dataframe tbody tr th:only-of-type {\n",
       "        vertical-align: middle;\n",
       "    }\n",
       "\n",
       "    .dataframe tbody tr th {\n",
       "        vertical-align: top;\n",
       "    }\n",
       "\n",
       "    .dataframe thead th {\n",
       "        text-align: right;\n",
       "    }\n",
       "</style>\n",
       "<table border=\"1\" class=\"dataframe\">\n",
       "  <thead>\n",
       "    <tr style=\"text-align: right;\">\n",
       "      <th></th>\n",
       "      <th>Working</th>\n",
       "      <th>Quantity</th>\n",
       "    </tr>\n",
       "  </thead>\n",
       "  <tbody>\n",
       "    <tr>\n",
       "      <th>511</th>\n",
       "      <td>2020-11-18</td>\n",
       "      <td>19</td>\n",
       "    </tr>\n",
       "    <tr>\n",
       "      <th>512</th>\n",
       "      <td>2020-11-18</td>\n",
       "      <td>21</td>\n",
       "    </tr>\n",
       "    <tr>\n",
       "      <th>513</th>\n",
       "      <td>2020-11-02</td>\n",
       "      <td>32</td>\n",
       "    </tr>\n",
       "    <tr>\n",
       "      <th>514</th>\n",
       "      <td>2020-12-08</td>\n",
       "      <td>2</td>\n",
       "    </tr>\n",
       "    <tr>\n",
       "      <th>515</th>\n",
       "      <td>2020-12-08</td>\n",
       "      <td>2</td>\n",
       "    </tr>\n",
       "  </tbody>\n",
       "</table>\n",
       "</div>"
      ],
      "text/plain": [
       "       Working  Quantity\n",
       "511 2020-11-18        19\n",
       "512 2020-11-18        21\n",
       "513 2020-11-02        32\n",
       "514 2020-12-08         2\n",
       "515 2020-12-08         2"
      ]
     },
     "execution_count": 5,
     "metadata": {},
     "output_type": "execute_result"
    }
   ],
   "source": [
    "df.tail()"
   ]
  },
  {
   "cell_type": "code",
   "execution_count": 6,
   "metadata": {},
   "outputs": [],
   "source": [
    "# to_datetime의 경우, string 타입의 시간을 Timestamp형으로 변경해주는 함수\n",
    "\n",
    "df['Working'] = pd.to_datetime(df['Working'])"
   ]
  },
  {
   "cell_type": "code",
   "execution_count": 7,
   "metadata": {},
   "outputs": [
    {
     "data": {
      "text/plain": [
       "0     2018-01-04\n",
       "1     2018-01-10\n",
       "2     2018-01-10\n",
       "3     2018-01-31\n",
       "4     2018-02-01\n",
       "         ...    \n",
       "511   2020-11-18\n",
       "512   2020-11-18\n",
       "513   2020-11-02\n",
       "514   2020-12-08\n",
       "515   2020-12-08\n",
       "Name: Working, Length: 516, dtype: datetime64[ns]"
      ]
     },
     "execution_count": 7,
     "metadata": {},
     "output_type": "execute_result"
    }
   ],
   "source": [
    "df['Working']"
   ]
  },
  {
   "cell_type": "code",
   "execution_count": 8,
   "metadata": {},
   "outputs": [],
   "source": [
    "# 하기와 같이 set_index를 사용하여 Wokring(작업일자)를 기준으로 데이터 정리\n",
    "df.set_index('Working',inplace=True)"
   ]
  },
  {
   "cell_type": "code",
   "execution_count": 9,
   "metadata": {},
   "outputs": [
    {
     "data": {
      "text/plain": [
       "DatetimeIndex(['2018-01-04', '2018-01-10', '2018-01-10', '2018-01-31',\n",
       "               '2018-02-01', '2018-02-02', '2018-02-05', '2018-02-05',\n",
       "               '2018-02-06', '2018-02-06',\n",
       "               ...\n",
       "               '2020-11-16', '2020-11-17', '2020-12-08', '2020-11-17',\n",
       "               '2020-11-17', '2020-11-18', '2020-11-18', '2020-11-02',\n",
       "               '2020-12-08', '2020-12-08'],\n",
       "              dtype='datetime64[ns]', name='Working', length=516, freq=None)"
      ]
     },
     "execution_count": 9,
     "metadata": {},
     "output_type": "execute_result"
    }
   ],
   "source": [
    "df.index"
   ]
  },
  {
   "cell_type": "code",
   "execution_count": 10,
   "metadata": {},
   "outputs": [
    {
     "data": {
      "text/html": [
       "<div>\n",
       "<style scoped>\n",
       "    .dataframe tbody tr th:only-of-type {\n",
       "        vertical-align: middle;\n",
       "    }\n",
       "\n",
       "    .dataframe tbody tr th {\n",
       "        vertical-align: top;\n",
       "    }\n",
       "\n",
       "    .dataframe thead th {\n",
       "        text-align: right;\n",
       "    }\n",
       "</style>\n",
       "<table border=\"1\" class=\"dataframe\">\n",
       "  <thead>\n",
       "    <tr style=\"text-align: right;\">\n",
       "      <th></th>\n",
       "      <th>count</th>\n",
       "      <th>mean</th>\n",
       "      <th>std</th>\n",
       "      <th>min</th>\n",
       "      <th>25%</th>\n",
       "      <th>50%</th>\n",
       "      <th>75%</th>\n",
       "      <th>max</th>\n",
       "    </tr>\n",
       "  </thead>\n",
       "  <tbody>\n",
       "    <tr>\n",
       "      <th>Quantity</th>\n",
       "      <td>516.0</td>\n",
       "      <td>18.858527</td>\n",
       "      <td>13.182415</td>\n",
       "      <td>0.0</td>\n",
       "      <td>6.0</td>\n",
       "      <td>17.0</td>\n",
       "      <td>31.0</td>\n",
       "      <td>80.0</td>\n",
       "    </tr>\n",
       "  </tbody>\n",
       "</table>\n",
       "</div>"
      ],
      "text/plain": [
       "          count       mean        std  min  25%   50%   75%   max\n",
       "Quantity  516.0  18.858527  13.182415  0.0  6.0  17.0  31.0  80.0"
      ]
     },
     "execution_count": 10,
     "metadata": {},
     "output_type": "execute_result"
    }
   ],
   "source": [
    "# 작업 일자를 기준으로 수량의 개수, 평균, 표준편차, 최소값, 4분위, 최대값 확인\n",
    "df.describe().transpose()"
   ]
  },
  {
   "cell_type": "markdown",
   "metadata": {},
   "source": [
    "2단계: 이전 단계에서 정리했던 데이터를 바탕으로 시각화작업하기\n",
    "해당 데이터에서 일자로도 볼 수 있지만, 그래프가 복잡해질 수도 있어 여기서는 달 기준으로 4개월 간격으로 표시"
   ]
  },
  {
   "cell_type": "code",
   "execution_count": 12,
   "metadata": {},
   "outputs": [
    {
     "data": {
      "text/plain": [
       "<AxesSubplot:xlabel='Working'>"
      ]
     },
     "execution_count": 12,
     "metadata": {},
     "output_type": "execute_result"
    },
    {
     "data": {
      "image/png": "[encoded data removed]",
      "text/plain": [
       "<Figure size 432x288 with 1 Axes>"
      ]
     },
     "metadata": {
      "needs_background": "light"
     },
     "output_type": "display_data"
    }
   ],
   "source": [
    "df.plot()"
   ]
  },
  {
   "cell_type": "code",
   "execution_count": 13,
   "metadata": {},
   "outputs": [],
   "source": [
    "time_series = df['Quantity']"
   ]
  },
  {
   "cell_type": "code",
   "execution_count": 14,
   "metadata": {},
   "outputs": [
    {
     "data": {
      "text/plain": [
       "Working\n",
       "2018-01-04    40\n",
       "2018-01-10     4\n",
       "2018-01-10     4\n",
       "2018-01-31     5\n",
       "2018-02-01     6\n",
       "              ..\n",
       "2020-11-18    19\n",
       "2020-11-18    21\n",
       "2020-11-02    32\n",
       "2020-12-08     2\n",
       "2020-12-08     2\n",
       "Name: Quantity, Length: 516, dtype: int64"
      ]
     },
     "execution_count": 14,
     "metadata": {},
     "output_type": "execute_result"
    }
   ],
   "source": [
    "# 해당 기능을 사용하여 각 일자에 해당 장비에서 몇 개 생산되었는지 확인\n",
    "time_series"
   ]
  },
  {
   "cell_type": "code",
   "execution_count": 15,
   "metadata": {},
   "outputs": [
    {
     "data": {
      "text/plain": [
       "pandas.core.series.Series"
      ]
     },
     "execution_count": 15,
     "metadata": {},
     "output_type": "execute_result"
    }
   ],
   "source": [
    "type(time_series)"
   ]
  },
  {
   "cell_type": "code",
   "execution_count": 16,
   "metadata": {},
   "outputs": [
    {
     "data": {
      "text/plain": [
       "<matplotlib.legend.Legend at 0x2578e526880>"
      ]
     },
     "execution_count": 16,
     "metadata": {},
     "output_type": "execute_result"
    },
    {
     "data": {
      "image/png": "[encoded data removed]",
      "text/plain": [
       "<Figure size 432x288 with 1 Axes>"
      ]
     },
     "metadata": {
      "needs_background": "light"
     },
     "output_type": "display_data"
    }
   ],
   "source": [
    "# 현재 데이터의 경우, 대략 3년 정도의 데이터를 가지고 있기 때문에 여기에서 또한 36개월을 반영\n",
    "time_series.rolling(36).mean().plot(label='36 Month Rolling Mean')\n",
    "time_series.rolling(36).std().plot(label='36 Month Rolling Std')\n",
    "time_series.plot()\n",
    "plt.legend()"
   ]
  },
  {
   "cell_type": "markdown",
   "metadata": {},
   "source": [
    "- 시계열 데이터는 보통 stationary의 특성을 가지고 있지 않다. \n",
    "- 시간에 따라 통계적 특성이 변하기 때문이다. 그렇기에 일단 알기 쉽게 stationary로 변경할 필요가 있다. \n",
    "- 여기서는 우선 전통적인 ARIMA를 통해 시계열을 예측\n",
    "- ARIMA 모형은 과거의 데이터를 사용하는 것 뿐만 아니라 추세를 반영"
   ]
  },
  {
   "cell_type": "code",
   "execution_count": 1,
   "metadata": {},
   "outputs": [],
   "source": [
    "# Augmented Dickey-Fuller test( unit root test)를 통해 검증\n",
    "# 검증 조건 ( p-value : 5% 이내면 reject으로 대체가설 선택됨)\n",
    "\n",
    "from statsmodels.tsa.stattools import adfuller"
   ]
  },
  {
   "cell_type": "markdown",
   "metadata": {},
   "source": [
    "- Augmented Dicky-Fuller Test (검정통계량)\n",
    "    - 검정통계량이 Critical Value보다 작으면 Stationary한 시계열 데이터\n",
    "    - 또는 p-value가 설정한 신뢰 수준의 값 (ex. 0.05)보다 작으면 stationary한 시계열 데이터\n",
    "    \n",
    "- 하여 함수에서 0.05로 p-value를 기준으로 한 뒤, 그 이하이면  stationary로 표현하기 때문에 처음에는 stationary한 값이 나올 때가지 반복"
   ]
  },
  {
   "cell_type": "code",
   "execution_count": 22,
   "metadata": {},
   "outputs": [],
   "source": [
    "result = adfuller(df['Quantity'])"
   ]
  },
  {
   "cell_type": "code",
   "execution_count": 23,
   "metadata": {},
   "outputs": [],
   "source": [
    "def adf_check(time_series):\n",
    "    \n",
    "    result = adfuller(time_series)\n",
    "    print(\"Augmented Dicky-Fuller Test\")\n",
    "    labels = ['ADF Test Statistics','p-value','# of lags','Num of Observations']\n",
    "    \n",
    "    for value,label in zip(result,labels):\n",
    "        print(label+ \" : \"+str(value))\n",
    "        \n",
    "    if result[1] <= 0.05:\n",
    "        print(\"Strong evidence against null hypothesis\")\n",
    "        print(\"reject null hypothesis\")\n",
    "        print(\"Data has no unit root and is stationary\")\n",
    "    else:\n",
    "        print(\"Weak evidence against null hypothesis\")\n",
    "        print(\"Fail to reject null hypothesis\")\n",
    "        print(\"Data has a unit root and is non-stationary\")"
   ]
  },
  {
   "cell_type": "code",
   "execution_count": 24,
   "metadata": {},
   "outputs": [
    {
     "name": "stdout",
     "output_type": "stream",
     "text": [
      "Augmented Dicky-Fuller Test\n",
      "ADF Test Statistics : -2.590309789066895\n",
      "p-value : 0.09501662188734289\n",
      "# of lags : 16\n",
      "Num of Observations : 499\n",
      "Weak evidence against null hypothesis\n",
      "Fail to reject null hypothesis\n",
      "Data has a unit root and is non-stationary\n"
     ]
    }
   ],
   "source": [
    "# 현재의 Quantity를 가지고 실행하였을 때, non-stationary\n",
    "adf_check(df['Quantity'])"
   ]
  },
  {
   "cell_type": "markdown",
   "metadata": {},
   "source": [
    "- 우선 상기에서 원래의 Quantity를 가지고 하였을 때, non-stationary로 판별\n",
    "- 하여 원래의 데이터에서 과거 데이터를 참고하여 추세를 반영하기 위하여 한 칸씩 값이 밀린 결과값을 빼 추세를 반영\n",
    "- 한 칸씩 값이 밀렸다는 의미는, 2018년 1월 4일의 40개가 1월 10일에 들어가고, 1월 10일에 들어있던 값이 그 뒤의 날짜로 이동했다는 의미"
   ]
  },
  {
   "cell_type": "code",
   "execution_count": 25,
   "metadata": {},
   "outputs": [],
   "source": [
    "df['First Difference'] = df['Quantity'] - df['Quantity'].shift(1) # 이건 값들이 하나씩 뒤로 넘어감"
   ]
  },
  {
   "cell_type": "code",
   "execution_count": 26,
   "metadata": {},
   "outputs": [
    {
     "data": {
      "text/plain": [
       "<AxesSubplot:xlabel='Working'>"
      ]
     },
     "execution_count": 26,
     "metadata": {},
     "output_type": "execute_result"
    },
    {
     "data": {
      "image/png": "[encoded data removed]",
      "text/plain": [
       "<Figure size 432x288 with 1 Axes>"
      ]
     },
     "metadata": {
      "needs_background": "light"
     },
     "output_type": "display_data"
    }
   ],
   "source": [
    "df['First Difference'].plot()"
   ]
  },
  {
   "cell_type": "code",
   "execution_count": 27,
   "metadata": {},
   "outputs": [
    {
     "name": "stdout",
     "output_type": "stream",
     "text": [
      "Augmented Dicky-Fuller Test\n",
      "ADF Test Statistics : -9.741788834895099\n",
      "p-value : 8.457574917500374e-17\n",
      "# of lags : 15\n",
      "Num of Observations : 499\n",
      "Strong evidence against null hypothesis\n",
      "reject null hypothesis\n",
      "Data has no unit root and is stationary\n"
     ]
    }
   ],
   "source": [
    "adf_check(df['First Difference'].dropna())"
   ]
  },
  {
   "cell_type": "markdown",
   "metadata": {},
   "source": [
    "- 상기의 결과를 보면 stationary한 결과값이 나왔기 때문에 해당 작업은 여기서 종료\n",
    "- 대신, 계절성을 반영하기 위하여 seasonal difference를 적용\n",
    "- 계절성을 반영하기 위해 1년을 기준으로 하여 값이 12개를 기준으로 뒤로 밀리게 된다. \n",
    "- 그래프로 보면 전에 있던 그래프와 차이가 발생한 것을 볼 수 있다. "
   ]
  },
  {
   "cell_type": "code",
   "execution_count": 30,
   "metadata": {},
   "outputs": [],
   "source": [
    "df['Seasonal Difference'] = df['Quantity'] - df['Quantity'].shift(12)"
   ]
  },
  {
   "cell_type": "code",
   "execution_count": 31,
   "metadata": {},
   "outputs": [
    {
     "data": {
      "text/plain": [
       "<AxesSubplot:xlabel='Working'>"
      ]
     },
     "execution_count": 31,
     "metadata": {},
     "output_type": "execute_result"
    },
    {
     "data": {
      "image/png": "[encoded data removed]",
      "text/plain": [
       "<Figure size 432x288 with 1 Axes>"
      ]
     },
     "metadata": {
      "needs_background": "light"
     },
     "output_type": "display_data"
    }
   ],
   "source": [
    "df['Seasonal Difference'].plot()"
   ]
  },
  {
   "cell_type": "code",
   "execution_count": 32,
   "metadata": {},
   "outputs": [
    {
     "name": "stdout",
     "output_type": "stream",
     "text": [
      "Augmented Dicky-Fuller Test\n",
      "ADF Test Statistics : -5.557916422488652\n",
      "p-value : 1.5655802303877128e-06\n",
      "# of lags : 16\n",
      "Num of Observations : 487\n",
      "Strong evidence against null hypothesis\n",
      "reject null hypothesis\n",
      "Data has no unit root and is stationary\n"
     ]
    }
   ],
   "source": [
    "adf_check(df['Seasonal Difference'].dropna())"
   ]
  },
  {
   "cell_type": "code",
   "execution_count": 33,
   "metadata": {},
   "outputs": [],
   "source": [
    "df['Seasonal First Difference'] = df['First Difference'] - df['First Difference'].shift(12)"
   ]
  },
  {
   "cell_type": "markdown",
   "metadata": {},
   "source": [
    "- 상기의 경우, 결과값이 stationary가 나왔지만, 계절성을 반영하지 않은 것을 2번 하였기 때문에 여기서도 그냥 같이 2번 진행함"
   ]
  },
  {
   "cell_type": "code",
   "execution_count": 34,
   "metadata": {},
   "outputs": [
    {
     "data": {
      "text/plain": [
       "<AxesSubplot:xlabel='Working'>"
      ]
     },
     "execution_count": 34,
     "metadata": {},
     "output_type": "execute_result"
    },
    {
     "data": {
      "image/png": "[encoded data removed]",
      "text/plain": [
       "<Figure size 432x288 with 1 Axes>"
      ]
     },
     "metadata": {
      "needs_background": "light"
     },
     "output_type": "display_data"
    }
   ],
   "source": [
    "df['Seasonal First Difference'].plot()"
   ]
  },
  {
   "cell_type": "code",
   "execution_count": 35,
   "metadata": {},
   "outputs": [
    {
     "name": "stdout",
     "output_type": "stream",
     "text": [
      "Augmented Dicky-Fuller Test\n",
      "ADF Test Statistics : -11.640040636169912\n",
      "p-value : 2.1579409513722888e-21\n",
      "# of lags : 15\n",
      "Num of Observations : 487\n",
      "Strong evidence against null hypothesis\n",
      "reject null hypothesis\n",
      "Data has no unit root and is stationary\n"
     ]
    }
   ],
   "source": [
    "adf_check(df['Seasonal First Difference'].dropna())"
   ]
  },
  {
   "cell_type": "markdown",
   "metadata": {},
   "source": [
    "3단계: ACF와 PACF plot 반영\n",
    "\n",
    "- ARIMA의 경우, 자기상관성을 가지고 있기 때문에 ACF 값을 확인해 볼 필요가 있다. \n",
    "- 하기의 그래프를 확인해보면 처음과 두 번째의 경우가, 다른 시차들보다 높은 결과를 가지게 된다.\n",
    "- 만약 계절성이 잘 반영이 되었다면 1년에서 4개월 각 분기마다 패턴이 드러나야 하지만, 그렇지 않고 있다. \n",
    "- 그렇다면 해당 생산의 경우, 계절성이 없을 수도 있겠구나 추측해 볼 수 있다. "
   ]
  },
  {
   "cell_type": "code",
   "execution_count": 36,
   "metadata": {},
   "outputs": [],
   "source": [
    "# 3단계 : ACF와 PACF plot 반영"
   ]
  },
  {
   "cell_type": "code",
   "execution_count": 37,
   "metadata": {},
   "outputs": [],
   "source": [
    "from statsmodels.graphics.tsaplots import plot_acf,plot_pacf"
   ]
  },
  {
   "cell_type": "code",
   "execution_count": 38,
   "metadata": {},
   "outputs": [
    {
     "data": {
      "image/png": "[encoded data removed]",
      "text/plain": [
       "<Figure size 432x288 with 1 Axes>"
      ]
     },
     "metadata": {
      "needs_background": "light"
     },
     "output_type": "display_data"
    }
   ],
   "source": [
    "fig_first = plot_acf(df['First Difference'].dropna())"
   ]
  },
  {
   "cell_type": "markdown",
   "metadata": {},
   "source": [
    "- 현재 여기서 파란색으로 색칠판 부분은 백색 잡음을 나타낸다고 볼 수 있다. \n",
    "- 백색잡음이란 자기상관이 없는 시계열을 나타낼 때 부르는 용어\n",
    "- 해당 범위를 벗어나는 데이터의 5% 이상이 해당 경게를 벗어난다면 백색 잡음이 아니라는 말\n",
    "- 하지만 현재 데이터는 처음 부분을 제외하고는 백색 잡음이 아니라는 것을 볼 수 있다. "
   ]
  },
  {
   "cell_type": "code",
   "execution_count": 39,
   "metadata": {},
   "outputs": [
    {
     "data": {
      "image/png": "[encoded data removed]",
      "text/plain": [
       "<Figure size 432x288 with 1 Axes>"
      ]
     },
     "metadata": {
      "needs_background": "light"
     },
     "output_type": "display_data"
    }
   ],
   "source": [
    "fig_seasonal_first = plot_acf(df['Seasonal First Difference'].dropna())"
   ]
  },
  {
   "cell_type": "code",
   "execution_count": 42,
   "metadata": {},
   "outputs": [
    {
     "data": {
      "text/plain": [
       "<AxesSubplot:xlabel='Lag', ylabel='Autocorrelation'>"
      ]
     },
     "execution_count": 42,
     "metadata": {},
     "output_type": "execute_result"
    },
    {
     "data": {
      "image/png": "[encoded data removed]",
      "text/plain": [
       "<Figure size 432x288 with 1 Axes>"
      ]
     },
     "metadata": {
      "needs_background": "light"
     },
     "output_type": "display_data"
    }
   ],
   "source": [
    "autocorrelation_plot(df['Seasonal First Difference'].dropna())"
   ]
  },
  {
   "cell_type": "markdown",
   "metadata": {},
   "source": [
    "- 하지만 하기 그래프 (즉 계절성 2번째를 반영했던 값)들의 경우, 백색 잡음을 나타낸다. \n",
    "- 잡음을 I.I.D를 따르는 확률변수로 과정을 정상화과정이라고 한다.  "
   ]
  },
  {
   "cell_type": "code",
   "execution_count": 43,
   "metadata": {},
   "outputs": [
    {
     "data": {
      "image/png": "[encoded data removed]",
      "text/plain": [
       "<Figure size 432x288 with 1 Axes>"
      ]
     },
     "metadata": {
      "needs_background": "light"
     },
     "output_type": "display_data"
    }
   ],
   "source": [
    "result = plot_pacf(df['Seasonal First Difference'].dropna())"
   ]
  },
  {
   "cell_type": "markdown",
   "metadata": {},
   "source": [
    "If the autocorrelation plot shows positive autocorrelation at the first lag (lag-1), then it suggests to use the AR terms in relation to the lag.If the autocorrelation plot shows negative autocorrelation at the first lag, then it suggests using MA terms.\n",
    "\n",
    "This will allow us to decide what actual values of p,d and q to provide for our ARIMA model.\n",
    "\n",
    "p --> # of lag observations\n",
    "\n",
    "d --> # of times that raw observations are differenced\n",
    "\n",
    "\n",
    "q --> the size of the moving average window, also called the order of moving average\n",
    "\n",
    "Now we will plot a pacf. In general, a partial correlation is a conditional correlation.\n",
    "\n",
    "It is the correlation between two variables under the assumption that we know and take into account the values of some other set of variables.\n",
    "\n",
    "Typically a sharp drop after lag \"k\" suggests an AR-k model should be used. If there is a gradual decline, it suggests an MA model."
   ]
  },
  {
   "cell_type": "code",
   "execution_count": 45,
   "metadata": {},
   "outputs": [
    {
     "data": {
      "image/png": "[encoded data removed]",
      "text/plain": [
       "<Figure size 432x288 with 1 Axes>"
      ]
     },
     "metadata": {
      "needs_background": "light"
     },
     "output_type": "display_data"
    },
    {
     "data": {
      "image/png": "[encoded data removed]",
      "text/plain": [
       "<Figure size 432x288 with 1 Axes>"
      ]
     },
     "metadata": {
      "needs_background": "light"
     },
     "output_type": "display_data"
    }
   ],
   "source": [
    "plot_acf(df['Seasonal First Difference'].dropna());\n",
    "plot_pacf(df['Seasonal First Difference'].dropna());"
   ]
  },
  {
   "cell_type": "markdown",
   "metadata": {},
   "source": [
    "4단계: ARIMA 분석"
   ]
  },
  {
   "cell_type": "code",
   "execution_count": 47,
   "metadata": {},
   "outputs": [],
   "source": [
    "from statsmodels.tsa.arima_model import ARIMA"
   ]
  },
  {
   "cell_type": "code",
   "execution_count": 48,
   "metadata": {},
   "outputs": [
    {
     "name": "stdout",
     "output_type": "stream",
     "text": [
      "Help on class ARIMA in module statsmodels.tsa.arima_model:\n",
      "\n",
      "class ARIMA(ARMA)\n",
      " |  ARIMA(endog, order, exog=None, dates=None, freq=None, missing='none')\n",
      " |  \n",
      " |  Autoregressive Integrated Moving Average ARIMA(p,d,q) Model\n",
      " |  \n",
      " |  .. deprecated:: 0.12\n",
      " |     Use statsmodels.tsa.arima.model.ARIMA instead\n",
      " |  \n",
      " |  Parameters\n",
      " |  ----------\n",
      " |  endog : array_like\n",
      " |      The endogenous variable.\n",
      " |  order : iterable\n",
      " |      The (p,d,q) order of the model for the number of AR parameters,\n",
      " |      differences, and MA parameters to use.\n",
      " |  exog : array_like, optional\n",
      " |      An optional array of exogenous variables. This should *not* include a\n",
      " |      constant or trend. You can specify this in the `fit` method.\n",
      " |  dates : array_like, optional\n",
      " |      An array-like object of datetime objects. If a pandas object is given\n",
      " |      for endog or exog, it is assumed to have a DateIndex.\n",
      " |  freq : str, optional\n",
      " |      The frequency of the time-series. A Pandas offset or 'B', 'D', 'W',\n",
      " |      'M', 'A', or 'Q'. This is optional if dates are given.\n",
      " |  \n",
      " |  \n",
      " |  Notes\n",
      " |  -----\n",
      " |  If exogenous variables are given, then the model that is fit is\n",
      " |  \n",
      " |  .. math::\n",
      " |  \n",
      " |     \\phi(L)(y_t - X_t\\beta) = \\theta(L)\\epsilon_t\n",
      " |  \n",
      " |  where :math:`\\phi` and :math:`\\theta` are polynomials in the lag\n",
      " |  operator, :math:`L`. This is the regression model with ARMA errors,\n",
      " |  or ARMAX model. This specification is used, whether or not the model\n",
      " |  is fit using conditional sum of square or maximum-likelihood, using\n",
      " |  the `method` argument in\n",
      " |  :meth:`statsmodels.tsa.arima_model.ARIMA.fit`. Therefore, for\n",
      " |  now, `css` and `mle` refer to estimation methods only. This may\n",
      " |  change for the case of the `css` model in future versions.\n",
      " |  \n",
      " |  Method resolution order:\n",
      " |      ARIMA\n",
      " |      ARMA\n",
      " |      statsmodels.tsa.base.tsa_model.TimeSeriesModel\n",
      " |      statsmodels.base.model.LikelihoodModel\n",
      " |      statsmodels.base.model.Model\n",
      " |      builtins.object\n",
      " |  \n",
      " |  Methods defined here:\n",
      " |  \n",
      " |  __getnewargs__(self)\n",
      " |  \n",
      " |  __init__(self, endog, order, exog=None, dates=None, freq=None, missing='none')\n",
      " |      Initialize self.  See help(type(self)) for accurate signature.\n",
      " |  \n",
      " |  fit(self, start_params=None, trend='c', method='css-mle', transparams=True, solver='lbfgs', maxiter=500, full_output=1, disp=5, callback=None, start_ar_lags=None, **kwargs)\n",
      " |      Fits ARIMA(p,d,q) model by exact maximum likelihood via Kalman filter.\n",
      " |      \n",
      " |      Parameters\n",
      " |      ----------\n",
      " |      start_params : array_like, optional\n",
      " |          Starting parameters for ARMA(p,q).  If None, the default is given\n",
      " |          by ARMA._fit_start_params.  See there for more information.\n",
      " |      transparams : bool, optional\n",
      " |          Whether or not to transform the parameters to ensure stationarity.\n",
      " |          Uses the transformation suggested in Jones (1980).  If False,\n",
      " |          no checking for stationarity or invertibility is done.\n",
      " |      method : str {'css-mle','mle','css'}\n",
      " |          This is the loglikelihood to maximize.  If \"css-mle\", the\n",
      " |          conditional sum of squares likelihood is maximized and its values\n",
      " |          are used as starting values for the computation of the exact\n",
      " |          likelihood via the Kalman filter.  If \"mle\", the exact likelihood\n",
      " |          is maximized via the Kalman Filter.  If \"css\" the conditional sum\n",
      " |          of squares likelihood is maximized.  All three methods use\n",
      " |          `start_params` as starting parameters.  See above for more\n",
      " |          information.\n",
      " |      trend : str {'c','nc'}\n",
      " |          Whether to include a constant or not.  'c' includes constant,\n",
      " |          'nc' no constant.\n",
      " |      solver : str or None, optional\n",
      " |          Solver to be used.  The default is 'lbfgs' (limited memory\n",
      " |          Broyden-Fletcher-Goldfarb-Shanno).  Other choices are 'bfgs',\n",
      " |          'newton' (Newton-Raphson), 'nm' (Nelder-Mead), 'cg' -\n",
      " |          (conjugate gradient), 'ncg' (non-conjugate gradient), and\n",
      " |          'powell'. By default, the limited memory BFGS uses m=12 to\n",
      " |          approximate the Hessian, projected gradient tolerance of 1e-8 and\n",
      " |          factr = 1e2. You can change these by using kwargs.\n",
      " |      maxiter : int, optional\n",
      " |          The maximum number of function evaluations. Default is 500.\n",
      " |      tol : float\n",
      " |          The convergence tolerance.  Default is 1e-08.\n",
      " |      full_output : bool, optional\n",
      " |          If True, all output from solver will be available in\n",
      " |          the Results object's mle_retvals attribute.  Output is dependent\n",
      " |          on the solver.  See Notes for more information.\n",
      " |      disp : int, optional\n",
      " |          If True, convergence information is printed.  For the default\n",
      " |          l_bfgs_b solver, disp controls the frequency of the output during\n",
      " |          the iterations. disp < 0 means no output in this case.\n",
      " |      callback : function, optional\n",
      " |          Called after each iteration as callback(xk) where xk is the current\n",
      " |          parameter vector.\n",
      " |      start_ar_lags : int, optional\n",
      " |          Parameter for fitting start_params. When fitting start_params,\n",
      " |          residuals are obtained from an AR fit, then an ARMA(p,q) model is\n",
      " |          fit via OLS using these residuals. If start_ar_lags is None, fit\n",
      " |          an AR process according to best BIC. If start_ar_lags is not None,\n",
      " |          fits an AR process with a lag length equal to start_ar_lags.\n",
      " |          See ARMA._fit_start_params_hr for more information.\n",
      " |      **kwargs\n",
      " |          See Notes for keyword arguments that can be passed to fit.\n",
      " |      \n",
      " |      Returns\n",
      " |      -------\n",
      " |      `statsmodels.tsa.arima.ARIMAResults` class\n",
      " |      \n",
      " |      See Also\n",
      " |      --------\n",
      " |      statsmodels.base.model.LikelihoodModel.fit : for more information\n",
      " |          on using the solvers.\n",
      " |      ARIMAResults : results class returned by fit\n",
      " |      \n",
      " |      Notes\n",
      " |      -----\n",
      " |      If fit by 'mle', it is assumed for the Kalman Filter that the initial\n",
      " |      unknown state is zero, and that the initial variance is\n",
      " |      P = dot(inv(identity(m**2)-kron(T,T)),dot(R,R.T).ravel('F')).reshape(r,\n",
      " |      r, order = 'F')\n",
      " |  \n",
      " |  predict(self, params, start=None, end=None, exog=None, typ='linear', dynamic=False)\n",
      " |      ARIMA model in-sample and out-of-sample prediction\n",
      " |      \n",
      " |      Parameters\n",
      " |      ----------\n",
      " |      params : array_like\n",
      " |          The fitted parameters of the model.\n",
      " |      start : int, str, or datetime\n",
      " |          Zero-indexed observation number at which to start forecasting, ie.,\n",
      " |          the first forecast is start. Can also be a date string to\n",
      " |          parse or a datetime type.\n",
      " |      end : int, str, or datetime\n",
      " |          Zero-indexed observation number at which to end forecasting, ie.,\n",
      " |          the first forecast is start. Can also be a date string to\n",
      " |          parse or a datetime type. However, if the dates index does not\n",
      " |          have a fixed frequency, end must be an integer index if you\n",
      " |          want out of sample prediction.\n",
      " |      exog : array_like, optional\n",
      " |          If the model is an ARMAX and out-of-sample forecasting is\n",
      " |          requested, exog must be given. exog must be aligned so that exog[0]\n",
      " |          is used to produce the first out-of-sample forecast. The number of\n",
      " |          observation in exog should match the number of out-of-sample\n",
      " |          forecasts produced. If the length of exog does not match the number\n",
      " |          of forecasts, a SpecificationWarning is produced.\n",
      " |      dynamic : bool, optional\n",
      " |          The `dynamic` keyword affects in-sample prediction. If dynamic\n",
      " |          is False, then the in-sample lagged values are used for\n",
      " |          prediction. If `dynamic` is True, then in-sample forecasts are\n",
      " |          used in place of lagged dependent variables. The first forecast\n",
      " |          value is `start`.\n",
      " |      typ : str {'linear', 'levels'}\n",
      " |      \n",
      " |          - 'linear' : Linear prediction in terms of the differenced\n",
      " |            endogenous variables.\n",
      " |          - 'levels' : Predict the levels of the original endogenous\n",
      " |            variables.\n",
      " |      \n",
      " |      \n",
      " |      Returns\n",
      " |      -------\n",
      " |      predict : ndarray\n",
      " |          The predicted values.\n",
      " |      \n",
      " |      \n",
      " |      \n",
      " |      Notes\n",
      " |      -----\n",
      " |      Use the results predict method instead.\n",
      " |  \n",
      " |  ----------------------------------------------------------------------\n",
      " |  Static methods defined here:\n",
      " |  \n",
      " |  __new__(cls, endog, order, exog=None, dates=None, freq=None, missing='none')\n",
      " |      Create and return a new object.  See help(type) for accurate signature.\n",
      " |  \n",
      " |  ----------------------------------------------------------------------\n",
      " |  Methods inherited from ARMA:\n",
      " |  \n",
      " |  geterrors(self, params)\n",
      " |      Get the errors of the ARMA process.\n",
      " |      \n",
      " |      Parameters\n",
      " |      ----------\n",
      " |      params : array_like\n",
      " |          The fitted ARMA parameters\n",
      " |      order : array_like\n",
      " |          3 item iterable, with the number of AR, MA, and exogenous\n",
      " |          parameters, including the trend\n",
      " |  \n",
      " |  hessian(self, params)\n",
      " |      Compute the Hessian at params,\n",
      " |      \n",
      " |      Notes\n",
      " |      -----\n",
      " |      This is a numerical approximation.\n",
      " |  \n",
      " |  loglike(self, params, set_sigma2=True)\n",
      " |      Compute the log-likelihood for ARMA(p,q) model\n",
      " |      \n",
      " |      Notes\n",
      " |      -----\n",
      " |      Likelihood used depends on the method set in fit\n",
      " |  \n",
      " |  loglike_css(self, params, set_sigma2=True)\n",
      " |      Conditional Sum of Squares likelihood function.\n",
      " |  \n",
      " |  loglike_kalman(self, params, set_sigma2=True)\n",
      " |      Compute exact loglikelihood for ARMA(p,q) model by the Kalman Filter.\n",
      " |  \n",
      " |  score(self, params)\n",
      " |      Compute the score function at params.\n",
      " |      \n",
      " |      Notes\n",
      " |      -----\n",
      " |      This is a numerical approximation.\n",
      " |  \n",
      " |  ----------------------------------------------------------------------\n",
      " |  Class methods inherited from ARMA:\n",
      " |  \n",
      " |  from_formula(formula, data, subset=None, drop_cols=None, *args, **kwargs) from builtins.type\n",
      " |      Create a Model from a formula and dataframe.\n",
      " |      \n",
      " |      Parameters\n",
      " |      ----------\n",
      " |      formula : str or generic Formula object\n",
      " |          The formula specifying the model.\n",
      " |      data : array_like\n",
      " |          The data for the model. See Notes.\n",
      " |      subset : array_like\n",
      " |          An array-like object of booleans, integers, or index values that\n",
      " |          indicate the subset of df to use in the model. Assumes df is a\n",
      " |          `pandas.DataFrame`.\n",
      " |      drop_cols : array_like\n",
      " |          Columns to drop from the design matrix.  Cannot be used to\n",
      " |          drop terms involving categoricals.\n",
      " |      *args\n",
      " |          Additional positional argument that are passed to the model.\n",
      " |      **kwargs\n",
      " |          These are passed to the model with one exception. The\n",
      " |          ``eval_env`` keyword is passed to patsy. It can be either a\n",
      " |          :class:`patsy:patsy.EvalEnvironment` object or an integer\n",
      " |          indicating the depth of the namespace to use. For example, the\n",
      " |          default ``eval_env=0`` uses the calling namespace. If you wish\n",
      " |          to use a \"clean\" environment set ``eval_env=-1``.\n",
      " |      \n",
      " |      Returns\n",
      " |      -------\n",
      " |      model\n",
      " |          The model instance.\n",
      " |      \n",
      " |      Notes\n",
      " |      -----\n",
      " |      data must define __getitem__ with the keys in the formula terms\n",
      " |      args and kwargs are passed on to the model instantiation. E.g.,\n",
      " |      a numpy structured or rec array, a dictionary, or a pandas DataFrame.\n",
      " |  \n",
      " |  ----------------------------------------------------------------------\n",
      " |  Data descriptors inherited from statsmodels.tsa.base.tsa_model.TimeSeriesModel:\n",
      " |  \n",
      " |  exog_names\n",
      " |      The names of the exogenous variables.\n",
      " |  \n",
      " |  ----------------------------------------------------------------------\n",
      " |  Methods inherited from statsmodels.base.model.LikelihoodModel:\n",
      " |  \n",
      " |  information(self, params)\n",
      " |      Fisher information matrix of model.\n",
      " |      \n",
      " |      Returns -1 * Hessian of the log-likelihood evaluated at params.\n",
      " |      \n",
      " |      Parameters\n",
      " |      ----------\n",
      " |      params : ndarray\n",
      " |          The model parameters.\n",
      " |  \n",
      " |  initialize(self)\n",
      " |      Initialize (possibly re-initialize) a Model instance.\n",
      " |      \n",
      " |      For example, if the the design matrix of a linear model changes then\n",
      " |      initialized can be used to recompute values using the modified design\n",
      " |      matrix.\n",
      " |  \n",
      " |  ----------------------------------------------------------------------\n",
      " |  Readonly properties inherited from statsmodels.base.model.Model:\n",
      " |  \n",
      " |  endog_names\n",
      " |      Names of endogenous variables.\n",
      " |  \n",
      " |  ----------------------------------------------------------------------\n",
      " |  Data descriptors inherited from statsmodels.base.model.Model:\n",
      " |  \n",
      " |  __dict__\n",
      " |      dictionary for instance variables (if defined)\n",
      " |  \n",
      " |  __weakref__\n",
      " |      list of weak references to the object (if defined)\n",
      "\n"
     ]
    }
   ],
   "source": [
    "help(ARIMA)"
   ]
  },
  {
   "cell_type": "code",
   "execution_count": 49,
   "metadata": {},
   "outputs": [
    {
     "name": "stderr",
     "output_type": "stream",
     "text": [
      "C:\\Users\\user\\anaconda3\\lib\\site-packages\\statsmodels\\tsa\\base\\tsa_model.py:581: ValueWarning: A date index has been provided, but it has no associated frequency information and so will be ignored when e.g. forecasting.\n",
      "  warnings.warn('A date index has been provided, but it has no'\n",
      "C:\\Users\\user\\anaconda3\\lib\\site-packages\\statsmodels\\tsa\\base\\tsa_model.py:585: ValueWarning: A date index has been provided, but it is not monotonic and so will be ignored when e.g. forecasting.\n",
      "  warnings.warn('A date index has been provided, but it is not'\n",
      "C:\\Users\\user\\anaconda3\\lib\\site-packages\\statsmodels\\tsa\\base\\tsa_model.py:581: ValueWarning: A date index has been provided, but it has no associated frequency information and so will be ignored when e.g. forecasting.\n",
      "  warnings.warn('A date index has been provided, but it has no'\n",
      "C:\\Users\\user\\anaconda3\\lib\\site-packages\\statsmodels\\tsa\\base\\tsa_model.py:585: ValueWarning: A date index has been provided, but it is not monotonic and so will be ignored when e.g. forecasting.\n",
      "  warnings.warn('A date index has been provided, but it is not'\n"
     ]
    }
   ],
   "source": [
    "model = sm.tsa.statespace.SARIMAX(df['Quantity'],order=(0,1,0),seasonal_order=(1,1,1,12))"
   ]
  },
  {
   "cell_type": "code",
   "execution_count": 50,
   "metadata": {},
   "outputs": [],
   "source": [
    "results = model.fit()"
   ]
  },
  {
   "cell_type": "markdown",
   "metadata": {},
   "source": [
    "- 하기 데이터를 볼 때에는 우선 Covariance type을 간단하게 확인\n",
    "- p값이 유의수준(0.05)보다 작으면 통계적으로 유의하고, 반대인 경우에는 통계적으로 유의하지 않다. \n",
    "- 여기서는 통계적으로 유의미하다는 것을 호가인해 볼 수 있다. "
   ]
  },
  {
   "cell_type": "code",
   "execution_count": 51,
   "metadata": {},
   "outputs": [
    {
     "name": "stdout",
     "output_type": "stream",
     "text": [
      "                                      SARIMAX Results                                       \n",
      "============================================================================================\n",
      "Dep. Variable:                             Quantity   No. Observations:                  516\n",
      "Model:             SARIMAX(0, 1, 0)x(1, 1, [1], 12)   Log Likelihood               -2090.308\n",
      "Date:                              Fri, 04 Jun 2021   AIC                           4186.616\n",
      "Time:                                      04:30:39   BIC                           4199.277\n",
      "Sample:                                           0   HQIC                          4191.583\n",
      "                                              - 516                                         \n",
      "Covariance Type:                                opg                                         \n",
      "==============================================================================\n",
      "                 coef    std err          z      P>|z|      [0.025      0.975]\n",
      "------------------------------------------------------------------------------\n",
      "ar.S.L12      -0.0460      0.046     -1.005      0.315      -0.136       0.044\n",
      "ma.S.L12      -0.9982      0.704     -1.418      0.156      -2.378       0.381\n",
      "sigma2       217.7420    149.858      1.453      0.146     -75.974     511.458\n",
      "===================================================================================\n",
      "Ljung-Box (L1) (Q):                  59.74   Jarque-Bera (JB):                30.13\n",
      "Prob(Q):                              0.00   Prob(JB):                         0.00\n",
      "Heteroskedasticity (H):               1.47   Skew:                             0.11\n",
      "Prob(H) (two-sided):                  0.01   Kurtosis:                         4.18\n",
      "===================================================================================\n",
      "\n",
      "Warnings:\n",
      "[1] Covariance matrix calculated using the outer product of gradients (complex-step).\n"
     ]
    }
   ],
   "source": [
    "print(results.summary())"
   ]
  },
  {
   "cell_type": "code",
   "execution_count": 52,
   "metadata": {},
   "outputs": [
    {
     "data": {
      "text/plain": [
       "<AxesSubplot:xlabel='Working'>"
      ]
     },
     "execution_count": 52,
     "metadata": {},
     "output_type": "execute_result"
    },
    {
     "data": {
      "image/png": "[encoded data removed]",
      "text/plain": [
       "<Figure size 432x288 with 1 Axes>"
      ]
     },
     "metadata": {
      "needs_background": "light"
     },
     "output_type": "display_data"
    }
   ],
   "source": [
    "results.resid.plot()"
   ]
  },
  {
   "cell_type": "code",
   "execution_count": 53,
   "metadata": {},
   "outputs": [
    {
     "data": {
      "text/plain": [
       "<AxesSubplot:ylabel='Density'>"
      ]
     },
     "execution_count": 53,
     "metadata": {},
     "output_type": "execute_result"
    },
    {
     "data": {
      "image/png": "[encoded data removed]",
      "text/plain": [
       "<Figure size 432x288 with 1 Axes>"
      ]
     },
     "metadata": {
      "needs_background": "light"
     },
     "output_type": "display_data"
    }
   ],
   "source": [
    "results.resid.plot(kind='kde')"
   ]
  },
  {
   "cell_type": "markdown",
   "metadata": {},
   "source": [
    "- 하기 그래프를 통해 실제 값과 과거 시계열 데이트의 추세를 반영한 Forecast와 비교\n",
    "- 거의 유사하며 2020년 5월부터 2021.01 전까지의 데이터에서 많은 차이가 발생한 것을 제외하고는 대부분 예측이 잘되는 것으로 추측\n",
    "- 실제 order와 forecast를 비교한 값은 아래에 표시"
   ]
  },
  {
   "cell_type": "code",
   "execution_count": 57,
   "metadata": {},
   "outputs": [
    {
     "data": {
      "text/plain": [
       "<AxesSubplot:xlabel='Working'>"
      ]
     },
     "execution_count": 57,
     "metadata": {},
     "output_type": "execute_result"
    },
    {
     "data": {
      "image/png": "[encoded data removed]",
      "text/plain": [
       "<Figure size 864x576 with 1 Axes>"
      ]
     },
     "metadata": {
      "needs_background": "light"
     },
     "output_type": "display_data"
    }
   ],
   "source": [
    "df['forecast'] = results.predict(start = None, end = None)\n",
    "df[['Quantity','forecast']].plot(figsize=(12,8))"
   ]
  },
  {
   "cell_type": "code",
   "execution_count": 58,
   "metadata": {},
   "outputs": [
    {
     "data": {
      "text/html": [
       "<div>\n",
       "<style scoped>\n",
       "    .dataframe tbody tr th:only-of-type {\n",
       "        vertical-align: middle;\n",
       "    }\n",
       "\n",
       "    .dataframe tbody tr th {\n",
       "        vertical-align: top;\n",
       "    }\n",
       "\n",
       "    .dataframe thead th {\n",
       "        text-align: right;\n",
       "    }\n",
       "</style>\n",
       "<table border=\"1\" class=\"dataframe\">\n",
       "  <thead>\n",
       "    <tr style=\"text-align: right;\">\n",
       "      <th></th>\n",
       "      <th>Quantity</th>\n",
       "      <th>First Difference</th>\n",
       "      <th>Seasonal Difference</th>\n",
       "      <th>Seasonal First Difference</th>\n",
       "      <th>forecast</th>\n",
       "    </tr>\n",
       "    <tr>\n",
       "      <th>Working</th>\n",
       "      <th></th>\n",
       "      <th></th>\n",
       "      <th></th>\n",
       "      <th></th>\n",
       "      <th></th>\n",
       "    </tr>\n",
       "  </thead>\n",
       "  <tbody>\n",
       "    <tr>\n",
       "      <th>2020-11-18</th>\n",
       "      <td>19</td>\n",
       "      <td>-5.0</td>\n",
       "      <td>6.0</td>\n",
       "      <td>1.0</td>\n",
       "      <td>24.451872</td>\n",
       "    </tr>\n",
       "    <tr>\n",
       "      <th>2020-11-18</th>\n",
       "      <td>21</td>\n",
       "      <td>2.0</td>\n",
       "      <td>15.0</td>\n",
       "      <td>9.0</td>\n",
       "      <td>19.434525</td>\n",
       "    </tr>\n",
       "    <tr>\n",
       "      <th>2020-11-02</th>\n",
       "      <td>32</td>\n",
       "      <td>11.0</td>\n",
       "      <td>-4.0</td>\n",
       "      <td>-19.0</td>\n",
       "      <td>19.236068</td>\n",
       "    </tr>\n",
       "    <tr>\n",
       "      <th>2020-12-08</th>\n",
       "      <td>2</td>\n",
       "      <td>-30.0</td>\n",
       "      <td>-5.0</td>\n",
       "      <td>-1.0</td>\n",
       "      <td>33.564528</td>\n",
       "    </tr>\n",
       "    <tr>\n",
       "      <th>2020-12-08</th>\n",
       "      <td>2</td>\n",
       "      <td>0.0</td>\n",
       "      <td>-10.0</td>\n",
       "      <td>-5.0</td>\n",
       "      <td>1.096406</td>\n",
       "    </tr>\n",
       "  </tbody>\n",
       "</table>\n",
       "</div>"
      ],
      "text/plain": [
       "            Quantity  First Difference  Seasonal Difference  \\\n",
       "Working                                                       \n",
       "2020-11-18        19              -5.0                  6.0   \n",
       "2020-11-18        21               2.0                 15.0   \n",
       "2020-11-02        32              11.0                 -4.0   \n",
       "2020-12-08         2             -30.0                 -5.0   \n",
       "2020-12-08         2               0.0                -10.0   \n",
       "\n",
       "            Seasonal First Difference   forecast  \n",
       "Working                                           \n",
       "2020-11-18                        1.0  24.451872  \n",
       "2020-11-18                        9.0  19.434525  \n",
       "2020-11-02                      -19.0  19.236068  \n",
       "2020-12-08                       -1.0  33.564528  \n",
       "2020-12-08                       -5.0   1.096406  "
      ]
     },
     "execution_count": 58,
     "metadata": {},
     "output_type": "execute_result"
    }
   ],
   "source": [
    "df.tail()"
   ]
  },
  {
   "cell_type": "code",
   "execution_count": 59,
   "metadata": {},
   "outputs": [
    {
     "data": {
      "text/plain": [
       "516"
      ]
     },
     "execution_count": 59,
     "metadata": {},
     "output_type": "execute_result"
    }
   ],
   "source": [
    "len(df)"
   ]
  },
  {
   "cell_type": "markdown",
   "metadata": {},
   "source": [
    "하기의 경우, 분석한 과거 추세를 바탕으로 미래의 24개월(2년치) 수량을 예측하고자 하는 것\n",
    "- 처음에는 모든 값에 NaN이 들어가 있지만, 예측을 통해 해당 값을 채울 예정\n",
    "- 현재는 정확하게 수량이 반영이 되지 않았지만, 코드를 수정하여 Forecast 값을 확인할 예정"
   ]
  },
  {
   "cell_type": "code",
   "execution_count": 60,
   "metadata": {},
   "outputs": [],
   "source": [
    "from pandas.tseries.offsets import DateOffset"
   ]
  },
  {
   "cell_type": "code",
   "execution_count": 61,
   "metadata": {},
   "outputs": [],
   "source": [
    "future_dates = [df.index[-1] + DateOffset(months=x) for x in range(1,24)]"
   ]
  },
  {
   "cell_type": "code",
   "execution_count": 62,
   "metadata": {},
   "outputs": [
    {
     "data": {
      "text/plain": [
       "[Timestamp('2021-01-08 00:00:00'),\n",
       " Timestamp('2021-02-08 00:00:00'),\n",
       " Timestamp('2021-03-08 00:00:00'),\n",
       " Timestamp('2021-04-08 00:00:00'),\n",
       " Timestamp('2021-05-08 00:00:00'),\n",
       " Timestamp('2021-06-08 00:00:00'),\n",
       " Timestamp('2021-07-08 00:00:00'),\n",
       " Timestamp('2021-08-08 00:00:00'),\n",
       " Timestamp('2021-09-08 00:00:00'),\n",
       " Timestamp('2021-10-08 00:00:00'),\n",
       " Timestamp('2021-11-08 00:00:00'),\n",
       " Timestamp('2021-12-08 00:00:00'),\n",
       " Timestamp('2022-01-08 00:00:00'),\n",
       " Timestamp('2022-02-08 00:00:00'),\n",
       " Timestamp('2022-03-08 00:00:00'),\n",
       " Timestamp('2022-04-08 00:00:00'),\n",
       " Timestamp('2022-05-08 00:00:00'),\n",
       " Timestamp('2022-06-08 00:00:00'),\n",
       " Timestamp('2022-07-08 00:00:00'),\n",
       " Timestamp('2022-08-08 00:00:00'),\n",
       " Timestamp('2022-09-08 00:00:00'),\n",
       " Timestamp('2022-10-08 00:00:00'),\n",
       " Timestamp('2022-11-08 00:00:00')]"
      ]
     },
     "execution_count": 62,
     "metadata": {},
     "output_type": "execute_result"
    }
   ],
   "source": [
    "future_dates"
   ]
  },
  {
   "cell_type": "code",
   "execution_count": 63,
   "metadata": {},
   "outputs": [],
   "source": [
    "future_df = pd.DataFrame(index=future_dates,columns=df.columns)"
   ]
  },
  {
   "cell_type": "code",
   "execution_count": 64,
   "metadata": {},
   "outputs": [
    {
     "data": {
      "text/html": [
       "<div>\n",
       "<style scoped>\n",
       "    .dataframe tbody tr th:only-of-type {\n",
       "        vertical-align: middle;\n",
       "    }\n",
       "\n",
       "    .dataframe tbody tr th {\n",
       "        vertical-align: top;\n",
       "    }\n",
       "\n",
       "    .dataframe thead th {\n",
       "        text-align: right;\n",
       "    }\n",
       "</style>\n",
       "<table border=\"1\" class=\"dataframe\">\n",
       "  <thead>\n",
       "    <tr style=\"text-align: right;\">\n",
       "      <th></th>\n",
       "      <th>Quantity</th>\n",
       "      <th>First Difference</th>\n",
       "      <th>Seasonal Difference</th>\n",
       "      <th>Seasonal First Difference</th>\n",
       "      <th>forecast</th>\n",
       "    </tr>\n",
       "  </thead>\n",
       "  <tbody>\n",
       "    <tr>\n",
       "      <th>2021-01-08</th>\n",
       "      <td>NaN</td>\n",
       "      <td>NaN</td>\n",
       "      <td>NaN</td>\n",
       "      <td>NaN</td>\n",
       "      <td>NaN</td>\n",
       "    </tr>\n",
       "    <tr>\n",
       "      <th>2021-02-08</th>\n",
       "      <td>NaN</td>\n",
       "      <td>NaN</td>\n",
       "      <td>NaN</td>\n",
       "      <td>NaN</td>\n",
       "      <td>NaN</td>\n",
       "    </tr>\n",
       "    <tr>\n",
       "      <th>2021-03-08</th>\n",
       "      <td>NaN</td>\n",
       "      <td>NaN</td>\n",
       "      <td>NaN</td>\n",
       "      <td>NaN</td>\n",
       "      <td>NaN</td>\n",
       "    </tr>\n",
       "    <tr>\n",
       "      <th>2021-04-08</th>\n",
       "      <td>NaN</td>\n",
       "      <td>NaN</td>\n",
       "      <td>NaN</td>\n",
       "      <td>NaN</td>\n",
       "      <td>NaN</td>\n",
       "    </tr>\n",
       "    <tr>\n",
       "      <th>2021-05-08</th>\n",
       "      <td>NaN</td>\n",
       "      <td>NaN</td>\n",
       "      <td>NaN</td>\n",
       "      <td>NaN</td>\n",
       "      <td>NaN</td>\n",
       "    </tr>\n",
       "    <tr>\n",
       "      <th>2021-06-08</th>\n",
       "      <td>NaN</td>\n",
       "      <td>NaN</td>\n",
       "      <td>NaN</td>\n",
       "      <td>NaN</td>\n",
       "      <td>NaN</td>\n",
       "    </tr>\n",
       "    <tr>\n",
       "      <th>2021-07-08</th>\n",
       "      <td>NaN</td>\n",
       "      <td>NaN</td>\n",
       "      <td>NaN</td>\n",
       "      <td>NaN</td>\n",
       "      <td>NaN</td>\n",
       "    </tr>\n",
       "    <tr>\n",
       "      <th>2021-08-08</th>\n",
       "      <td>NaN</td>\n",
       "      <td>NaN</td>\n",
       "      <td>NaN</td>\n",
       "      <td>NaN</td>\n",
       "      <td>NaN</td>\n",
       "    </tr>\n",
       "    <tr>\n",
       "      <th>2021-09-08</th>\n",
       "      <td>NaN</td>\n",
       "      <td>NaN</td>\n",
       "      <td>NaN</td>\n",
       "      <td>NaN</td>\n",
       "      <td>NaN</td>\n",
       "    </tr>\n",
       "    <tr>\n",
       "      <th>2021-10-08</th>\n",
       "      <td>NaN</td>\n",
       "      <td>NaN</td>\n",
       "      <td>NaN</td>\n",
       "      <td>NaN</td>\n",
       "      <td>NaN</td>\n",
       "    </tr>\n",
       "    <tr>\n",
       "      <th>2021-11-08</th>\n",
       "      <td>NaN</td>\n",
       "      <td>NaN</td>\n",
       "      <td>NaN</td>\n",
       "      <td>NaN</td>\n",
       "      <td>NaN</td>\n",
       "    </tr>\n",
       "    <tr>\n",
       "      <th>2021-12-08</th>\n",
       "      <td>NaN</td>\n",
       "      <td>NaN</td>\n",
       "      <td>NaN</td>\n",
       "      <td>NaN</td>\n",
       "      <td>NaN</td>\n",
       "    </tr>\n",
       "    <tr>\n",
       "      <th>2022-01-08</th>\n",
       "      <td>NaN</td>\n",
       "      <td>NaN</td>\n",
       "      <td>NaN</td>\n",
       "      <td>NaN</td>\n",
       "      <td>NaN</td>\n",
       "    </tr>\n",
       "    <tr>\n",
       "      <th>2022-02-08</th>\n",
       "      <td>NaN</td>\n",
       "      <td>NaN</td>\n",
       "      <td>NaN</td>\n",
       "      <td>NaN</td>\n",
       "      <td>NaN</td>\n",
       "    </tr>\n",
       "    <tr>\n",
       "      <th>2022-03-08</th>\n",
       "      <td>NaN</td>\n",
       "      <td>NaN</td>\n",
       "      <td>NaN</td>\n",
       "      <td>NaN</td>\n",
       "      <td>NaN</td>\n",
       "    </tr>\n",
       "    <tr>\n",
       "      <th>2022-04-08</th>\n",
       "      <td>NaN</td>\n",
       "      <td>NaN</td>\n",
       "      <td>NaN</td>\n",
       "      <td>NaN</td>\n",
       "      <td>NaN</td>\n",
       "    </tr>\n",
       "    <tr>\n",
       "      <th>2022-05-08</th>\n",
       "      <td>NaN</td>\n",
       "      <td>NaN</td>\n",
       "      <td>NaN</td>\n",
       "      <td>NaN</td>\n",
       "      <td>NaN</td>\n",
       "    </tr>\n",
       "    <tr>\n",
       "      <th>2022-06-08</th>\n",
       "      <td>NaN</td>\n",
       "      <td>NaN</td>\n",
       "      <td>NaN</td>\n",
       "      <td>NaN</td>\n",
       "      <td>NaN</td>\n",
       "    </tr>\n",
       "    <tr>\n",
       "      <th>2022-07-08</th>\n",
       "      <td>NaN</td>\n",
       "      <td>NaN</td>\n",
       "      <td>NaN</td>\n",
       "      <td>NaN</td>\n",
       "      <td>NaN</td>\n",
       "    </tr>\n",
       "    <tr>\n",
       "      <th>2022-08-08</th>\n",
       "      <td>NaN</td>\n",
       "      <td>NaN</td>\n",
       "      <td>NaN</td>\n",
       "      <td>NaN</td>\n",
       "      <td>NaN</td>\n",
       "    </tr>\n",
       "    <tr>\n",
       "      <th>2022-09-08</th>\n",
       "      <td>NaN</td>\n",
       "      <td>NaN</td>\n",
       "      <td>NaN</td>\n",
       "      <td>NaN</td>\n",
       "      <td>NaN</td>\n",
       "    </tr>\n",
       "    <tr>\n",
       "      <th>2022-10-08</th>\n",
       "      <td>NaN</td>\n",
       "      <td>NaN</td>\n",
       "      <td>NaN</td>\n",
       "      <td>NaN</td>\n",
       "      <td>NaN</td>\n",
       "    </tr>\n",
       "    <tr>\n",
       "      <th>2022-11-08</th>\n",
       "      <td>NaN</td>\n",
       "      <td>NaN</td>\n",
       "      <td>NaN</td>\n",
       "      <td>NaN</td>\n",
       "      <td>NaN</td>\n",
       "    </tr>\n",
       "  </tbody>\n",
       "</table>\n",
       "</div>"
      ],
      "text/plain": [
       "           Quantity First Difference Seasonal Difference  \\\n",
       "2021-01-08      NaN              NaN                 NaN   \n",
       "2021-02-08      NaN              NaN                 NaN   \n",
       "2021-03-08      NaN              NaN                 NaN   \n",
       "2021-04-08      NaN              NaN                 NaN   \n",
       "2021-05-08      NaN              NaN                 NaN   \n",
       "2021-06-08      NaN              NaN                 NaN   \n",
       "2021-07-08      NaN              NaN                 NaN   \n",
       "2021-08-08      NaN              NaN                 NaN   \n",
       "2021-09-08      NaN              NaN                 NaN   \n",
       "2021-10-08      NaN              NaN                 NaN   \n",
       "2021-11-08      NaN              NaN                 NaN   \n",
       "2021-12-08      NaN              NaN                 NaN   \n",
       "2022-01-08      NaN              NaN                 NaN   \n",
       "2022-02-08      NaN              NaN                 NaN   \n",
       "2022-03-08      NaN              NaN                 NaN   \n",
       "2022-04-08      NaN              NaN                 NaN   \n",
       "2022-05-08      NaN              NaN                 NaN   \n",
       "2022-06-08      NaN              NaN                 NaN   \n",
       "2022-07-08      NaN              NaN                 NaN   \n",
       "2022-08-08      NaN              NaN                 NaN   \n",
       "2022-09-08      NaN              NaN                 NaN   \n",
       "2022-10-08      NaN              NaN                 NaN   \n",
       "2022-11-08      NaN              NaN                 NaN   \n",
       "\n",
       "           Seasonal First Difference forecast  \n",
       "2021-01-08                       NaN      NaN  \n",
       "2021-02-08                       NaN      NaN  \n",
       "2021-03-08                       NaN      NaN  \n",
       "2021-04-08                       NaN      NaN  \n",
       "2021-05-08                       NaN      NaN  \n",
       "2021-06-08                       NaN      NaN  \n",
       "2021-07-08                       NaN      NaN  \n",
       "2021-08-08                       NaN      NaN  \n",
       "2021-09-08                       NaN      NaN  \n",
       "2021-10-08                       NaN      NaN  \n",
       "2021-11-08                       NaN      NaN  \n",
       "2021-12-08                       NaN      NaN  \n",
       "2022-01-08                       NaN      NaN  \n",
       "2022-02-08                       NaN      NaN  \n",
       "2022-03-08                       NaN      NaN  \n",
       "2022-04-08                       NaN      NaN  \n",
       "2022-05-08                       NaN      NaN  \n",
       "2022-06-08                       NaN      NaN  \n",
       "2022-07-08                       NaN      NaN  \n",
       "2022-08-08                       NaN      NaN  \n",
       "2022-09-08                       NaN      NaN  \n",
       "2022-10-08                       NaN      NaN  \n",
       "2022-11-08                       NaN      NaN  "
      ]
     },
     "execution_count": 64,
     "metadata": {},
     "output_type": "execute_result"
    }
   ],
   "source": [
    "future_df"
   ]
  },
  {
   "cell_type": "code",
   "execution_count": 65,
   "metadata": {},
   "outputs": [],
   "source": [
    "final_df = pd.concat([df,future_df])"
   ]
  },
  {
   "cell_type": "code",
   "execution_count": 66,
   "metadata": {},
   "outputs": [
    {
     "data": {
      "text/html": [
       "<div>\n",
       "<style scoped>\n",
       "    .dataframe tbody tr th:only-of-type {\n",
       "        vertical-align: middle;\n",
       "    }\n",
       "\n",
       "    .dataframe tbody tr th {\n",
       "        vertical-align: top;\n",
       "    }\n",
       "\n",
       "    .dataframe thead th {\n",
       "        text-align: right;\n",
       "    }\n",
       "</style>\n",
       "<table border=\"1\" class=\"dataframe\">\n",
       "  <thead>\n",
       "    <tr style=\"text-align: right;\">\n",
       "      <th></th>\n",
       "      <th>Quantity</th>\n",
       "      <th>First Difference</th>\n",
       "      <th>Seasonal Difference</th>\n",
       "      <th>Seasonal First Difference</th>\n",
       "      <th>forecast</th>\n",
       "    </tr>\n",
       "  </thead>\n",
       "  <tbody>\n",
       "    <tr>\n",
       "      <th>2022-07-08</th>\n",
       "      <td>NaN</td>\n",
       "      <td>NaN</td>\n",
       "      <td>NaN</td>\n",
       "      <td>NaN</td>\n",
       "      <td>NaN</td>\n",
       "    </tr>\n",
       "    <tr>\n",
       "      <th>2022-08-08</th>\n",
       "      <td>NaN</td>\n",
       "      <td>NaN</td>\n",
       "      <td>NaN</td>\n",
       "      <td>NaN</td>\n",
       "      <td>NaN</td>\n",
       "    </tr>\n",
       "    <tr>\n",
       "      <th>2022-09-08</th>\n",
       "      <td>NaN</td>\n",
       "      <td>NaN</td>\n",
       "      <td>NaN</td>\n",
       "      <td>NaN</td>\n",
       "      <td>NaN</td>\n",
       "    </tr>\n",
       "    <tr>\n",
       "      <th>2022-10-08</th>\n",
       "      <td>NaN</td>\n",
       "      <td>NaN</td>\n",
       "      <td>NaN</td>\n",
       "      <td>NaN</td>\n",
       "      <td>NaN</td>\n",
       "    </tr>\n",
       "    <tr>\n",
       "      <th>2022-11-08</th>\n",
       "      <td>NaN</td>\n",
       "      <td>NaN</td>\n",
       "      <td>NaN</td>\n",
       "      <td>NaN</td>\n",
       "      <td>NaN</td>\n",
       "    </tr>\n",
       "  </tbody>\n",
       "</table>\n",
       "</div>"
      ],
      "text/plain": [
       "           Quantity  First Difference  Seasonal Difference  \\\n",
       "2022-07-08      NaN               NaN                  NaN   \n",
       "2022-08-08      NaN               NaN                  NaN   \n",
       "2022-09-08      NaN               NaN                  NaN   \n",
       "2022-10-08      NaN               NaN                  NaN   \n",
       "2022-11-08      NaN               NaN                  NaN   \n",
       "\n",
       "            Seasonal First Difference  forecast  \n",
       "2022-07-08                        NaN       NaN  \n",
       "2022-08-08                        NaN       NaN  \n",
       "2022-09-08                        NaN       NaN  \n",
       "2022-10-08                        NaN       NaN  \n",
       "2022-11-08                        NaN       NaN  "
      ]
     },
     "execution_count": 66,
     "metadata": {},
     "output_type": "execute_result"
    }
   ],
   "source": [
    "final_df.tail()"
   ]
  },
  {
   "cell_type": "code",
   "execution_count": 82,
   "metadata": {},
   "outputs": [],
   "source": [
    "final_df['f_forecast'] = results.predict"
   ]
  },
  {
   "cell_type": "code",
   "execution_count": 83,
   "metadata": {},
   "outputs": [
    {
     "data": {
      "text/html": [
       "<div>\n",
       "<style scoped>\n",
       "    .dataframe tbody tr th:only-of-type {\n",
       "        vertical-align: middle;\n",
       "    }\n",
       "\n",
       "    .dataframe tbody tr th {\n",
       "        vertical-align: top;\n",
       "    }\n",
       "\n",
       "    .dataframe thead th {\n",
       "        text-align: right;\n",
       "    }\n",
       "</style>\n",
       "<table border=\"1\" class=\"dataframe\">\n",
       "  <thead>\n",
       "    <tr style=\"text-align: right;\">\n",
       "      <th></th>\n",
       "      <th>Quantity</th>\n",
       "      <th>First Difference</th>\n",
       "      <th>Seasonal Difference</th>\n",
       "      <th>Seasonal First Difference</th>\n",
       "      <th>forecast</th>\n",
       "      <th>f_forecast</th>\n",
       "    </tr>\n",
       "  </thead>\n",
       "  <tbody>\n",
       "    <tr>\n",
       "      <th>2022-07-08</th>\n",
       "      <td>NaN</td>\n",
       "      <td>NaN</td>\n",
       "      <td>NaN</td>\n",
       "      <td>NaN</td>\n",
       "      <td>&lt;bound method MLEResults.predict of &lt;statsmode...</td>\n",
       "      <td>&lt;bound method MLEResults.predict of &lt;statsmode...</td>\n",
       "    </tr>\n",
       "    <tr>\n",
       "      <th>2022-08-08</th>\n",
       "      <td>NaN</td>\n",
       "      <td>NaN</td>\n",
       "      <td>NaN</td>\n",
       "      <td>NaN</td>\n",
       "      <td>&lt;bound method MLEResults.predict of &lt;statsmode...</td>\n",
       "      <td>&lt;bound method MLEResults.predict of &lt;statsmode...</td>\n",
       "    </tr>\n",
       "    <tr>\n",
       "      <th>2022-09-08</th>\n",
       "      <td>NaN</td>\n",
       "      <td>NaN</td>\n",
       "      <td>NaN</td>\n",
       "      <td>NaN</td>\n",
       "      <td>&lt;bound method MLEResults.predict of &lt;statsmode...</td>\n",
       "      <td>&lt;bound method MLEResults.predict of &lt;statsmode...</td>\n",
       "    </tr>\n",
       "    <tr>\n",
       "      <th>2022-10-08</th>\n",
       "      <td>NaN</td>\n",
       "      <td>NaN</td>\n",
       "      <td>NaN</td>\n",
       "      <td>NaN</td>\n",
       "      <td>&lt;bound method MLEResults.predict of &lt;statsmode...</td>\n",
       "      <td>&lt;bound method MLEResults.predict of &lt;statsmode...</td>\n",
       "    </tr>\n",
       "    <tr>\n",
       "      <th>2022-11-08</th>\n",
       "      <td>NaN</td>\n",
       "      <td>NaN</td>\n",
       "      <td>NaN</td>\n",
       "      <td>NaN</td>\n",
       "      <td>&lt;bound method MLEResults.predict of &lt;statsmode...</td>\n",
       "      <td>&lt;bound method MLEResults.predict of &lt;statsmode...</td>\n",
       "    </tr>\n",
       "  </tbody>\n",
       "</table>\n",
       "</div>"
      ],
      "text/plain": [
       "           Quantity  First Difference  Seasonal Difference  \\\n",
       "2022-07-08      NaN               NaN                  NaN   \n",
       "2022-08-08      NaN               NaN                  NaN   \n",
       "2022-09-08      NaN               NaN                  NaN   \n",
       "2022-10-08      NaN               NaN                  NaN   \n",
       "2022-11-08      NaN               NaN                  NaN   \n",
       "\n",
       "            Seasonal First Difference  \\\n",
       "2022-07-08                        NaN   \n",
       "2022-08-08                        NaN   \n",
       "2022-09-08                        NaN   \n",
       "2022-10-08                        NaN   \n",
       "2022-11-08                        NaN   \n",
       "\n",
       "                                                     forecast  \\\n",
       "2022-07-08  <bound method MLEResults.predict of <statsmode...   \n",
       "2022-08-08  <bound method MLEResults.predict of <statsmode...   \n",
       "2022-09-08  <bound method MLEResults.predict of <statsmode...   \n",
       "2022-10-08  <bound method MLEResults.predict of <statsmode...   \n",
       "2022-11-08  <bound method MLEResults.predict of <statsmode...   \n",
       "\n",
       "                                                   f_forecast  \n",
       "2022-07-08  <bound method MLEResults.predict of <statsmode...  \n",
       "2022-08-08  <bound method MLEResults.predict of <statsmode...  \n",
       "2022-09-08  <bound method MLEResults.predict of <statsmode...  \n",
       "2022-10-08  <bound method MLEResults.predict of <statsmode...  \n",
       "2022-11-08  <bound method MLEResults.predict of <statsmode...  "
      ]
     },
     "execution_count": 83,
     "metadata": {},
     "output_type": "execute_result"
    }
   ],
   "source": [
    "final_df.tail()"
   ]
  },
  {
   "cell_type": "code",
   "execution_count": 84,
   "metadata": {},
   "outputs": [
    {
     "data": {
      "text/plain": [
       "<AxesSubplot:>"
      ]
     },
     "execution_count": 84,
     "metadata": {},
     "output_type": "execute_result"
    },
    {
     "data": {
      "image/png": "[encoded data removed]",
      "text/plain": [
       "<Figure size 864x576 with 1 Axes>"
      ]
     },
     "metadata": {
      "needs_background": "light"
     },
     "output_type": "display_data"
    }
   ],
   "source": [
    "final_df[['Quantity','forecast']].plot(figsize=(12,8))"
   ]
  },
  {
   "cell_type": "code",
   "execution_count": null,
   "metadata": {},
   "outputs": [],
   "source": []
  }
 ],
 "metadata": {
  "kernelspec": {
   "display_name": "Python 3",
   "language": "python",
   "name": "python3"
  },
  "language_info": {
   "codemirror_mode": {
    "name": "ipython",
    "version": 3
   },
   "file_extension": ".py",
   "mimetype": "text/x-python",
   "name": "python",
   "nbconvert_exporter": "python",
   "pygments_lexer": "ipython3",
   "version": "3.8.5"
  }
 },
 "nbformat": 4,
 "nbformat_minor": 4
}
