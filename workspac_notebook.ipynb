{
 "cells": [
  {
   "cell_type": "markdown",
   "source": [
    "# Genetic Algorihm for UPC&S"
   ],
   "metadata": {}
  },
  {
   "cell_type": "markdown",
   "source": [
    "## Import packages"
   ],
   "metadata": {}
  },
  {
   "cell_type": "code",
   "execution_count": 35,
   "source": [
    "from numpy.random import randint\n",
    "from numpy.random import rand\n",
    "import pandas as pd\n",
    "\n",
    "from tqdm import tqdm\n",
    "pd.set_option('display.max_row', 500)\n"
   ],
   "outputs": [],
   "metadata": {
    "id": "a6pF_cib-SD_"
   }
  },
  {
   "cell_type": "markdown",
   "source": [
    "## Read Data & Assign the variables"
   ],
   "metadata": {}
  },
  {
   "cell_type": "code",
   "execution_count": 3,
   "source": [
    "# read data\n",
    "df_sample = pd.read_csv('sample2.csv')\n",
    "\n",
    "# assign the variables\n",
    "\n",
    "cost = df_sample[['item', 'T', 'C']].drop_duplicates().dropna(axis=0)\n",
    "demand = df_sample[['item', 'T', 'D']].drop_duplicates().dropna(axis=0)\n",
    "prepaid = df_sample[['item', 'T', 'P']].drop_duplicates().dropna(axis=0)\n",
    "cycle = df_sample[['item', 'J', 'T', 'M']].drop_duplicates().dropna(axis=0)\n",
    "\n",
    "cost1 = cost.dropna(axis=0)\n",
    "demand1 = demand.dropna(axis=0)\n",
    "prepaid1 = prepaid.dropna(axis=0)\n",
    "cycle1 = cycle.dropna(axis=0)\n",
    "\n",
    "\n",
    "ijt_df = pd.DataFrame(df_sample[['item', 'J', 'T']].value_counts()).reset_index()[['item', 'J', 'T']]\n",
    "ijt_df = ijt_df.sort_values(['item']).reset_index(drop=True)\n",
    "ijt_set = set()\n",
    "for index, info in ijt_df.iterrows():\n",
    "    ijt_set.add((info['item'], info['J'], info['T']))\n",
    "ijt_set\n",
    "\n",
    "# variables infomation\n",
    "T = list(set(df_sample['T']))\n",
    "I = list(set(df_sample['item']))\n",
    "J = list(set(df_sample['J']))\n",
    "\n",
    "# Parameters\n",
    "cit = {}\n",
    "pit = {}\n",
    "dit = {}\n",
    "mijt = {}\n",
    "\n",
    "# cit - 단가\n",
    "for index, info in cost.iterrows():\n",
    "    cit[info['item'], info['T']] = info['C']\n",
    "# pit - 선급품/일반품\n",
    "for index, info in prepaid.iterrows():\n",
    "    pit[info['item'], info['T']] = info['P']\n",
    "# dit - 생산목표량\n",
    "for index, info in demand.iterrows():\n",
    "    dit[info['item'], info['T']] = info['D']\n",
    "# mijt - cycle time\n",
    "for index, info in cycle.iterrows():\n",
    "    mijt[info['item'], info['J'], info['T']] = info['M']\n",
    "\n",
    "# adding missing values\n",
    "for i in I:\n",
    "    for t in T:\n",
    "        key = (i, t)\n",
    "        if key not in cit:\n",
    "            cit[i, t] = 0\n",
    "for i in I:\n",
    "    for t in T:\n",
    "        key = (i, t)\n",
    "        if key not in pit:\n",
    "            pit[i, t] = 0\n",
    "for i in I:\n",
    "    for t in T:\n",
    "        key = (i, t)\n",
    "        if key not in dit:\n",
    "            dit[i, t] = 0\n",
    "for i in I:\n",
    "    for j in J:\n",
    "        for t in T:\n",
    "            key = (i, j, t)\n",
    "            if key not in mijt:\n",
    "                mijt[i, j, t] = 0"
   ],
   "outputs": [],
   "metadata": {}
  },
  {
   "cell_type": "code",
   "execution_count": 4,
   "source": [
    "### 실제 데이터로 바꿔야 합니다\n",
    "df_raw = pd.read_excel('생산미결리스트 등 샘플데이터.xlsx', sheet_name=None)\n",
    "machine_bound_info = df_raw['CYCLETIME'][1:].reset_index(drop=True)\n",
    "item_info = df_raw['생산미결리스트(for cost)'].reset_index(drop=True)\n",
    "# item-단가 unique 하지 않음 (수량이 다르므로) ==> item 별로 합산을 해서 총 수량을 하기엔... 영업납기일이 다름..! 흠..\n",
    "# 데이터 자체를 쓰기가.. 흠..demand 부터 뽑는것이 애매함\n",
    "item_info[['중산도면', '수량']].value_counts()\n",
    "#item_info[item_info['중산도면']=='057386']\n",
    "\n",
    "machine_bound_info[['JSDWG', 'MCNO']].value_counts() # 이건 unique함!\n",
    "\n",
    "machine_bound = {}\n",
    "for index, info in machine_bound_info.iterrows():\n",
    "    item = info['JSDWG']\n",
    "    machine = info['MCNO']\n",
    "    machine_bound[item, machine] = info['AVG_CT']\n",
    "item_cost = {}\n",
    "for index, info in item_info.iterrows():\n",
    "    item = info['중산도면']\n",
    "    item_cost[item] = int(info['단가'])\n",
    "item_demand = {}\n",
    "for index, info in item_info.iterrows():\n",
    "    item = info['중산도면']\n",
    "    item_demand[item] = int(info['수량'])\n",
    "item_urgent = {}\n",
    "for index, info in item_info.iterrows():\n",
    "    item = info['중산도면']\n",
    "    if info['선급'] != info['선급']:\n",
    "        item_urgent[item] = 1\n",
    "    else:\n",
    "        item_urgent[item] = 0\n",
    "\n"
   ],
   "outputs": [],
   "metadata": {}
  },
  {
   "cell_type": "code",
   "execution_count": 6,
   "source": [
    "dit"
   ],
   "outputs": [
    {
     "output_type": "execute_result",
     "data": {
      "text/plain": [
       "{('K04033', 1): 318,\n",
       " ('K04031', 1): 383,\n",
       " ('K04037', 2): 20,\n",
       " ('K04046', 2): 370,\n",
       " ('K04101', 3): 15,\n",
       " ('K61088', 3): 48,\n",
       " ('K62716', 4): 120,\n",
       " ('K61606', 4): 72,\n",
       " ('K62330', 5): 40,\n",
       " ('K61218', 5): 20,\n",
       " ('K57386', 6): 144,\n",
       " ('K57791', 6): 216,\n",
       " ('K04033', 2): 0,\n",
       " ('K04033', 3): 0,\n",
       " ('K04033', 4): 0,\n",
       " ('K04033', 5): 0,\n",
       " ('K04033', 6): 0,\n",
       " ('K04046', 1): 0,\n",
       " ('K04046', 3): 0,\n",
       " ('K04046', 4): 0,\n",
       " ('K04046', 5): 0,\n",
       " ('K04046', 6): 0,\n",
       " ('K57386', 1): 0,\n",
       " ('K57386', 2): 0,\n",
       " ('K57386', 3): 0,\n",
       " ('K57386', 4): 0,\n",
       " ('K57386', 5): 0,\n",
       " ('K04031', 2): 0,\n",
       " ('K04031', 3): 0,\n",
       " ('K04031', 4): 0,\n",
       " ('K04031', 5): 0,\n",
       " ('K04031', 6): 0,\n",
       " ('K62716', 1): 0,\n",
       " ('K62716', 2): 0,\n",
       " ('K62716', 3): 0,\n",
       " ('K62716', 5): 0,\n",
       " ('K62716', 6): 0,\n",
       " ('K61088', 1): 0,\n",
       " ('K61088', 2): 0,\n",
       " ('K61088', 4): 0,\n",
       " ('K61088', 5): 0,\n",
       " ('K61088', 6): 0,\n",
       " ('K04101', 1): 0,\n",
       " ('K04101', 2): 0,\n",
       " ('K04101', 4): 0,\n",
       " ('K04101', 5): 0,\n",
       " ('K04101', 6): 0,\n",
       " ('K61218', 1): 0,\n",
       " ('K61218', 2): 0,\n",
       " ('K61218', 3): 0,\n",
       " ('K61218', 4): 0,\n",
       " ('K61218', 6): 0,\n",
       " ('K57791', 1): 0,\n",
       " ('K57791', 2): 0,\n",
       " ('K57791', 3): 0,\n",
       " ('K57791', 4): 0,\n",
       " ('K57791', 5): 0,\n",
       " ('K62330', 1): 0,\n",
       " ('K62330', 2): 0,\n",
       " ('K62330', 3): 0,\n",
       " ('K62330', 4): 0,\n",
       " ('K62330', 6): 0,\n",
       " ('K04037', 1): 0,\n",
       " ('K04037', 3): 0,\n",
       " ('K04037', 4): 0,\n",
       " ('K04037', 5): 0,\n",
       " ('K04037', 6): 0,\n",
       " ('K61606', 1): 0,\n",
       " ('K61606', 2): 0,\n",
       " ('K61606', 3): 0,\n",
       " ('K61606', 5): 0,\n",
       " ('K61606', 6): 0}"
      ]
     },
     "metadata": {},
     "execution_count": 6
    }
   ],
   "metadata": {}
  },
  {
   "cell_type": "markdown",
   "source": [
    "## Genetic Alogorithm"
   ],
   "metadata": {}
  },
  {
   "cell_type": "code",
   "execution_count": 36,
   "source": [
    "def dict2bitstring(xijt):\n",
    "    return list(xijt.values())\n",
    "\n",
    "\n",
    "def bitstring2dict(bitstring, type='xijt'):\n",
    "    if type == 'xijt':\n",
    "        _keys = xijt_keys\n",
    "    elif type == 'mijt':\n",
    "        _keys = mijt_keys\n",
    "\n",
    "    for idx, value in enumerate(bitstring):\n",
    "        xijt[_keys[idx]] = value\n",
    "    return xijt\n",
    "\n",
    "\n",
    "def generation_xijt():\n",
    "    xijt = {}\n",
    "    for i in I:\n",
    "        for j in J:\n",
    "            for t in T:\n",
    "                if dit[i, t] > 0:\n",
    "                    xijt[i, j, t] = randint(0, dit[i, t]) # 300, 바뀌어야 함\n",
    "                else:\n",
    "                    xijt[i, j, t] = 0\n",
    "    return xijt\n",
    "\n",
    "\n",
    "def decode(mijt, xijt):\n",
    "    for j in J:\n",
    "        for t in T:\n",
    "            for i in I:\n",
    "                if mijt[i, j, t] == 0:\n",
    "                    xijt[i, j, t] = 0\n",
    "\n",
    "    for i in I:\n",
    "        for j in J:\n",
    "            for t in T:\n",
    "                if xijt[i, j, t] < 0:\n",
    "                    xijt[i, j, t] = 0\n",
    "    return xijt\n",
    "\n",
    "\n",
    "def constraint_check(xijt):\n",
    "    #  Constraint 2\n",
    "    for j in J:\n",
    "        for t in T:\n",
    "            check_value = sum(mijt[i, j, t]*xijt[i, j, t] for i in I) <=  600\n",
    "            if check_value == False:\n",
    "                for i in I:\n",
    "                    xijt[i, j, t] = 0\n",
    "\n",
    "    return xijt\n",
    "\n",
    "\n",
    "def objective(xijt):\n",
    "    uit = {}\n",
    "    xijt = constraint_check(xijt)\n",
    "    for i in I:\n",
    "        for t in T:\n",
    "            u = dit[i, t] - sum(xijt[i, j, t] for j in J)\n",
    "            if u >= 0:\n",
    "                uit[i, t] = u\n",
    "            else:\n",
    "                uit[i, t] = abs(u)*1000\n",
    "    objective = sum(uit[i, t]*cit[i, t]*pit[i, t] for i in I for t in T)\n",
    "    return objective\n",
    "\n",
    "\n",
    "# tournament selection\n",
    "def selection(pop, scores, k=5):\n",
    "    # first random selection\n",
    "    selection_ix = randint(len(pop))\n",
    "    for ix in randint(0, len(pop), k-1):\n",
    "        # check if better (e.g. perform a tournament)\n",
    "        if scores[ix] < scores[selection_ix]:\n",
    "            selection_ix = ix\n",
    "    return pop[selection_ix]\n",
    "\n",
    "\n",
    "def crossover(p1, p2, r_cross):\n",
    "    p1 = dict2bitstring(p1)\n",
    "    p2 = dict2bitstring(p2)\n",
    "    # children are copies of parents by default\n",
    "    c1, c2 = p1.copy(), p2.copy()\n",
    "    # check for recombination\n",
    "    if rand() < r_cross:\n",
    "        # select crossover point that is not on the end of the string\n",
    "        pt = randint(1, len(p1)-2)\n",
    "        # perform crossover\n",
    "        c1 = p1[:pt] + p2[pt:]\n",
    "        c2 = p2[:pt] + p1[pt:]\n",
    "\n",
    "    return [c1, c2]\n",
    "\n",
    "\n",
    "# mutation operator\n",
    "def mutation(bitstring, r_mut):\n",
    "    for i in range(len(bitstring)):\n",
    "        # check for a mutation\n",
    "        if rand() < r_mut:\n",
    "            # flip the bit\n",
    "            bitstring[i] = 1 - bitstring[i]\n",
    "\n",
    "\n",
    "def genetic_algorithm(objective, bounds, n_iter, n_pop, r_cross, r_mut):\n",
    "    log = []\n",
    "    pop = [generation_xijt() for _ in range(n_pop)]\n",
    "    best, best_eval = decode(mijt, pop[0]), objective(decode(mijt, pop[0]))\n",
    "    print(best_eval)\n",
    "\n",
    "    for gen in tqdm(range(n_iter)):\n",
    "        decoded = [decode(mijt, p) for p in pop]\n",
    "        # evaluate all candidates in the population\n",
    "        scores = [objective(d) for d in decoded]\n",
    "\n",
    "        # check for new best solution\n",
    "        for i in range(n_pop):\n",
    "            if scores[i] < best_eval:\n",
    "                best, best_eval = pop[i], scores[i]\n",
    "                print(f'>best! {gen}, {scores[i]}')\n",
    "                \n",
    "        # select parents\n",
    "        selected = [selection(pop, scores) for _ in range(n_pop)]\n",
    "\n",
    "        children = list()\n",
    "        for i in range(0, n_pop, 2):\n",
    "            # get selected parents in pairs\n",
    "            p1, p2 = selected[i], selected[i+1]\n",
    "            # crossover and mutation\n",
    "            for c in crossover(p1, p2, r_cross):\n",
    "                # mutation\n",
    "                mutation(c, r_mut)\n",
    "                # store for next generation\n",
    "                children.append(bitstring2dict(c))\n",
    "        pop = children\n",
    "        log.append([gen, best_eval])\n",
    "    return [best, best_eval, log]\n"
   ],
   "outputs": [],
   "metadata": {
    "id": "_V9z5BYo-SEF"
   }
  },
  {
   "cell_type": "code",
   "execution_count": 58,
   "source": [
    "xijt = generation_xijt()\n",
    "\n",
    "# number of generations\n",
    "n_iter = 500\n",
    "# bits per variable\n",
    "n_bits = 16\n",
    "# define the population size\n",
    "n_pop = 250\n",
    "# crossover rate\n",
    "r_cross = 0.8\n",
    "# mutation rate\n",
    "r_mut = 1.0 / (float(n_bits) * len(xijt))\n",
    "\n",
    "\n",
    "xijt_keys = list(xijt.keys())\n",
    "mijt_keys = list(mijt.keys())\n",
    "\n",
    "best, score, log = genetic_algorithm(objective, mijt, n_iter, n_pop, r_cross, r_mut)\n",
    "print('Done!')\n"
   ],
   "outputs": [
    {
     "output_type": "stream",
     "name": "stdout",
     "text": [
      "1688077259\n"
     ]
    },
    {
     "output_type": "stream",
     "name": "stderr",
     "text": [
      "  0%|          | 1/500 [00:00<03:01,  2.75it/s]"
     ]
    },
    {
     "output_type": "stream",
     "name": "stdout",
     "text": [
      ">best! 0, 858116920\n",
      ">best! 0, 772311204\n",
      ">best! 0, 747985536\n",
      ">best! 0, 706697540\n",
      ">best! 0, 515876310\n",
      ">best! 0, 377094450\n"
     ]
    },
    {
     "output_type": "stream",
     "name": "stderr",
     "text": [
      " 16%|█▌        | 79/500 [00:25<02:16,  3.09it/s]"
     ]
    },
    {
     "output_type": "stream",
     "name": "stdout",
     "text": [
      ">best! 78, 83617687\n"
     ]
    },
    {
     "output_type": "stream",
     "name": "stderr",
     "text": [
      " 16%|█▌        | 80/500 [00:25<02:17,  3.06it/s]"
     ]
    },
    {
     "output_type": "stream",
     "name": "stdout",
     "text": [
      ">best! 79, 83572187\n"
     ]
    },
    {
     "output_type": "stream",
     "name": "stderr",
     "text": [
      " 17%|█▋        | 85/500 [00:26<02:13,  3.11it/s]"
     ]
    },
    {
     "output_type": "stream",
     "name": "stdout",
     "text": [
      ">best! 84, 83486567\n"
     ]
    },
    {
     "output_type": "stream",
     "name": "stderr",
     "text": [
      " 52%|█████▏    | 258/500 [01:20<01:15,  3.21it/s]"
     ]
    },
    {
     "output_type": "stream",
     "name": "stdout",
     "text": [
      ">best! 257, 69955917\n"
     ]
    },
    {
     "output_type": "stream",
     "name": "stderr",
     "text": [
      " 54%|█████▍    | 271/500 [01:24<01:11,  3.22it/s]"
     ]
    },
    {
     "output_type": "stream",
     "name": "stdout",
     "text": [
      ">best! 270, 69900510\n"
     ]
    },
    {
     "output_type": "stream",
     "name": "stderr",
     "text": [
      " 55%|█████▌    | 275/500 [01:25<01:13,  3.08it/s]"
     ]
    },
    {
     "output_type": "stream",
     "name": "stdout",
     "text": [
      ">best! 274, 69868930\n"
     ]
    },
    {
     "output_type": "stream",
     "name": "stderr",
     "text": [
      " 55%|█████▌    | 276/500 [01:26<01:13,  3.07it/s]"
     ]
    },
    {
     "output_type": "stream",
     "name": "stdout",
     "text": [
      ">best! 275, 69853310\n"
     ]
    },
    {
     "output_type": "stream",
     "name": "stderr",
     "text": [
      " 55%|█████▌    | 277/500 [01:26<01:12,  3.07it/s]"
     ]
    },
    {
     "output_type": "stream",
     "name": "stdout",
     "text": [
      ">best! 276, 69805582\n"
     ]
    },
    {
     "output_type": "stream",
     "name": "stderr",
     "text": [
      "100%|██████████| 500/500 [02:35<00:00,  3.22it/s]"
     ]
    },
    {
     "output_type": "stream",
     "name": "stdout",
     "text": [
      "Done!\n"
     ]
    },
    {
     "output_type": "stream",
     "name": "stderr",
     "text": [
      "\n"
     ]
    }
   ],
   "metadata": {
    "id": "8USfLfvpolLz"
   }
  },
  {
   "cell_type": "code",
   "execution_count": 59,
   "source": [
    "pd.DataFrame(log)[1].plot()"
   ],
   "outputs": [
    {
     "output_type": "execute_result",
     "data": {
      "text/plain": [
       "<AxesSubplot:>"
      ]
     },
     "metadata": {},
     "execution_count": 59
    },
    {
     "output_type": "display_data",
     "data": {
      "image/png": "[encoded data removed]",
      "text/plain": [
       "<Figure size 432x288 with 1 Axes>"
      ]
     },
     "metadata": {
      "needs_background": "light"
     }
    }
   ],
   "metadata": {}
  },
  {
   "cell_type": "code",
   "execution_count": null,
   "source": [
    "1377698\n",
    "\n",
    "50499512\n",
    "50499512\n",
    "56092290\n",
    "57651186\n",
    "66387156\n",
    "526497286\n",
    "66387156"
   ],
   "outputs": [],
   "metadata": {}
  },
  {
   "cell_type": "code",
   "execution_count": 60,
   "source": [
    "sol = pd.DataFrame.from_dict(best, orient='index')\n",
    "sol[sol[0]>0]"
   ],
   "outputs": [
    {
     "output_type": "execute_result",
     "data": {
      "text/html": [
       "<div>\n",
       "<style scoped>\n",
       "    .dataframe tbody tr th:only-of-type {\n",
       "        vertical-align: middle;\n",
       "    }\n",
       "\n",
       "    .dataframe tbody tr th {\n",
       "        vertical-align: top;\n",
       "    }\n",
       "\n",
       "    .dataframe thead th {\n",
       "        text-align: right;\n",
       "    }\n",
       "</style>\n",
       "<table border=\"1\" class=\"dataframe\">\n",
       "  <thead>\n",
       "    <tr style=\"text-align: right;\">\n",
       "      <th></th>\n",
       "      <th>0</th>\n",
       "    </tr>\n",
       "  </thead>\n",
       "  <tbody>\n",
       "    <tr>\n",
       "      <th>(K04033, 422, 1)</th>\n",
       "      <td>1</td>\n",
       "    </tr>\n",
       "    <tr>\n",
       "      <th>(K04033, 409, 1)</th>\n",
       "      <td>1</td>\n",
       "    </tr>\n",
       "    <tr>\n",
       "      <th>(K04033, 409, 3)</th>\n",
       "      <td>1</td>\n",
       "    </tr>\n",
       "    <tr>\n",
       "      <th>(K04046, 409, 2)</th>\n",
       "      <td>15</td>\n",
       "    </tr>\n",
       "    <tr>\n",
       "      <th>(K57386, 404, 6)</th>\n",
       "      <td>1</td>\n",
       "    </tr>\n",
       "    <tr>\n",
       "      <th>(K57386, 409, 6)</th>\n",
       "      <td>1</td>\n",
       "    </tr>\n",
       "    <tr>\n",
       "      <th>(K04031, 426, 1)</th>\n",
       "      <td>1</td>\n",
       "    </tr>\n",
       "    <tr>\n",
       "      <th>(K04031, 409, 1)</th>\n",
       "      <td>1</td>\n",
       "    </tr>\n",
       "    <tr>\n",
       "      <th>(K04031, 409, 4)</th>\n",
       "      <td>1</td>\n",
       "    </tr>\n",
       "    <tr>\n",
       "      <th>(K62716, 416, 4)</th>\n",
       "      <td>1</td>\n",
       "    </tr>\n",
       "    <tr>\n",
       "      <th>(K62716, 424, 1)</th>\n",
       "      <td>1</td>\n",
       "    </tr>\n",
       "    <tr>\n",
       "      <th>(K62716, 434, 4)</th>\n",
       "      <td>1</td>\n",
       "    </tr>\n",
       "    <tr>\n",
       "      <th>(K62716, 409, 4)</th>\n",
       "      <td>1</td>\n",
       "    </tr>\n",
       "    <tr>\n",
       "      <th>(K62716, 410, 4)</th>\n",
       "      <td>1</td>\n",
       "    </tr>\n",
       "    <tr>\n",
       "      <th>(K61088, 409, 3)</th>\n",
       "      <td>1</td>\n",
       "    </tr>\n",
       "    <tr>\n",
       "      <th>(K04101, 401, 6)</th>\n",
       "      <td>1</td>\n",
       "    </tr>\n",
       "    <tr>\n",
       "      <th>(K04101, 408, 3)</th>\n",
       "      <td>1</td>\n",
       "    </tr>\n",
       "    <tr>\n",
       "      <th>(K04101, 409, 3)</th>\n",
       "      <td>1</td>\n",
       "    </tr>\n",
       "    <tr>\n",
       "      <th>(K61218, 426, 5)</th>\n",
       "      <td>1</td>\n",
       "    </tr>\n",
       "    <tr>\n",
       "      <th>(K61218, 434, 5)</th>\n",
       "      <td>1</td>\n",
       "    </tr>\n",
       "    <tr>\n",
       "      <th>(K57791, 424, 6)</th>\n",
       "      <td>1</td>\n",
       "    </tr>\n",
       "    <tr>\n",
       "      <th>(K57791, 401, 6)</th>\n",
       "      <td>1</td>\n",
       "    </tr>\n",
       "    <tr>\n",
       "      <th>(K57791, 411, 2)</th>\n",
       "      <td>1</td>\n",
       "    </tr>\n",
       "    <tr>\n",
       "      <th>(K62330, 426, 6)</th>\n",
       "      <td>1</td>\n",
       "    </tr>\n",
       "    <tr>\n",
       "      <th>(K62330, 408, 5)</th>\n",
       "      <td>1</td>\n",
       "    </tr>\n",
       "    <tr>\n",
       "      <th>(K04037, 426, 2)</th>\n",
       "      <td>1</td>\n",
       "    </tr>\n",
       "    <tr>\n",
       "      <th>(K04037, 401, 2)</th>\n",
       "      <td>1</td>\n",
       "    </tr>\n",
       "    <tr>\n",
       "      <th>(K04037, 409, 2)</th>\n",
       "      <td>1</td>\n",
       "    </tr>\n",
       "    <tr>\n",
       "      <th>(K61606, 410, 4)</th>\n",
       "      <td>1</td>\n",
       "    </tr>\n",
       "  </tbody>\n",
       "</table>\n",
       "</div>"
      ],
      "text/plain": [
       "                   0\n",
       "(K04033, 422, 1)   1\n",
       "(K04033, 409, 1)   1\n",
       "(K04033, 409, 3)   1\n",
       "(K04046, 409, 2)  15\n",
       "(K57386, 404, 6)   1\n",
       "(K57386, 409, 6)   1\n",
       "(K04031, 426, 1)   1\n",
       "(K04031, 409, 1)   1\n",
       "(K04031, 409, 4)   1\n",
       "(K62716, 416, 4)   1\n",
       "(K62716, 424, 1)   1\n",
       "(K62716, 434, 4)   1\n",
       "(K62716, 409, 4)   1\n",
       "(K62716, 410, 4)   1\n",
       "(K61088, 409, 3)   1\n",
       "(K04101, 401, 6)   1\n",
       "(K04101, 408, 3)   1\n",
       "(K04101, 409, 3)   1\n",
       "(K61218, 426, 5)   1\n",
       "(K61218, 434, 5)   1\n",
       "(K57791, 424, 6)   1\n",
       "(K57791, 401, 6)   1\n",
       "(K57791, 411, 2)   1\n",
       "(K62330, 426, 6)   1\n",
       "(K62330, 408, 5)   1\n",
       "(K04037, 426, 2)   1\n",
       "(K04037, 401, 2)   1\n",
       "(K04037, 409, 2)   1\n",
       "(K61606, 410, 4)   1"
      ]
     },
     "metadata": {},
     "execution_count": 60
    }
   ],
   "metadata": {}
  },
  {
   "cell_type": "code",
   "execution_count": null,
   "source": [],
   "outputs": [],
   "metadata": {}
  }
 ],
 "metadata": {
  "colab": {
   "name": "Sample.ipynb",
   "provenance": []
  },
  "kernelspec": {
   "name": "python3",
   "display_name": "Python 3.9.7 64-bit"
  },
  "language_info": {
   "codemirror_mode": {
    "name": "ipython",
    "version": 3
   },
   "file_extension": ".py",
   "mimetype": "text/x-python",
   "name": "python",
   "nbconvert_exporter": "python",
   "pygments_lexer": "ipython3",
   "version": "3.9.7"
  },
  "interpreter": {
   "hash": "4cd7ab41f5fca4b9b44701077e38c5ffd31fe66a6cab21e0214b68d958d0e462"
  }
 },
 "nbformat": 4,
 "nbformat_minor": 1
}