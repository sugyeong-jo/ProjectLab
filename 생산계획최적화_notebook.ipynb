{
 "cells": [
  {
   "cell_type": "markdown",
   "metadata": {},
   "source": [
    "# Genetic Algorihm for UPC&S"
   ]
  },
  {
   "cell_type": "markdown",
   "metadata": {},
   "source": [
    "## Import packages"
   ]
  },
  {
   "cell_type": "code",
   "execution_count": 1,
   "metadata": {
    "id": "a6pF_cib-SD_"
   },
   "outputs": [],
   "source": [
    "import random\n",
    "from numpy.random import randint\n",
    "from numpy.random import rand\n",
    "import pandas as pd\n",
    "import datetime\n",
    "import numpy as np\n",
    "from tqdm import tqdm\n",
    "pd.set_option('display.max_row', 100)\n"
   ]
  },
  {
   "cell_type": "markdown",
   "metadata": {},
   "source": [
    "## Read Data & Assign the variables"
   ]
  },
  {
   "cell_type": "code",
   "execution_count": 2,
   "metadata": {},
   "outputs": [],
   "source": [
    "# file read\n",
    "machine_info = pd.read_csv('machine_info.csv')\n",
    "order_info = pd.read_csv('order_info.csv')\n",
    "\n",
    "# 전처리 (1) coulmn name 변경\n",
    "order_info = order_info.rename(columns={\n",
    "    '영업납기':'date',\n",
    "    '중산도면': 'item',\n",
    "    '단가': 'cost',\n",
    "    '수량' :'qty',\n",
    "    '선급': 'urgent'\n",
    "})\n",
    "order_info = order_info[['date', 'item', 'cost', 'qty', 'urgent']]\n",
    "\n",
    "machine_info = machine_info.rename(columns={\n",
    "    'JSDWG':'item',\n",
    "    'MCNO':'machine',\n",
    "    'AVG_CT': 'capacity' \n",
    "})\n",
    "machine_info = machine_info[['item', 'machine', 'capacity']]\n",
    "\n",
    "\n",
    "# 전처리 (2) 분석을 위한 데이터 처리\n",
    "order_info['urgent'] = order_info['urgent'].fillna(0)\n",
    "for i in range(len(order_info)):\n",
    "    if order_info.loc[i, 'urgent']!=0:\n",
    "        order_info.loc[i, 'urgent'] = 1\n",
    "\n",
    "# 전처리 (3) date type 부여\n",
    "order_info['date'] = order_info['date'].apply(lambda x: datetime.datetime.strptime(x, '%Y-%m-%d'))"
   ]
  },
  {
   "cell_type": "code",
   "execution_count": 3,
   "metadata": {},
   "outputs": [
    {
     "data": {
      "text/html": [
       "<div>\n",
       "<style scoped>\n",
       "    .dataframe tbody tr th:only-of-type {\n",
       "        vertical-align: middle;\n",
       "    }\n",
       "\n",
       "    .dataframe tbody tr th {\n",
       "        vertical-align: top;\n",
       "    }\n",
       "\n",
       "    .dataframe thead th {\n",
       "        text-align: right;\n",
       "    }\n",
       "</style>\n",
       "<table border=\"1\" class=\"dataframe\">\n",
       "  <thead>\n",
       "    <tr style=\"text-align: right;\">\n",
       "      <th></th>\n",
       "      <th>date</th>\n",
       "      <th>item</th>\n",
       "      <th>cost</th>\n",
       "      <th>qty</th>\n",
       "      <th>urgent</th>\n",
       "    </tr>\n",
       "  </thead>\n",
       "  <tbody>\n",
       "    <tr>\n",
       "      <th>0</th>\n",
       "      <td>2021-05-13</td>\n",
       "      <td>K04033</td>\n",
       "      <td>25870</td>\n",
       "      <td>318</td>\n",
       "      <td>1</td>\n",
       "    </tr>\n",
       "    <tr>\n",
       "      <th>1</th>\n",
       "      <td>2021-05-24</td>\n",
       "      <td>K04031</td>\n",
       "      <td>16229</td>\n",
       "      <td>383</td>\n",
       "      <td>1</td>\n",
       "    </tr>\n",
       "    <tr>\n",
       "      <th>2</th>\n",
       "      <td>2021-05-30</td>\n",
       "      <td>051718</td>\n",
       "      <td>8333</td>\n",
       "      <td>19</td>\n",
       "      <td>0</td>\n",
       "    </tr>\n",
       "    <tr>\n",
       "      <th>3</th>\n",
       "      <td>2021-06-03</td>\n",
       "      <td>056984</td>\n",
       "      <td>36533</td>\n",
       "      <td>4</td>\n",
       "      <td>0</td>\n",
       "    </tr>\n",
       "    <tr>\n",
       "      <th>4</th>\n",
       "      <td>2021-06-18</td>\n",
       "      <td>057791</td>\n",
       "      <td>45500</td>\n",
       "      <td>196</td>\n",
       "      <td>1</td>\n",
       "    </tr>\n",
       "  </tbody>\n",
       "</table>\n",
       "</div>"
      ],
      "text/plain": [
       "        date    item   cost  qty urgent\n",
       "0 2021-05-13  K04033  25870  318      1\n",
       "1 2021-05-24  K04031  16229  383      1\n",
       "2 2021-05-30  051718   8333   19      0\n",
       "3 2021-06-03  056984  36533    4      0\n",
       "4 2021-06-18  057791  45500  196      1"
      ]
     },
     "execution_count": 3,
     "metadata": {},
     "output_type": "execute_result"
    }
   ],
   "source": [
    "order_info.head()"
   ]
  },
  {
   "cell_type": "code",
   "execution_count": 4,
   "metadata": {},
   "outputs": [
    {
     "data": {
      "text/plain": [
       "date        item    cost    qty  urgent\n",
       "2021-02-10  S00341  2990    500  0         1\n",
       "2021-07-01  057387  16100   144  1         1\n",
       "2021-07-07  K03894  60000   46   1         1\n",
       "2021-07-06  K03899  22005   396  1         1\n",
       "            059988  166250  24   1         1\n",
       "                                          ..\n",
       "2021-06-17  053695  33984   6    0         1\n",
       "2021-06-15  Z00807  10450   300  0         1\n",
       "            K03115  26719   30   0         1\n",
       "                            28   0         1\n",
       "2021-09-15  Z00807  10450   325  0         1\n",
       "Length: 127, dtype: int64"
      ]
     },
     "execution_count": 4,
     "metadata": {},
     "output_type": "execute_result"
    }
   ],
   "source": [
    "order_info.value_counts()"
   ]
  },
  {
   "cell_type": "code",
   "execution_count": 5,
   "metadata": {},
   "outputs": [
    {
     "data": {
      "text/html": [
       "<div>\n",
       "<style scoped>\n",
       "    .dataframe tbody tr th:only-of-type {\n",
       "        vertical-align: middle;\n",
       "    }\n",
       "\n",
       "    .dataframe tbody tr th {\n",
       "        vertical-align: top;\n",
       "    }\n",
       "\n",
       "    .dataframe thead th {\n",
       "        text-align: right;\n",
       "    }\n",
       "</style>\n",
       "<table border=\"1\" class=\"dataframe\">\n",
       "  <thead>\n",
       "    <tr style=\"text-align: right;\">\n",
       "      <th></th>\n",
       "      <th>item</th>\n",
       "      <th>machine</th>\n",
       "      <th>capacity</th>\n",
       "    </tr>\n",
       "  </thead>\n",
       "  <tbody>\n",
       "    <tr>\n",
       "      <th>0</th>\n",
       "      <td>050060</td>\n",
       "      <td>433.0</td>\n",
       "      <td>1.08</td>\n",
       "    </tr>\n",
       "    <tr>\n",
       "      <th>1</th>\n",
       "      <td>050093</td>\n",
       "      <td>404.0</td>\n",
       "      <td>7.13</td>\n",
       "    </tr>\n",
       "    <tr>\n",
       "      <th>2</th>\n",
       "      <td>050093</td>\n",
       "      <td>408.0</td>\n",
       "      <td>4.67</td>\n",
       "    </tr>\n",
       "    <tr>\n",
       "      <th>3</th>\n",
       "      <td>050093</td>\n",
       "      <td>410.0</td>\n",
       "      <td>4.50</td>\n",
       "    </tr>\n",
       "    <tr>\n",
       "      <th>4</th>\n",
       "      <td>050093</td>\n",
       "      <td>416.0</td>\n",
       "      <td>3.92</td>\n",
       "    </tr>\n",
       "  </tbody>\n",
       "</table>\n",
       "</div>"
      ],
      "text/plain": [
       "     item  machine  capacity\n",
       "0  050060    433.0      1.08\n",
       "1  050093    404.0      7.13\n",
       "2  050093    408.0      4.67\n",
       "3  050093    410.0      4.50\n",
       "4  050093    416.0      3.92"
      ]
     },
     "execution_count": 5,
     "metadata": {},
     "output_type": "execute_result"
    }
   ],
   "source": [
    "machine_info.head()"
   ]
  },
  {
   "cell_type": "code",
   "execution_count": 6,
   "metadata": {},
   "outputs": [
    {
     "data": {
      "text/plain": [
       "item    machine  capacity\n",
       "050060  433.0    1.08        1\n",
       "K00347  404.0    11.05       1\n",
       "K00337  438.0    40.00       1\n",
       "        437.0    7.13        1\n",
       "        410.0    8.77        1\n",
       "                            ..\n",
       "058398  408.0    4.61        1\n",
       "        404.0    4.17        1\n",
       "058396  438.0    7.08        1\n",
       "        434.0    6.30        1\n",
       "Z01415  409.0    9.50        1\n",
       "Length: 21149, dtype: int64"
      ]
     },
     "execution_count": 6,
     "metadata": {},
     "output_type": "execute_result"
    }
   ],
   "source": [
    "machine_info.value_counts()"
   ]
  },
  {
   "cell_type": "markdown",
   "metadata": {},
   "source": [
    "# 데이터 유효성 검사"
   ]
  },
  {
   "cell_type": "code",
   "execution_count": 7,
   "metadata": {},
   "outputs": [
    {
     "name": "stdout",
     "output_type": "stream",
     "text": [
      "DataFrame name: order_info\n",
      "[step 1-1]\n",
      "date      0.0\n",
      "item      0.0\n",
      "cost      0.0\n",
      "qty       0.0\n",
      "urgent    0.0\n",
      "dtype: float64\n",
      "[step 1-2]\n",
      "date      False\n",
      "item      False\n",
      "cost      False\n",
      "qty       False\n",
      "urgent    False\n",
      "dtype: bool\n",
      "[step 2-1]\n",
      "    date   item   cost    qty  urgent\n",
      "0  False  False  False  False   False\n",
      "1  False  False  False  False   False\n",
      "2  False  False  False  False   False\n",
      "3  False  False  False  False   False\n",
      "4  False  False  False  False   False\n",
      "[step 2-2]\n",
      "date      0\n",
      "item      0\n",
      "cost      0\n",
      "qty       0\n",
      "urgent    0\n",
      "dtype: int64\n",
      "[step 2-3]\n",
      "0\n",
      "DataFrame name: machine_info\n",
      "[step 1-1]\n",
      "item        0.00\n",
      "machine     0.01\n",
      "capacity    0.00\n",
      "dtype: float64\n",
      "[step 1-2]\n",
      "item        False\n",
      "machine     False\n",
      "capacity    False\n",
      "dtype: bool\n",
      "[step 2-1]\n",
      "    item  machine  capacity\n",
      "0  False    False     False\n",
      "1  False    False     False\n",
      "2  False    False     False\n",
      "3  False    False     False\n",
      "4  False    False     False\n",
      "[step 2-2]\n",
      "item        0\n",
      "machine     2\n",
      "capacity    0\n",
      "dtype: int64\n",
      "[step 2-3]\n",
      "2\n",
      "결측치 = 2개 \n",
      "완전성 지수 : 99.99% \n"
     ]
    }
   ],
   "source": [
    "# 1. 완전성 (Completeness)\n",
    "perc = 30\n",
    "df_set = {'order_info':order_info, 'machine_info':machine_info}\n",
    "for df_name in list(df_set):\n",
    "    print(f'DataFrame name: {df_name}')\n",
    "    df = df_set[df_name]\n",
    "    print('[step 1-1]')\n",
    "    print(round(df.isnull().sum()/len(df)*100, 2))\n",
    "    print('[step 1-2]')\n",
    "    print(df.isnull().sum()/len(df)*100>perc)\n",
    "    print('[step 2-1]')\n",
    "    print(df.isnull().head())\n",
    "    print('[step 2-2]')\n",
    "    print(df.isnull().sum())\n",
    "    print('[step 2-3]')\n",
    "    cmpt_len = df.isnull().sum().sum()\n",
    "    print(cmpt_len)\n",
    "\n",
    "\n",
    "print(\"결측치 = %d개 \\n완전성 지수 : %.2f%% \"%(cmpt_len,(1-cmpt_len/len(df))*100))"
   ]
  },
  {
   "cell_type": "code",
   "execution_count": 8,
   "metadata": {},
   "outputs": [
    {
     "name": "stdout",
     "output_type": "stream",
     "text": [
      "The percentage of uniqueness for date<->item<->cost<->urgent : 97.58\n",
      "The percentage of uniqueness for item<->machine : 100.0\n",
      "유일성 지수 : 98.79% \n"
     ]
    }
   ],
   "source": [
    "# 2. 유일성 (Uniqueness)\n",
    "\n",
    "check_unique = order_info[\n",
    "    ['date', 'item', 'urgent']\n",
    "    ].value_counts().reset_index()\n",
    "perc_check_unique_item_urgent_info = round(\n",
    "    (len(check_unique)-len(check_unique[check_unique[0]>1]))\n",
    "    /len(check_unique)*100, 2)\n",
    "\n",
    "check_unique = machine_info[\n",
    "    ['item', 'machine']\n",
    "    ].value_counts().reset_index()\n",
    "perc_check_unique_machine_info = round(\n",
    "    (len(check_unique)-len(check_unique[check_unique[0]>1]))\n",
    "    /len(check_unique)*100, 2)\n",
    "\n",
    "print(f'The percentage of uniqueness for date<->item<->cost<->urgent : {perc_check_unique_item_urgent_info}')\n",
    "print(f'The percentage of uniqueness for item<->machine : {perc_check_unique_machine_info}')\n",
    "print(\"유일성 지수 : %.2f%% \"%((perc_check_unique_machine_info+perc_check_unique_item_urgent_info)/2))"
   ]
  },
  {
   "cell_type": "code",
   "execution_count": 9,
   "metadata": {},
   "outputs": [
    {
     "data": {
      "text/html": [
       "<div>\n",
       "<style scoped>\n",
       "    .dataframe tbody tr th:only-of-type {\n",
       "        vertical-align: middle;\n",
       "    }\n",
       "\n",
       "    .dataframe tbody tr th {\n",
       "        vertical-align: top;\n",
       "    }\n",
       "\n",
       "    .dataframe thead th {\n",
       "        text-align: right;\n",
       "    }\n",
       "</style>\n",
       "<table border=\"1\" class=\"dataframe\">\n",
       "  <thead>\n",
       "    <tr style=\"text-align: right;\">\n",
       "      <th></th>\n",
       "      <th>date</th>\n",
       "      <th>item</th>\n",
       "      <th>urgent</th>\n",
       "      <th>0</th>\n",
       "    </tr>\n",
       "  </thead>\n",
       "  <tbody>\n",
       "    <tr>\n",
       "      <th>0</th>\n",
       "      <td>2021-07-09</td>\n",
       "      <td>057386</td>\n",
       "      <td>1</td>\n",
       "      <td>2</td>\n",
       "    </tr>\n",
       "    <tr>\n",
       "      <th>1</th>\n",
       "      <td>2021-07-09</td>\n",
       "      <td>057387</td>\n",
       "      <td>1</td>\n",
       "      <td>2</td>\n",
       "    </tr>\n",
       "    <tr>\n",
       "      <th>2</th>\n",
       "      <td>2021-06-15</td>\n",
       "      <td>K03115</td>\n",
       "      <td>0</td>\n",
       "      <td>2</td>\n",
       "    </tr>\n",
       "    <tr>\n",
       "      <th>3</th>\n",
       "      <td>2021-02-10</td>\n",
       "      <td>S00341</td>\n",
       "      <td>0</td>\n",
       "      <td>1</td>\n",
       "    </tr>\n",
       "    <tr>\n",
       "      <th>4</th>\n",
       "      <td>2021-07-07</td>\n",
       "      <td>K03894</td>\n",
       "      <td>1</td>\n",
       "      <td>1</td>\n",
       "    </tr>\n",
       "    <tr>\n",
       "      <th>...</th>\n",
       "      <td>...</td>\n",
       "      <td>...</td>\n",
       "      <td>...</td>\n",
       "      <td>...</td>\n",
       "    </tr>\n",
       "    <tr>\n",
       "      <th>119</th>\n",
       "      <td>2021-06-17</td>\n",
       "      <td>060711</td>\n",
       "      <td>0</td>\n",
       "      <td>1</td>\n",
       "    </tr>\n",
       "    <tr>\n",
       "      <th>120</th>\n",
       "      <td>2021-06-17</td>\n",
       "      <td>053695</td>\n",
       "      <td>0</td>\n",
       "      <td>1</td>\n",
       "    </tr>\n",
       "    <tr>\n",
       "      <th>121</th>\n",
       "      <td>2021-06-15</td>\n",
       "      <td>Z00807</td>\n",
       "      <td>0</td>\n",
       "      <td>1</td>\n",
       "    </tr>\n",
       "    <tr>\n",
       "      <th>122</th>\n",
       "      <td>2021-06-15</td>\n",
       "      <td>063414</td>\n",
       "      <td>0</td>\n",
       "      <td>1</td>\n",
       "    </tr>\n",
       "    <tr>\n",
       "      <th>123</th>\n",
       "      <td>2021-09-15</td>\n",
       "      <td>Z00807</td>\n",
       "      <td>0</td>\n",
       "      <td>1</td>\n",
       "    </tr>\n",
       "  </tbody>\n",
       "</table>\n",
       "<p>124 rows × 4 columns</p>\n",
       "</div>"
      ],
      "text/plain": [
       "          date    item  urgent  0\n",
       "0   2021-07-09  057386       1  2\n",
       "1   2021-07-09  057387       1  2\n",
       "2   2021-06-15  K03115       0  2\n",
       "3   2021-02-10  S00341       0  1\n",
       "4   2021-07-07  K03894       1  1\n",
       "..         ...     ...     ... ..\n",
       "119 2021-06-17  060711       0  1\n",
       "120 2021-06-17  053695       0  1\n",
       "121 2021-06-15  Z00807       0  1\n",
       "122 2021-06-15  063414       0  1\n",
       "123 2021-09-15  Z00807       0  1\n",
       "\n",
       "[124 rows x 4 columns]"
      ]
     },
     "execution_count": 9,
     "metadata": {},
     "output_type": "execute_result"
    }
   ],
   "source": [
    "check_unique = order_info[\n",
    "    ['date', 'item', 'urgent']\n",
    "    ].value_counts().reset_index()\n",
    "check_unique"
   ]
  },
  {
   "cell_type": "code",
   "execution_count": 10,
   "metadata": {},
   "outputs": [
    {
     "data": {
      "text/html": [
       "<div>\n",
       "<style scoped>\n",
       "    .dataframe tbody tr th:only-of-type {\n",
       "        vertical-align: middle;\n",
       "    }\n",
       "\n",
       "    .dataframe tbody tr th {\n",
       "        vertical-align: top;\n",
       "    }\n",
       "\n",
       "    .dataframe thead th {\n",
       "        text-align: right;\n",
       "    }\n",
       "</style>\n",
       "<table border=\"1\" class=\"dataframe\">\n",
       "  <thead>\n",
       "    <tr style=\"text-align: right;\">\n",
       "      <th></th>\n",
       "      <th>item</th>\n",
       "      <th>machine</th>\n",
       "      <th>0</th>\n",
       "    </tr>\n",
       "  </thead>\n",
       "  <tbody>\n",
       "    <tr>\n",
       "      <th>0</th>\n",
       "      <td>050060</td>\n",
       "      <td>433.0</td>\n",
       "      <td>1</td>\n",
       "    </tr>\n",
       "    <tr>\n",
       "      <th>1</th>\n",
       "      <td>K00347</td>\n",
       "      <td>404.0</td>\n",
       "      <td>1</td>\n",
       "    </tr>\n",
       "    <tr>\n",
       "      <th>2</th>\n",
       "      <td>K00337</td>\n",
       "      <td>438.0</td>\n",
       "      <td>1</td>\n",
       "    </tr>\n",
       "    <tr>\n",
       "      <th>3</th>\n",
       "      <td>K00337</td>\n",
       "      <td>437.0</td>\n",
       "      <td>1</td>\n",
       "    </tr>\n",
       "    <tr>\n",
       "      <th>4</th>\n",
       "      <td>K00337</td>\n",
       "      <td>410.0</td>\n",
       "      <td>1</td>\n",
       "    </tr>\n",
       "    <tr>\n",
       "      <th>...</th>\n",
       "      <td>...</td>\n",
       "      <td>...</td>\n",
       "      <td>...</td>\n",
       "    </tr>\n",
       "    <tr>\n",
       "      <th>21144</th>\n",
       "      <td>058398</td>\n",
       "      <td>408.0</td>\n",
       "      <td>1</td>\n",
       "    </tr>\n",
       "    <tr>\n",
       "      <th>21145</th>\n",
       "      <td>058398</td>\n",
       "      <td>404.0</td>\n",
       "      <td>1</td>\n",
       "    </tr>\n",
       "    <tr>\n",
       "      <th>21146</th>\n",
       "      <td>058396</td>\n",
       "      <td>438.0</td>\n",
       "      <td>1</td>\n",
       "    </tr>\n",
       "    <tr>\n",
       "      <th>21147</th>\n",
       "      <td>058396</td>\n",
       "      <td>434.0</td>\n",
       "      <td>1</td>\n",
       "    </tr>\n",
       "    <tr>\n",
       "      <th>21148</th>\n",
       "      <td>Z01415</td>\n",
       "      <td>409.0</td>\n",
       "      <td>1</td>\n",
       "    </tr>\n",
       "  </tbody>\n",
       "</table>\n",
       "<p>21149 rows × 3 columns</p>\n",
       "</div>"
      ],
      "text/plain": [
       "         item  machine  0\n",
       "0      050060    433.0  1\n",
       "1      K00347    404.0  1\n",
       "2      K00337    438.0  1\n",
       "3      K00337    437.0  1\n",
       "4      K00337    410.0  1\n",
       "...       ...      ... ..\n",
       "21144  058398    408.0  1\n",
       "21145  058398    404.0  1\n",
       "21146  058396    438.0  1\n",
       "21147  058396    434.0  1\n",
       "21148  Z01415    409.0  1\n",
       "\n",
       "[21149 rows x 3 columns]"
      ]
     },
     "execution_count": 10,
     "metadata": {},
     "output_type": "execute_result"
    }
   ],
   "source": [
    "check_unique = machine_info[\n",
    "    ['item', 'machine']\n",
    "    ].value_counts().reset_index()\n",
    "check_unique"
   ]
  },
  {
   "cell_type": "code",
   "execution_count": 11,
   "metadata": {},
   "outputs": [
    {
     "name": "stdout",
     "output_type": "stream",
     "text": [
      "The percentage of uniqueness for date<->item<->cost<->urgent : 100.0\n"
     ]
    }
   ],
   "source": [
    "perc_check_unique_item_urgent_info = round(\n",
    "    (len(check_unique)-len(check_unique[check_unique[0]>1]))\n",
    "    /len(check_unique)*100, 2)\n",
    "print(f'The percentage of uniqueness for date<->item<->cost<->urgent : {perc_check_unique_item_urgent_info}')\n"
   ]
  },
  {
   "cell_type": "code",
   "execution_count": 12,
   "metadata": {},
   "outputs": [
    {
     "name": "stdout",
     "output_type": "stream",
     "text": [
      "order_info case\n",
      "[Step 1] 데이터 범위를 벗어난 데이터 수: 0\n",
      "[Step 2] 수집된 날짜를 벗어나는 데이터 수: 0\n",
      "[Step 3] 데이터 형식을 벗어나는 데이터 수: 0\n",
      "order_info 유효성 지수 : 100.00% \n",
      "machine_info case\n",
      "[Step 1] 데이터 범위를 벗어난 데이터 수: 0\n",
      "[Step 3] 데이터 형식을 벗어나는 데이터 수: 0\n",
      "machine_info 유효성 지수 : 100.00% \n",
      "유효성 지수 : 100.00% \n"
     ]
    }
   ],
   "source": [
    "# 3. 유효성 (Validity)\n",
    "\n",
    "print('order_info case')\n",
    "df = order_info\n",
    "c_lb = df['cost'] >= 0\n",
    "c_ub = df['cost'] <= 1000000\n",
    "q_lb = df['qty'] >= 0\n",
    "q_ub = df['qty'] <= 1000000\n",
    "u_lb = df['urgent'] >= 0\n",
    "u_ub = df['urgent'] <= 1\n",
    "vald_df = df[c_lb & c_ub & q_lb & q_ub & u_lb & u_ub]\n",
    "print(f'[Step 1] 데이터 범위를 벗어난 데이터 수: {len(df) - len(vald_df)}')\n",
    "\n",
    "d0 = pd.Timestamp(datetime.date(2021,1,31))  #date 객체1\n",
    "d1 = pd.Timestamp(datetime.date(2021,10,31))  #date 객체2\n",
    "con1 = vald_df['date'] >= d0\n",
    "con2 = vald_df['date'] <= d1\n",
    "vald_df = vald_df[con1&con2]\n",
    "print(f'[Step 2] 수집된 날짜를 벗어나는 데이터 수: {len(df) - len(vald_df)}')\n",
    "\n",
    "vald_df['date'] = vald_df['date'].apply(lambda x: isinstance(x, datetime.datetime))\n",
    "vald_df['item'] = vald_df['item'].apply(lambda x: isinstance(x, str))\n",
    "vald_df['cost'] = vald_df['cost'].apply(lambda x: isinstance(x, int))\n",
    "vald_df['qty'] = vald_df['qty'].apply(lambda x: isinstance(x, int))\n",
    "vald_df['urgent'] = vald_df['urgent'].apply(lambda x: isinstance(x, int))\n",
    "print(f'[Step 3] 데이터 형식을 벗어나는 데이터 수: {len(df) - len(vald_df)}')\n",
    "\n",
    "vald_df[\n",
    "    (vald_df['date']==True)\n",
    "    &(vald_df['item']==True)\n",
    "    &(vald_df['cost']==True)\n",
    "    &(vald_df['qty']==True)\n",
    "    &(vald_df['urgent']==True)\n",
    "    ]\n",
    "vald_len = len(vald_df)\n",
    "item_vald = vald_len/len(df)*100\n",
    "print(\"order_info 유효성 지수 : %.2f%% \"%(item_vald)) \n",
    "\n",
    "print('machine_info case')\n",
    "df = machine_info\n",
    "cap_lb = df['capacity'] >= 0\n",
    "cap_ub = df['capacity'] <= 1000000\n",
    "vald_df = df[cap_ub & cap_lb]\n",
    "print(f'[Step 1] 데이터 범위를 벗어난 데이터 수: {len(df) - len(vald_df)}')\n",
    "\n",
    "vald_df['item'] = vald_df['item'].apply(lambda x: isinstance(x, str))\n",
    "vald_df['machine'] = vald_df['machine'].apply(lambda x: isinstance(x, str))\n",
    "vald_df['capacity'] = vald_df['capacity'].apply(lambda x: float(x) if isinstance(x, int)==True else x)\n",
    "vald_df['capacity'] = vald_df['capacity'].apply(lambda x: isinstance(x, float))\n",
    "print(f'[Step 3] 데이터 형식을 벗어나는 데이터 수: {len(df) - len(vald_df)}')\n",
    "\n",
    "vald_df[\n",
    "    (vald_df['item']==True)\n",
    "    &(vald_df['machine']==True)\n",
    "    &(vald_df['capacity']==True)\n",
    "    ]\n",
    "vald_len = len(vald_df)\n",
    "machine_vald = vald_len/len(df)*100\n",
    "print(\"machine_info 유효성 지수 : %.2f%% \"%(machine_vald)) \n",
    "\n",
    "print(\"유효성 지수 : %.2f%% \"%((item_vald + machine_vald)/2)) \n"
   ]
  },
  {
   "cell_type": "code",
   "execution_count": 13,
   "metadata": {},
   "outputs": [
    {
     "name": "stdout",
     "output_type": "stream",
     "text": [
      "[Step 2] 데이터 형식을 벗어나는 데이터 수\n"
     ]
    },
    {
     "data": {
      "text/html": [
       "<div>\n",
       "<style scoped>\n",
       "    .dataframe tbody tr th:only-of-type {\n",
       "        vertical-align: middle;\n",
       "    }\n",
       "\n",
       "    .dataframe tbody tr th {\n",
       "        vertical-align: top;\n",
       "    }\n",
       "\n",
       "    .dataframe thead th {\n",
       "        text-align: right;\n",
       "    }\n",
       "</style>\n",
       "<table border=\"1\" class=\"dataframe\">\n",
       "  <thead>\n",
       "    <tr style=\"text-align: right;\">\n",
       "      <th></th>\n",
       "      <th>0</th>\n",
       "      <th>1</th>\n",
       "    </tr>\n",
       "  </thead>\n",
       "  <tbody>\n",
       "    <tr>\n",
       "      <th>0</th>\n",
       "      <td>order_info | date (datetime)</td>\n",
       "      <td>0.0</td>\n",
       "    </tr>\n",
       "    <tr>\n",
       "      <th>1</th>\n",
       "      <td>order_info | item (str)</td>\n",
       "      <td>0.0</td>\n",
       "    </tr>\n",
       "    <tr>\n",
       "      <th>2</th>\n",
       "      <td>order_info | cost (int)</td>\n",
       "      <td>0.0</td>\n",
       "    </tr>\n",
       "    <tr>\n",
       "      <th>3</th>\n",
       "      <td>order_info | qty (int)</td>\n",
       "      <td>0.0</td>\n",
       "    </tr>\n",
       "    <tr>\n",
       "      <th>4</th>\n",
       "      <td>order_info | urgent (int)</td>\n",
       "      <td>0.0</td>\n",
       "    </tr>\n",
       "    <tr>\n",
       "      <th>5</th>\n",
       "      <td>machine_info | item (str)</td>\n",
       "      <td>0.0</td>\n",
       "    </tr>\n",
       "    <tr>\n",
       "      <th>6</th>\n",
       "      <td>machine_info | machine (str)</td>\n",
       "      <td>100.0</td>\n",
       "    </tr>\n",
       "    <tr>\n",
       "      <th>7</th>\n",
       "      <td>machine_info | capacity (float)</td>\n",
       "      <td>0.0</td>\n",
       "    </tr>\n",
       "  </tbody>\n",
       "</table>\n",
       "</div>"
      ],
      "text/plain": [
       "                                 0      1\n",
       "0     order_info | date (datetime)    0.0\n",
       "1          order_info | item (str)    0.0\n",
       "2          order_info | cost (int)    0.0\n",
       "3           order_info | qty (int)    0.0\n",
       "4        order_info | urgent (int)    0.0\n",
       "5        machine_info | item (str)    0.0\n",
       "6     machine_info | machine (str)  100.0\n",
       "7  machine_info | capacity (float)    0.0"
      ]
     },
     "execution_count": 13,
     "metadata": {},
     "output_type": "execute_result"
    }
   ],
   "source": [
    "# 데이터 형식 확인\n",
    "print('[Step 2] 데이터 형식을 벗어나는 데이터 수')\n",
    "check_validity = []\n",
    "check = len(order_info) - sum(order_info['date'].apply(lambda x: isinstance(x, datetime.datetime)))\n",
    "check_validity.append(['order_info | date (datetime)', check])\n",
    "check = len(order_info) - sum(order_info['item'].apply(lambda x: isinstance(x, str)))\n",
    "check_validity.append(['order_info | item (str)', check])\n",
    "check = len(order_info) - sum(order_info['cost'].apply(lambda x: isinstance(x, int)))\n",
    "check_validity.append(['order_info | cost (int)', check])\n",
    "check = len(order_info) - sum(order_info['qty'].apply(lambda x: isinstance(x, int)))\n",
    "check_validity.append(['order_info | qty (int)', check])\n",
    "check = len(order_info) - sum(order_info['urgent'].apply(lambda x: isinstance(x, int)))\n",
    "check_validity.append(['order_info | urgent (int)', check])\n",
    "\n",
    "check = round(\n",
    "    ( len(machine_info)- sum(machine_info['item'].apply(lambda x: isinstance(x, str))\n",
    "    ))/len(machine_info)*100, 3)\n",
    "check_validity.append(['machine_info | item (str)', check])\n",
    "check = round(\n",
    "    (len(machine_info) - sum(machine_info['machine'].apply(lambda x: isinstance(x, str))\n",
    "    ))/len(machine_info)*100, 3)\n",
    "check_validity.append(['machine_info | machine (str)', check])\n",
    "check = 0\n",
    "for i in machine_info['capacity']:\n",
    "    if isinstance(i, float):\n",
    "        if isinstance(i, int):\n",
    "            check += 0\n",
    "check_validity.append(['machine_info | capacity (float)', round(check/len(machine_info)*100,3)])\n",
    "\n",
    "pd.DataFrame(check_validity)\n",
    "\n",
    "\n"
   ]
  },
  {
   "cell_type": "code",
   "execution_count": 14,
   "metadata": {},
   "outputs": [
    {
     "name": "stdout",
     "output_type": "stream",
     "text": [
      "일관성 지수 : 100.00% \n"
     ]
    },
    {
     "data": {
      "text/html": [
       "<div>\n",
       "<style scoped>\n",
       "    .dataframe tbody tr th:only-of-type {\n",
       "        vertical-align: middle;\n",
       "    }\n",
       "\n",
       "    .dataframe tbody tr th {\n",
       "        vertical-align: top;\n",
       "    }\n",
       "\n",
       "    .dataframe thead th {\n",
       "        text-align: right;\n",
       "    }\n",
       "</style>\n",
       "<table border=\"1\" class=\"dataframe\">\n",
       "  <thead>\n",
       "    <tr style=\"text-align: right;\">\n",
       "      <th></th>\n",
       "      <th>item</th>\n",
       "      <th>check</th>\n",
       "    </tr>\n",
       "  </thead>\n",
       "  <tbody>\n",
       "    <tr>\n",
       "      <th>0</th>\n",
       "      <td>K04033</td>\n",
       "      <td>True</td>\n",
       "    </tr>\n",
       "    <tr>\n",
       "      <th>1</th>\n",
       "      <td>K04031</td>\n",
       "      <td>True</td>\n",
       "    </tr>\n",
       "    <tr>\n",
       "      <th>2</th>\n",
       "      <td>051718</td>\n",
       "      <td>True</td>\n",
       "    </tr>\n",
       "    <tr>\n",
       "      <th>3</th>\n",
       "      <td>056984</td>\n",
       "      <td>True</td>\n",
       "    </tr>\n",
       "    <tr>\n",
       "      <th>4</th>\n",
       "      <td>057791</td>\n",
       "      <td>True</td>\n",
       "    </tr>\n",
       "    <tr>\n",
       "      <th>...</th>\n",
       "      <td>...</td>\n",
       "      <td>...</td>\n",
       "    </tr>\n",
       "    <tr>\n",
       "      <th>122</th>\n",
       "      <td>Z00807</td>\n",
       "      <td>True</td>\n",
       "    </tr>\n",
       "    <tr>\n",
       "      <th>123</th>\n",
       "      <td>069559</td>\n",
       "      <td>True</td>\n",
       "    </tr>\n",
       "    <tr>\n",
       "      <th>124</th>\n",
       "      <td>K00614</td>\n",
       "      <td>True</td>\n",
       "    </tr>\n",
       "    <tr>\n",
       "      <th>125</th>\n",
       "      <td>K04037</td>\n",
       "      <td>True</td>\n",
       "    </tr>\n",
       "    <tr>\n",
       "      <th>126</th>\n",
       "      <td>Z00807</td>\n",
       "      <td>True</td>\n",
       "    </tr>\n",
       "  </tbody>\n",
       "</table>\n",
       "<p>127 rows × 2 columns</p>\n",
       "</div>"
      ],
      "text/plain": [
       "       item  check\n",
       "0    K04033   True\n",
       "1    K04031   True\n",
       "2    051718   True\n",
       "3    056984   True\n",
       "4    057791   True\n",
       "..      ...    ...\n",
       "122  Z00807   True\n",
       "123  069559   True\n",
       "124  K00614   True\n",
       "125  K04037   True\n",
       "126  Z00807   True\n",
       "\n",
       "[127 rows x 2 columns]"
      ]
     },
     "execution_count": 14,
     "metadata": {},
     "output_type": "execute_result"
    }
   ],
   "source": [
    "# 4. 일관성 \n",
    "df = order_info\n",
    "vald_df = df[['item']].copy()\n",
    "vald_df['check'] = vald_df['item'].isin(set(machine_info['item']))\n",
    "print(\"일관성 지수 : %.2f%% \"%(sum(vald_df['check'])/len(df)*100)) \n",
    "vald_df\n"
   ]
  },
  {
   "cell_type": "code",
   "execution_count": 15,
   "metadata": {},
   "outputs": [
    {
     "data": {
      "text/html": [
       "<div>\n",
       "<style scoped>\n",
       "    .dataframe tbody tr th:only-of-type {\n",
       "        vertical-align: middle;\n",
       "    }\n",
       "\n",
       "    .dataframe tbody tr th {\n",
       "        vertical-align: top;\n",
       "    }\n",
       "\n",
       "    .dataframe thead th {\n",
       "        text-align: right;\n",
       "    }\n",
       "</style>\n",
       "<table border=\"1\" class=\"dataframe\">\n",
       "  <thead>\n",
       "    <tr style=\"text-align: right;\">\n",
       "      <th></th>\n",
       "      <th>item</th>\n",
       "      <th>machine</th>\n",
       "      <th>capacity</th>\n",
       "    </tr>\n",
       "  </thead>\n",
       "  <tbody>\n",
       "    <tr>\n",
       "      <th>0</th>\n",
       "      <td>050060</td>\n",
       "      <td>433.0</td>\n",
       "      <td>1.08</td>\n",
       "    </tr>\n",
       "    <tr>\n",
       "      <th>1</th>\n",
       "      <td>050093</td>\n",
       "      <td>404.0</td>\n",
       "      <td>7.13</td>\n",
       "    </tr>\n",
       "    <tr>\n",
       "      <th>2</th>\n",
       "      <td>050093</td>\n",
       "      <td>408.0</td>\n",
       "      <td>4.67</td>\n",
       "    </tr>\n",
       "    <tr>\n",
       "      <th>3</th>\n",
       "      <td>050093</td>\n",
       "      <td>410.0</td>\n",
       "      <td>4.50</td>\n",
       "    </tr>\n",
       "    <tr>\n",
       "      <th>4</th>\n",
       "      <td>050093</td>\n",
       "      <td>416.0</td>\n",
       "      <td>3.92</td>\n",
       "    </tr>\n",
       "    <tr>\n",
       "      <th>...</th>\n",
       "      <td>...</td>\n",
       "      <td>...</td>\n",
       "      <td>...</td>\n",
       "    </tr>\n",
       "    <tr>\n",
       "      <th>21146</th>\n",
       "      <td>Z01387</td>\n",
       "      <td>439.0</td>\n",
       "      <td>2.32</td>\n",
       "    </tr>\n",
       "    <tr>\n",
       "      <th>21147</th>\n",
       "      <td>Z01387</td>\n",
       "      <td>440.0</td>\n",
       "      <td>2.34</td>\n",
       "    </tr>\n",
       "    <tr>\n",
       "      <th>21148</th>\n",
       "      <td>Z01388</td>\n",
       "      <td>433.0</td>\n",
       "      <td>4.16</td>\n",
       "    </tr>\n",
       "    <tr>\n",
       "      <th>21149</th>\n",
       "      <td>Z01407</td>\n",
       "      <td>408.0</td>\n",
       "      <td>3.00</td>\n",
       "    </tr>\n",
       "    <tr>\n",
       "      <th>21150</th>\n",
       "      <td>Z01415</td>\n",
       "      <td>409.0</td>\n",
       "      <td>9.50</td>\n",
       "    </tr>\n",
       "  </tbody>\n",
       "</table>\n",
       "<p>21151 rows × 3 columns</p>\n",
       "</div>"
      ],
      "text/plain": [
       "         item  machine  capacity\n",
       "0      050060    433.0      1.08\n",
       "1      050093    404.0      7.13\n",
       "2      050093    408.0      4.67\n",
       "3      050093    410.0      4.50\n",
       "4      050093    416.0      3.92\n",
       "...       ...      ...       ...\n",
       "21146  Z01387    439.0      2.32\n",
       "21147  Z01387    440.0      2.34\n",
       "21148  Z01388    433.0      4.16\n",
       "21149  Z01407    408.0      3.00\n",
       "21150  Z01415    409.0      9.50\n",
       "\n",
       "[21151 rows x 3 columns]"
      ]
     },
     "execution_count": 15,
     "metadata": {},
     "output_type": "execute_result"
    }
   ],
   "source": [
    "machine_info"
   ]
  },
  {
   "cell_type": "markdown",
   "metadata": {},
   "source": [
    "# 전처리\n",
    "\n"
   ]
  },
  {
   "cell_type": "code",
   "execution_count": 16,
   "metadata": {},
   "outputs": [
    {
     "name": "stdout",
     "output_type": "stream",
     "text": [
      "Machine_info : nan 값 제거 (21151 row --> 21149 row, 0.009% 삭제)\n",
      "order_info : nan 값 제거 (127 row --> 127 row, 0.0% 삭제)\n"
     ]
    }
   ],
   "source": [
    "# nan값 처리\n",
    "n_before_preprocess = len(machine_info)\n",
    "machine_info.dropna(axis=0, inplace=True)\n",
    "n_after_preprocess = len(machine_info)\n",
    "print(f'Machine_info : nan 값 제거 ({n_before_preprocess} row --> {n_after_preprocess} row, {round(((n_before_preprocess-n_after_preprocess)/n_before_preprocess*100), 3)}% 삭제)')\n",
    "\n",
    "n_before_preprocess = len(order_info)\n",
    "order_info = order_info[['date', 'item', 'cost', 'qty', 'urgent']]\n",
    "order_info.dropna(axis=0, inplace=True)\n",
    "n_after_preprocess = len(order_info)\n",
    "print(f'order_info : nan 값 제거 ({n_before_preprocess} row --> {n_after_preprocess} row, {round(((n_before_preprocess-n_after_preprocess)/n_before_preprocess*100), 3)}% 삭제)')\n"
   ]
  },
  {
   "cell_type": "code",
   "execution_count": 17,
   "metadata": {},
   "outputs": [
    {
     "data": {
      "text/plain": [
       "date        item    cost \n",
       "2021-07-09  057386  24418    2\n",
       "            057387  17794    2\n",
       "2021-06-15  K03115  26719    2\n",
       "2021-02-10  S00341  2990     1\n",
       "2021-07-07  K03894  60000    1\n",
       "dtype: int64"
      ]
     },
     "execution_count": 17,
     "metadata": {},
     "output_type": "execute_result"
    }
   ],
   "source": [
    "order_info[['date', 'item', 'cost']].value_counts().head()\n"
   ]
  },
  {
   "cell_type": "code",
   "execution_count": 18,
   "metadata": {},
   "outputs": [
    {
     "data": {
      "text/plain": [
       "item    machine\n",
       "050060  433.0      1\n",
       "K00347  404.0      1\n",
       "K00337  438.0      1\n",
       "        437.0      1\n",
       "        410.0      1\n",
       "dtype: int64"
      ]
     },
     "execution_count": 18,
     "metadata": {},
     "output_type": "execute_result"
    }
   ],
   "source": [
    "# unique 처리\n",
    "machine_info[['item', 'machine']].value_counts().head() # 모두 unique하므로 바로 사용"
   ]
  },
  {
   "cell_type": "code",
   "execution_count": 19,
   "metadata": {},
   "outputs": [
    {
     "data": {
      "text/plain": [
       "date        item    cost   urgent\n",
       "2021-07-09  057386  24418  1         2\n",
       "            057387  17794  1         2\n",
       "2021-06-15  K03115  26719  0         2\n",
       "2021-02-10  S00341  2990   0         1\n",
       "2021-07-07  K03894  60000  1         1\n",
       "dtype: int64"
      ]
     },
     "execution_count": 19,
     "metadata": {},
     "output_type": "execute_result"
    }
   ],
   "source": [
    "\n",
    "order_info[['date', 'item', 'cost', 'urgent']].value_counts().head()\n"
   ]
  },
  {
   "cell_type": "code",
   "execution_count": 20,
   "metadata": {},
   "outputs": [
    {
     "data": {
      "text/html": [
       "<div>\n",
       "<style scoped>\n",
       "    .dataframe tbody tr th:only-of-type {\n",
       "        vertical-align: middle;\n",
       "    }\n",
       "\n",
       "    .dataframe tbody tr th {\n",
       "        vertical-align: top;\n",
       "    }\n",
       "\n",
       "    .dataframe thead th {\n",
       "        text-align: right;\n",
       "    }\n",
       "</style>\n",
       "<table border=\"1\" class=\"dataframe\">\n",
       "  <thead>\n",
       "    <tr style=\"text-align: right;\">\n",
       "      <th></th>\n",
       "      <th>date</th>\n",
       "      <th>item</th>\n",
       "      <th>cost</th>\n",
       "      <th>qty</th>\n",
       "      <th>urgent</th>\n",
       "    </tr>\n",
       "  </thead>\n",
       "  <tbody>\n",
       "    <tr>\n",
       "      <th>32</th>\n",
       "      <td>2021-06-15</td>\n",
       "      <td>K03115</td>\n",
       "      <td>26719</td>\n",
       "      <td>30</td>\n",
       "      <td>0</td>\n",
       "    </tr>\n",
       "    <tr>\n",
       "      <th>34</th>\n",
       "      <td>2021-06-15</td>\n",
       "      <td>K03115</td>\n",
       "      <td>26719</td>\n",
       "      <td>28</td>\n",
       "      <td>0</td>\n",
       "    </tr>\n",
       "  </tbody>\n",
       "</table>\n",
       "</div>"
      ],
      "text/plain": [
       "         date    item   cost  qty urgent\n",
       "32 2021-06-15  K03115  26719   30      0\n",
       "34 2021-06-15  K03115  26719   28      0"
      ]
     },
     "execution_count": 20,
     "metadata": {},
     "output_type": "execute_result"
    }
   ],
   "source": [
    "order_info[(order_info['date']=='2021-06-15')&(order_info['item']=='K03115')]"
   ]
  },
  {
   "cell_type": "code",
   "execution_count": 21,
   "metadata": {},
   "outputs": [
    {
     "data": {
      "text/plain": [
       "date        item  \n",
       "2021-02-10  S00341    1\n",
       "2021-07-01  057386    1\n",
       "2021-07-06  K03899    1\n",
       "            059988    1\n",
       "2021-07-05  067447    1\n",
       "dtype: int64"
      ]
     },
     "execution_count": 21,
     "metadata": {},
     "output_type": "execute_result"
    }
   ],
   "source": [
    "order_info = order_info.groupby(['date', 'item', 'cost', 'urgent']).sum().reset_index()\n",
    "order_info[['date', 'item']].value_counts().head()\n"
   ]
  },
  {
   "cell_type": "code",
   "execution_count": 22,
   "metadata": {},
   "outputs": [
    {
     "data": {
      "text/html": [
       "<div>\n",
       "<style scoped>\n",
       "    .dataframe tbody tr th:only-of-type {\n",
       "        vertical-align: middle;\n",
       "    }\n",
       "\n",
       "    .dataframe tbody tr th {\n",
       "        vertical-align: top;\n",
       "    }\n",
       "\n",
       "    .dataframe thead th {\n",
       "        text-align: right;\n",
       "    }\n",
       "</style>\n",
       "<table border=\"1\" class=\"dataframe\">\n",
       "  <thead>\n",
       "    <tr style=\"text-align: right;\">\n",
       "      <th></th>\n",
       "      <th>date</th>\n",
       "      <th>item</th>\n",
       "      <th>cost</th>\n",
       "      <th>urgent</th>\n",
       "      <th>qty</th>\n",
       "    </tr>\n",
       "  </thead>\n",
       "  <tbody>\n",
       "    <tr>\n",
       "      <th>34</th>\n",
       "      <td>2021-06-15</td>\n",
       "      <td>K03115</td>\n",
       "      <td>26719</td>\n",
       "      <td>0</td>\n",
       "      <td>58</td>\n",
       "    </tr>\n",
       "  </tbody>\n",
       "</table>\n",
       "</div>"
      ],
      "text/plain": [
       "         date    item   cost  urgent  qty\n",
       "34 2021-06-15  K03115  26719       0   58"
      ]
     },
     "execution_count": 22,
     "metadata": {},
     "output_type": "execute_result"
    }
   ],
   "source": [
    "order_info[(order_info['date']=='2021-06-15')&(order_info['item']=='K03115')]"
   ]
  },
  {
   "cell_type": "code",
   "execution_count": 23,
   "metadata": {},
   "outputs": [
    {
     "data": {
      "text/html": [
       "<div>\n",
       "<style scoped>\n",
       "    .dataframe tbody tr th:only-of-type {\n",
       "        vertical-align: middle;\n",
       "    }\n",
       "\n",
       "    .dataframe tbody tr th {\n",
       "        vertical-align: top;\n",
       "    }\n",
       "\n",
       "    .dataframe thead th {\n",
       "        text-align: right;\n",
       "    }\n",
       "</style>\n",
       "<table border=\"1\" class=\"dataframe\">\n",
       "  <thead>\n",
       "    <tr style=\"text-align: right;\">\n",
       "      <th></th>\n",
       "      <th>cost</th>\n",
       "      <th>urgent</th>\n",
       "      <th>qty</th>\n",
       "    </tr>\n",
       "  </thead>\n",
       "  <tbody>\n",
       "    <tr>\n",
       "      <th>count</th>\n",
       "      <td>124.000000</td>\n",
       "      <td>124.000000</td>\n",
       "      <td>124.000000</td>\n",
       "    </tr>\n",
       "    <tr>\n",
       "      <th>mean</th>\n",
       "      <td>45741.887097</td>\n",
       "      <td>0.354839</td>\n",
       "      <td>116.870968</td>\n",
       "    </tr>\n",
       "    <tr>\n",
       "      <th>std</th>\n",
       "      <td>82185.119325</td>\n",
       "      <td>0.480405</td>\n",
       "      <td>142.430526</td>\n",
       "    </tr>\n",
       "    <tr>\n",
       "      <th>min</th>\n",
       "      <td>2990.000000</td>\n",
       "      <td>0.000000</td>\n",
       "      <td>2.000000</td>\n",
       "    </tr>\n",
       "    <tr>\n",
       "      <th>25%</th>\n",
       "      <td>11500.000000</td>\n",
       "      <td>0.000000</td>\n",
       "      <td>20.000000</td>\n",
       "    </tr>\n",
       "    <tr>\n",
       "      <th>50%</th>\n",
       "      <td>21058.500000</td>\n",
       "      <td>0.000000</td>\n",
       "      <td>48.000000</td>\n",
       "    </tr>\n",
       "    <tr>\n",
       "      <th>75%</th>\n",
       "      <td>36543.500000</td>\n",
       "      <td>1.000000</td>\n",
       "      <td>194.500000</td>\n",
       "    </tr>\n",
       "    <tr>\n",
       "      <th>max</th>\n",
       "      <td>481190.000000</td>\n",
       "      <td>1.000000</td>\n",
       "      <td>716.000000</td>\n",
       "    </tr>\n",
       "  </tbody>\n",
       "</table>\n",
       "</div>"
      ],
      "text/plain": [
       "                cost      urgent         qty\n",
       "count     124.000000  124.000000  124.000000\n",
       "mean    45741.887097    0.354839  116.870968\n",
       "std     82185.119325    0.480405  142.430526\n",
       "min      2990.000000    0.000000    2.000000\n",
       "25%     11500.000000    0.000000   20.000000\n",
       "50%     21058.500000    0.000000   48.000000\n",
       "75%     36543.500000    1.000000  194.500000\n",
       "max    481190.000000    1.000000  716.000000"
      ]
     },
     "execution_count": 23,
     "metadata": {},
     "output_type": "execute_result"
    }
   ],
   "source": [
    "order_info.describe()"
   ]
  },
  {
   "cell_type": "code",
   "execution_count": 24,
   "metadata": {},
   "outputs": [
    {
     "data": {
      "text/html": [
       "<div>\n",
       "<style scoped>\n",
       "    .dataframe tbody tr th:only-of-type {\n",
       "        vertical-align: middle;\n",
       "    }\n",
       "\n",
       "    .dataframe tbody tr th {\n",
       "        vertical-align: top;\n",
       "    }\n",
       "\n",
       "    .dataframe thead th {\n",
       "        text-align: right;\n",
       "    }\n",
       "</style>\n",
       "<table border=\"1\" class=\"dataframe\">\n",
       "  <thead>\n",
       "    <tr style=\"text-align: right;\">\n",
       "      <th></th>\n",
       "      <th>machine</th>\n",
       "      <th>capacity</th>\n",
       "    </tr>\n",
       "  </thead>\n",
       "  <tbody>\n",
       "    <tr>\n",
       "      <th>count</th>\n",
       "      <td>21149.000000</td>\n",
       "      <td>21149.000000</td>\n",
       "    </tr>\n",
       "    <tr>\n",
       "      <th>mean</th>\n",
       "      <td>420.686132</td>\n",
       "      <td>10.442513</td>\n",
       "    </tr>\n",
       "    <tr>\n",
       "      <th>std</th>\n",
       "      <td>12.071250</td>\n",
       "      <td>18.305433</td>\n",
       "    </tr>\n",
       "    <tr>\n",
       "      <th>min</th>\n",
       "      <td>401.000000</td>\n",
       "      <td>0.050000</td>\n",
       "    </tr>\n",
       "    <tr>\n",
       "      <th>25%</th>\n",
       "      <td>409.000000</td>\n",
       "      <td>3.200000</td>\n",
       "    </tr>\n",
       "    <tr>\n",
       "      <th>50%</th>\n",
       "      <td>424.000000</td>\n",
       "      <td>5.500000</td>\n",
       "    </tr>\n",
       "    <tr>\n",
       "      <th>75%</th>\n",
       "      <td>433.000000</td>\n",
       "      <td>10.500000</td>\n",
       "    </tr>\n",
       "    <tr>\n",
       "      <th>max</th>\n",
       "      <td>442.000000</td>\n",
       "      <td>930.000000</td>\n",
       "    </tr>\n",
       "  </tbody>\n",
       "</table>\n",
       "</div>"
      ],
      "text/plain": [
       "            machine      capacity\n",
       "count  21149.000000  21149.000000\n",
       "mean     420.686132     10.442513\n",
       "std       12.071250     18.305433\n",
       "min      401.000000      0.050000\n",
       "25%      409.000000      3.200000\n",
       "50%      424.000000      5.500000\n",
       "75%      433.000000     10.500000\n",
       "max      442.000000    930.000000"
      ]
     },
     "execution_count": 24,
     "metadata": {},
     "output_type": "execute_result"
    }
   ],
   "source": [
    "machine_info.describe()"
   ]
  },
  {
   "cell_type": "code",
   "execution_count": 25,
   "metadata": {},
   "outputs": [
    {
     "name": "stdout",
     "output_type": "stream",
     "text": [
      "2021-01-01 ~ 2021-02-01생산 주문 건 수: 0\n",
      "2021-02-01 ~ 2021-03-01생산 주문 건 수: 2\n",
      "2021-03-01 ~ 2021-04-01생산 주문 건 수: 1\n",
      "2021-04-01 ~ 2021-05-01생산 주문 건 수: 1\n",
      "2021-05-01 ~ 2021-06-01생산 주문 건 수: 8\n",
      "2021-06-01 ~ 2021-07-01생산 주문 건 수: 62\n",
      "2021-07-01 ~ 2021-08-01생산 주문 건 수: 38\n",
      "2021-08-01 ~ 2021-09-01생산 주문 건 수: 4\n"
     ]
    }
   ],
   "source": [
    "\n",
    "date_start = [\n",
    "    '2021-01-01',\n",
    "    '2021-02-01',\n",
    "    '2021-03-01',\n",
    "    '2021-04-01',\n",
    "    '2021-05-01',\n",
    "    '2021-06-01',\n",
    "    '2021-07-01',\n",
    "    '2021-08-01',\n",
    "    '2021-09-01',    \n",
    "]\n",
    "for i in range(len(date_start)-1):\n",
    "    check_df = order_info[\n",
    "        (order_info['date'] >date_start[i])\n",
    "        &(order_info['date'] <date_start[i+1])\n",
    "        ]\n",
    "    print(f'{date_start[i]} ~ {date_start[i+1]}생산 주문 건 수: {len(check_df)}')\n",
    "\n"
   ]
  },
  {
   "cell_type": "code",
   "execution_count": 26,
   "metadata": {},
   "outputs": [
    {
     "data": {
      "text/html": [
       "<div>\n",
       "<style scoped>\n",
       "    .dataframe tbody tr th:only-of-type {\n",
       "        vertical-align: middle;\n",
       "    }\n",
       "\n",
       "    .dataframe tbody tr th {\n",
       "        vertical-align: top;\n",
       "    }\n",
       "\n",
       "    .dataframe thead th {\n",
       "        text-align: right;\n",
       "    }\n",
       "</style>\n",
       "<table border=\"1\" class=\"dataframe\">\n",
       "  <thead>\n",
       "    <tr style=\"text-align: right;\">\n",
       "      <th></th>\n",
       "      <th>date</th>\n",
       "      <th>item</th>\n",
       "      <th>cost</th>\n",
       "      <th>urgent</th>\n",
       "      <th>qty</th>\n",
       "    </tr>\n",
       "  </thead>\n",
       "  <tbody>\n",
       "    <tr>\n",
       "      <th>0</th>\n",
       "      <td>2021-02-10</td>\n",
       "      <td>S00341</td>\n",
       "      <td>2990</td>\n",
       "      <td>0</td>\n",
       "      <td>500</td>\n",
       "    </tr>\n",
       "    <tr>\n",
       "      <th>1</th>\n",
       "      <td>2021-02-18</td>\n",
       "      <td>052996</td>\n",
       "      <td>20000</td>\n",
       "      <td>0</td>\n",
       "      <td>2</td>\n",
       "    </tr>\n",
       "    <tr>\n",
       "      <th>2</th>\n",
       "      <td>2021-03-10</td>\n",
       "      <td>S00341</td>\n",
       "      <td>2990</td>\n",
       "      <td>0</td>\n",
       "      <td>500</td>\n",
       "    </tr>\n",
       "    <tr>\n",
       "      <th>3</th>\n",
       "      <td>2021-04-10</td>\n",
       "      <td>S00341</td>\n",
       "      <td>2990</td>\n",
       "      <td>0</td>\n",
       "      <td>500</td>\n",
       "    </tr>\n",
       "    <tr>\n",
       "      <th>4</th>\n",
       "      <td>2021-05-10</td>\n",
       "      <td>S00341</td>\n",
       "      <td>2990</td>\n",
       "      <td>0</td>\n",
       "      <td>398</td>\n",
       "    </tr>\n",
       "    <tr>\n",
       "      <th>5</th>\n",
       "      <td>2021-05-13</td>\n",
       "      <td>066157</td>\n",
       "      <td>18500</td>\n",
       "      <td>1</td>\n",
       "      <td>208</td>\n",
       "    </tr>\n",
       "    <tr>\n",
       "      <th>6</th>\n",
       "      <td>2021-05-13</td>\n",
       "      <td>K04033</td>\n",
       "      <td>25870</td>\n",
       "      <td>1</td>\n",
       "      <td>318</td>\n",
       "    </tr>\n",
       "    <tr>\n",
       "      <th>7</th>\n",
       "      <td>2021-05-24</td>\n",
       "      <td>K04031</td>\n",
       "      <td>16229</td>\n",
       "      <td>1</td>\n",
       "      <td>383</td>\n",
       "    </tr>\n",
       "    <tr>\n",
       "      <th>8</th>\n",
       "      <td>2021-05-30</td>\n",
       "      <td>051718</td>\n",
       "      <td>8333</td>\n",
       "      <td>0</td>\n",
       "      <td>19</td>\n",
       "    </tr>\n",
       "    <tr>\n",
       "      <th>9</th>\n",
       "      <td>2021-05-30</td>\n",
       "      <td>052996</td>\n",
       "      <td>20000</td>\n",
       "      <td>0</td>\n",
       "      <td>2</td>\n",
       "    </tr>\n",
       "    <tr>\n",
       "      <th>10</th>\n",
       "      <td>2021-05-30</td>\n",
       "      <td>K04101</td>\n",
       "      <td>15640</td>\n",
       "      <td>0</td>\n",
       "      <td>15</td>\n",
       "    </tr>\n",
       "    <tr>\n",
       "      <th>11</th>\n",
       "      <td>2021-05-31</td>\n",
       "      <td>S00271</td>\n",
       "      <td>4000</td>\n",
       "      <td>0</td>\n",
       "      <td>150</td>\n",
       "    </tr>\n",
       "  </tbody>\n",
       "</table>\n",
       "</div>"
      ],
      "text/plain": [
       "         date    item   cost  urgent  qty\n",
       "0  2021-02-10  S00341   2990       0  500\n",
       "1  2021-02-18  052996  20000       0    2\n",
       "2  2021-03-10  S00341   2990       0  500\n",
       "3  2021-04-10  S00341   2990       0  500\n",
       "4  2021-05-10  S00341   2990       0  398\n",
       "5  2021-05-13  066157  18500       1  208\n",
       "6  2021-05-13  K04033  25870       1  318\n",
       "7  2021-05-24  K04031  16229       1  383\n",
       "8  2021-05-30  051718   8333       0   19\n",
       "9  2021-05-30  052996  20000       0    2\n",
       "10 2021-05-30  K04101  15640       0   15\n",
       "11 2021-05-31  S00271   4000       0  150"
      ]
     },
     "execution_count": 26,
     "metadata": {},
     "output_type": "execute_result"
    }
   ],
   "source": [
    "# 7월 주문 해보기\n",
    "filtered_order_info = order_info[\n",
    "    (order_info['date'] > '2021-01-01')\n",
    "    &(order_info['date'] < '2021-06-01')\n",
    "    ]\n",
    "\n",
    "filtered_order_info"
   ]
  },
  {
   "cell_type": "code",
   "execution_count": 27,
   "metadata": {},
   "outputs": [],
   "source": [
    "dataset = pd.merge(filtered_order_info, machine_info, on='item', how='inner')\n",
    "dataset.to_csv('dataset.csv', index=False)\n"
   ]
  },
  {
   "cell_type": "code",
   "execution_count": 28,
   "metadata": {},
   "outputs": [],
   "source": [
    "dataset = pd.read_csv('dataset.csv')\n",
    "##\n",
    "# MIP\n",
    "ijt_df = pd.DataFrame(dataset[['item', 'machine', 'date']].value_counts()).reset_index()[['item', 'machine', 'date']]\n",
    "ijt_df=ijt_df.sort_values(['item']).reset_index(drop=True)\n",
    "ijt_set = set()\n",
    "for index, info in ijt_df.iterrows():\n",
    "    ijt_set.add((info['item'], info['machine'], info['date']))\n",
    "\n",
    "\n",
    "# variables infomation\n",
    "T = list(set(dataset['date']))\n",
    "I = list(set(dataset['item']))\n",
    "J = list(set(dataset['machine']))\n",
    "\n"
   ]
  },
  {
   "cell_type": "code",
   "execution_count": 29,
   "metadata": {},
   "outputs": [
    {
     "data": {
      "text/plain": [
       "['2021-05-13',\n",
       " '2021-04-10',\n",
       " '2021-05-30',\n",
       " '2021-02-18',\n",
       " '2021-05-31',\n",
       " '2021-02-10',\n",
       " '2021-03-10',\n",
       " '2021-05-24',\n",
       " '2021-05-10']"
      ]
     },
     "execution_count": 29,
     "metadata": {},
     "output_type": "execute_result"
    }
   ],
   "source": [
    "T"
   ]
  },
  {
   "cell_type": "code",
   "execution_count": 30,
   "metadata": {},
   "outputs": [
    {
     "data": {
      "text/plain": [
       "['052996',\n",
       " 'K04033',\n",
       " 'K04031',\n",
       " 'S00341',\n",
       " 'K04101',\n",
       " 'S00271',\n",
       " '066157',\n",
       " '051718']"
      ]
     },
     "execution_count": 30,
     "metadata": {},
     "output_type": "execute_result"
    }
   ],
   "source": [
    "I"
   ]
  },
  {
   "cell_type": "code",
   "execution_count": 31,
   "metadata": {},
   "outputs": [
    {
     "data": {
      "text/plain": [
       "[404.0,\n",
       " 405.0,\n",
       " 407.0,\n",
       " 408.0,\n",
       " 409.0,\n",
       " 410.0,\n",
       " 412.0,\n",
       " 416.0,\n",
       " 421.0,\n",
       " 422.0,\n",
       " 424.0,\n",
       " 425.0,\n",
       " 426.0,\n",
       " 433.0,\n",
       " 434.0,\n",
       " 435.0,\n",
       " 436.0,\n",
       " 438.0,\n",
       " 439.0,\n",
       " 440.0]"
      ]
     },
     "execution_count": 31,
     "metadata": {},
     "output_type": "execute_result"
    }
   ],
   "source": [
    "J"
   ]
  },
  {
   "cell_type": "code",
   "execution_count": 32,
   "metadata": {},
   "outputs": [],
   "source": [
    "cit = dict()\n",
    "for i in I:\n",
    "    for t in T:\n",
    "        temp_dataset = dataset[\n",
    "            (dataset['item']==i)\n",
    "            &(dataset['date']==t)]\n",
    "\n",
    "        if len(temp_dataset) != 0:\n",
    "            value = list(set(temp_dataset['cost']))[0]\n",
    "            cit[i, t] = value\n",
    "        else: \n",
    "            cit[i, t] = 0\n",
    "pit = dict()\n",
    "for i in I:\n",
    "    for t in T:\n",
    "        temp_dataset = dataset[\n",
    "            (dataset['item']==i)\n",
    "            &(dataset['date']==t)]\n",
    "            \n",
    "        if len(temp_dataset) != 0:\n",
    "            value = list(set(temp_dataset['urgent']))[0]\n",
    "            pit[i, t] = value\n",
    "        else: \n",
    "            pit[i, t] = 0\n",
    "\n",
    "dit = dict()\n",
    "for i in I:\n",
    "    for t in T:\n",
    "        temp_dataset = dataset[\n",
    "            (dataset['item']==i)\n",
    "            &(dataset['date']==t)]\n",
    "            \n",
    "        if len(temp_dataset) != 0:\n",
    "            value = list(set(temp_dataset['qty']))[0]\n",
    "            dit[i, t] = value\n",
    "        else: \n",
    "            dit[i, t] = 0\n",
    "\n",
    "mijt = dict()\n",
    "for i in I:\n",
    "    for j in J:\n",
    "        temp_dataset = dataset[\n",
    "            (dataset['item']==i)\n",
    "            &(dataset['machine']==j)]\n",
    "            \n",
    "        if len(temp_dataset) != 0:\n",
    "            value = list(set(temp_dataset['capacity']))[0]\n",
    "            for t in T:\n",
    "                mijt[i, j, t] = value\n",
    "        else: \n",
    "            for t in T:\n",
    "                mijt[i, j, t] = 0\n"
   ]
  },
  {
   "cell_type": "code",
   "execution_count": 33,
   "metadata": {},
   "outputs": [
    {
     "data": {
      "text/plain": [
       "{('052996', '2021-05-13'): 0,\n",
       " ('052996', '2021-04-10'): 0,\n",
       " ('052996', '2021-05-30'): 20000,\n",
       " ('052996', '2021-02-18'): 20000,\n",
       " ('052996', '2021-05-31'): 0,\n",
       " ('052996', '2021-02-10'): 0,\n",
       " ('052996', '2021-03-10'): 0,\n",
       " ('052996', '2021-05-24'): 0,\n",
       " ('052996', '2021-05-10'): 0,\n",
       " ('K04033', '2021-05-13'): 25870,\n",
       " ('K04033', '2021-04-10'): 0,\n",
       " ('K04033', '2021-05-30'): 0,\n",
       " ('K04033', '2021-02-18'): 0,\n",
       " ('K04033', '2021-05-31'): 0,\n",
       " ('K04033', '2021-02-10'): 0,\n",
       " ('K04033', '2021-03-10'): 0,\n",
       " ('K04033', '2021-05-24'): 0,\n",
       " ('K04033', '2021-05-10'): 0,\n",
       " ('K04031', '2021-05-13'): 0,\n",
       " ('K04031', '2021-04-10'): 0,\n",
       " ('K04031', '2021-05-30'): 0,\n",
       " ('K04031', '2021-02-18'): 0,\n",
       " ('K04031', '2021-05-31'): 0,\n",
       " ('K04031', '2021-02-10'): 0,\n",
       " ('K04031', '2021-03-10'): 0,\n",
       " ('K04031', '2021-05-24'): 16229,\n",
       " ('K04031', '2021-05-10'): 0,\n",
       " ('S00341', '2021-05-13'): 0,\n",
       " ('S00341', '2021-04-10'): 2990,\n",
       " ('S00341', '2021-05-30'): 0,\n",
       " ('S00341', '2021-02-18'): 0,\n",
       " ('S00341', '2021-05-31'): 0,\n",
       " ('S00341', '2021-02-10'): 2990,\n",
       " ('S00341', '2021-03-10'): 2990,\n",
       " ('S00341', '2021-05-24'): 0,\n",
       " ('S00341', '2021-05-10'): 2990,\n",
       " ('K04101', '2021-05-13'): 0,\n",
       " ('K04101', '2021-04-10'): 0,\n",
       " ('K04101', '2021-05-30'): 15640,\n",
       " ('K04101', '2021-02-18'): 0,\n",
       " ('K04101', '2021-05-31'): 0,\n",
       " ('K04101', '2021-02-10'): 0,\n",
       " ('K04101', '2021-03-10'): 0,\n",
       " ('K04101', '2021-05-24'): 0,\n",
       " ('K04101', '2021-05-10'): 0,\n",
       " ('S00271', '2021-05-13'): 0,\n",
       " ('S00271', '2021-04-10'): 0,\n",
       " ('S00271', '2021-05-30'): 0,\n",
       " ('S00271', '2021-02-18'): 0,\n",
       " ('S00271', '2021-05-31'): 4000,\n",
       " ('S00271', '2021-02-10'): 0,\n",
       " ('S00271', '2021-03-10'): 0,\n",
       " ('S00271', '2021-05-24'): 0,\n",
       " ('S00271', '2021-05-10'): 0,\n",
       " ('066157', '2021-05-13'): 18500,\n",
       " ('066157', '2021-04-10'): 0,\n",
       " ('066157', '2021-05-30'): 0,\n",
       " ('066157', '2021-02-18'): 0,\n",
       " ('066157', '2021-05-31'): 0,\n",
       " ('066157', '2021-02-10'): 0,\n",
       " ('066157', '2021-03-10'): 0,\n",
       " ('066157', '2021-05-24'): 0,\n",
       " ('066157', '2021-05-10'): 0,\n",
       " ('051718', '2021-05-13'): 0,\n",
       " ('051718', '2021-04-10'): 0,\n",
       " ('051718', '2021-05-30'): 8333,\n",
       " ('051718', '2021-02-18'): 0,\n",
       " ('051718', '2021-05-31'): 0,\n",
       " ('051718', '2021-02-10'): 0,\n",
       " ('051718', '2021-03-10'): 0,\n",
       " ('051718', '2021-05-24'): 0,\n",
       " ('051718', '2021-05-10'): 0}"
      ]
     },
     "execution_count": 33,
     "metadata": {},
     "output_type": "execute_result"
    }
   ],
   "source": [
    "cit"
   ]
  },
  {
   "cell_type": "code",
   "execution_count": 34,
   "metadata": {},
   "outputs": [
    {
     "data": {
      "text/plain": [
       "{('052996', '2021-05-13'): 0,\n",
       " ('052996', '2021-04-10'): 0,\n",
       " ('052996', '2021-05-30'): 0,\n",
       " ('052996', '2021-02-18'): 0,\n",
       " ('052996', '2021-05-31'): 0,\n",
       " ('052996', '2021-02-10'): 0,\n",
       " ('052996', '2021-03-10'): 0,\n",
       " ('052996', '2021-05-24'): 0,\n",
       " ('052996', '2021-05-10'): 0,\n",
       " ('K04033', '2021-05-13'): 1,\n",
       " ('K04033', '2021-04-10'): 0,\n",
       " ('K04033', '2021-05-30'): 0,\n",
       " ('K04033', '2021-02-18'): 0,\n",
       " ('K04033', '2021-05-31'): 0,\n",
       " ('K04033', '2021-02-10'): 0,\n",
       " ('K04033', '2021-03-10'): 0,\n",
       " ('K04033', '2021-05-24'): 0,\n",
       " ('K04033', '2021-05-10'): 0,\n",
       " ('K04031', '2021-05-13'): 0,\n",
       " ('K04031', '2021-04-10'): 0,\n",
       " ('K04031', '2021-05-30'): 0,\n",
       " ('K04031', '2021-02-18'): 0,\n",
       " ('K04031', '2021-05-31'): 0,\n",
       " ('K04031', '2021-02-10'): 0,\n",
       " ('K04031', '2021-03-10'): 0,\n",
       " ('K04031', '2021-05-24'): 1,\n",
       " ('K04031', '2021-05-10'): 0,\n",
       " ('S00341', '2021-05-13'): 0,\n",
       " ('S00341', '2021-04-10'): 0,\n",
       " ('S00341', '2021-05-30'): 0,\n",
       " ('S00341', '2021-02-18'): 0,\n",
       " ('S00341', '2021-05-31'): 0,\n",
       " ('S00341', '2021-02-10'): 0,\n",
       " ('S00341', '2021-03-10'): 0,\n",
       " ('S00341', '2021-05-24'): 0,\n",
       " ('S00341', '2021-05-10'): 0,\n",
       " ('K04101', '2021-05-13'): 0,\n",
       " ('K04101', '2021-04-10'): 0,\n",
       " ('K04101', '2021-05-30'): 0,\n",
       " ('K04101', '2021-02-18'): 0,\n",
       " ('K04101', '2021-05-31'): 0,\n",
       " ('K04101', '2021-02-10'): 0,\n",
       " ('K04101', '2021-03-10'): 0,\n",
       " ('K04101', '2021-05-24'): 0,\n",
       " ('K04101', '2021-05-10'): 0,\n",
       " ('S00271', '2021-05-13'): 0,\n",
       " ('S00271', '2021-04-10'): 0,\n",
       " ('S00271', '2021-05-30'): 0,\n",
       " ('S00271', '2021-02-18'): 0,\n",
       " ('S00271', '2021-05-31'): 0,\n",
       " ('S00271', '2021-02-10'): 0,\n",
       " ('S00271', '2021-03-10'): 0,\n",
       " ('S00271', '2021-05-24'): 0,\n",
       " ('S00271', '2021-05-10'): 0,\n",
       " ('066157', '2021-05-13'): 1,\n",
       " ('066157', '2021-04-10'): 0,\n",
       " ('066157', '2021-05-30'): 0,\n",
       " ('066157', '2021-02-18'): 0,\n",
       " ('066157', '2021-05-31'): 0,\n",
       " ('066157', '2021-02-10'): 0,\n",
       " ('066157', '2021-03-10'): 0,\n",
       " ('066157', '2021-05-24'): 0,\n",
       " ('066157', '2021-05-10'): 0,\n",
       " ('051718', '2021-05-13'): 0,\n",
       " ('051718', '2021-04-10'): 0,\n",
       " ('051718', '2021-05-30'): 0,\n",
       " ('051718', '2021-02-18'): 0,\n",
       " ('051718', '2021-05-31'): 0,\n",
       " ('051718', '2021-02-10'): 0,\n",
       " ('051718', '2021-03-10'): 0,\n",
       " ('051718', '2021-05-24'): 0,\n",
       " ('051718', '2021-05-10'): 0}"
      ]
     },
     "execution_count": 34,
     "metadata": {},
     "output_type": "execute_result"
    }
   ],
   "source": [
    "pit"
   ]
  },
  {
   "cell_type": "code",
   "execution_count": 35,
   "metadata": {},
   "outputs": [
    {
     "data": {
      "text/plain": [
       "{('052996', '2021-05-13'): 0,\n",
       " ('052996', '2021-04-10'): 0,\n",
       " ('052996', '2021-05-30'): 2,\n",
       " ('052996', '2021-02-18'): 2,\n",
       " ('052996', '2021-05-31'): 0,\n",
       " ('052996', '2021-02-10'): 0,\n",
       " ('052996', '2021-03-10'): 0,\n",
       " ('052996', '2021-05-24'): 0,\n",
       " ('052996', '2021-05-10'): 0,\n",
       " ('K04033', '2021-05-13'): 318,\n",
       " ('K04033', '2021-04-10'): 0,\n",
       " ('K04033', '2021-05-30'): 0,\n",
       " ('K04033', '2021-02-18'): 0,\n",
       " ('K04033', '2021-05-31'): 0,\n",
       " ('K04033', '2021-02-10'): 0,\n",
       " ('K04033', '2021-03-10'): 0,\n",
       " ('K04033', '2021-05-24'): 0,\n",
       " ('K04033', '2021-05-10'): 0,\n",
       " ('K04031', '2021-05-13'): 0,\n",
       " ('K04031', '2021-04-10'): 0,\n",
       " ('K04031', '2021-05-30'): 0,\n",
       " ('K04031', '2021-02-18'): 0,\n",
       " ('K04031', '2021-05-31'): 0,\n",
       " ('K04031', '2021-02-10'): 0,\n",
       " ('K04031', '2021-03-10'): 0,\n",
       " ('K04031', '2021-05-24'): 383,\n",
       " ('K04031', '2021-05-10'): 0,\n",
       " ('S00341', '2021-05-13'): 0,\n",
       " ('S00341', '2021-04-10'): 500,\n",
       " ('S00341', '2021-05-30'): 0,\n",
       " ('S00341', '2021-02-18'): 0,\n",
       " ('S00341', '2021-05-31'): 0,\n",
       " ('S00341', '2021-02-10'): 500,\n",
       " ('S00341', '2021-03-10'): 500,\n",
       " ('S00341', '2021-05-24'): 0,\n",
       " ('S00341', '2021-05-10'): 398,\n",
       " ('K04101', '2021-05-13'): 0,\n",
       " ('K04101', '2021-04-10'): 0,\n",
       " ('K04101', '2021-05-30'): 15,\n",
       " ('K04101', '2021-02-18'): 0,\n",
       " ('K04101', '2021-05-31'): 0,\n",
       " ('K04101', '2021-02-10'): 0,\n",
       " ('K04101', '2021-03-10'): 0,\n",
       " ('K04101', '2021-05-24'): 0,\n",
       " ('K04101', '2021-05-10'): 0,\n",
       " ('S00271', '2021-05-13'): 0,\n",
       " ('S00271', '2021-04-10'): 0,\n",
       " ('S00271', '2021-05-30'): 0,\n",
       " ('S00271', '2021-02-18'): 0,\n",
       " ('S00271', '2021-05-31'): 150,\n",
       " ('S00271', '2021-02-10'): 0,\n",
       " ('S00271', '2021-03-10'): 0,\n",
       " ('S00271', '2021-05-24'): 0,\n",
       " ('S00271', '2021-05-10'): 0,\n",
       " ('066157', '2021-05-13'): 208,\n",
       " ('066157', '2021-04-10'): 0,\n",
       " ('066157', '2021-05-30'): 0,\n",
       " ('066157', '2021-02-18'): 0,\n",
       " ('066157', '2021-05-31'): 0,\n",
       " ('066157', '2021-02-10'): 0,\n",
       " ('066157', '2021-03-10'): 0,\n",
       " ('066157', '2021-05-24'): 0,\n",
       " ('066157', '2021-05-10'): 0,\n",
       " ('051718', '2021-05-13'): 0,\n",
       " ('051718', '2021-04-10'): 0,\n",
       " ('051718', '2021-05-30'): 19,\n",
       " ('051718', '2021-02-18'): 0,\n",
       " ('051718', '2021-05-31'): 0,\n",
       " ('051718', '2021-02-10'): 0,\n",
       " ('051718', '2021-03-10'): 0,\n",
       " ('051718', '2021-05-24'): 0,\n",
       " ('051718', '2021-05-10'): 0}"
      ]
     },
     "execution_count": 35,
     "metadata": {},
     "output_type": "execute_result"
    }
   ],
   "source": [
    "dit"
   ]
  },
  {
   "cell_type": "code",
   "execution_count": 36,
   "metadata": {},
   "outputs": [
    {
     "data": {
      "text/plain": [
       "{('052996', 404.0, '2021-05-13'): 0,\n",
       " ('052996', 404.0, '2021-04-10'): 0,\n",
       " ('052996', 404.0, '2021-05-30'): 0,\n",
       " ('052996', 404.0, '2021-02-18'): 0,\n",
       " ('052996', 404.0, '2021-05-31'): 0,\n",
       " ('052996', 404.0, '2021-02-10'): 0,\n",
       " ('052996', 404.0, '2021-03-10'): 0,\n",
       " ('052996', 404.0, '2021-05-24'): 0,\n",
       " ('052996', 404.0, '2021-05-10'): 0,\n",
       " ('052996', 405.0, '2021-05-13'): 0,\n",
       " ('052996', 405.0, '2021-04-10'): 0,\n",
       " ('052996', 405.0, '2021-05-30'): 0,\n",
       " ('052996', 405.0, '2021-02-18'): 0,\n",
       " ('052996', 405.0, '2021-05-31'): 0,\n",
       " ('052996', 405.0, '2021-02-10'): 0,\n",
       " ('052996', 405.0, '2021-03-10'): 0,\n",
       " ('052996', 405.0, '2021-05-24'): 0,\n",
       " ('052996', 405.0, '2021-05-10'): 0,\n",
       " ('052996', 407.0, '2021-05-13'): 0,\n",
       " ('052996', 407.0, '2021-04-10'): 0,\n",
       " ('052996', 407.0, '2021-05-30'): 0,\n",
       " ('052996', 407.0, '2021-02-18'): 0,\n",
       " ('052996', 407.0, '2021-05-31'): 0,\n",
       " ('052996', 407.0, '2021-02-10'): 0,\n",
       " ('052996', 407.0, '2021-03-10'): 0,\n",
       " ('052996', 407.0, '2021-05-24'): 0,\n",
       " ('052996', 407.0, '2021-05-10'): 0,\n",
       " ('052996', 408.0, '2021-05-13'): 0,\n",
       " ('052996', 408.0, '2021-04-10'): 0,\n",
       " ('052996', 408.0, '2021-05-30'): 0,\n",
       " ('052996', 408.0, '2021-02-18'): 0,\n",
       " ('052996', 408.0, '2021-05-31'): 0,\n",
       " ('052996', 408.0, '2021-02-10'): 0,\n",
       " ('052996', 408.0, '2021-03-10'): 0,\n",
       " ('052996', 408.0, '2021-05-24'): 0,\n",
       " ('052996', 408.0, '2021-05-10'): 0,\n",
       " ('052996', 409.0, '2021-05-13'): 0,\n",
       " ('052996', 409.0, '2021-04-10'): 0,\n",
       " ('052996', 409.0, '2021-05-30'): 0,\n",
       " ('052996', 409.0, '2021-02-18'): 0,\n",
       " ('052996', 409.0, '2021-05-31'): 0,\n",
       " ('052996', 409.0, '2021-02-10'): 0,\n",
       " ('052996', 409.0, '2021-03-10'): 0,\n",
       " ('052996', 409.0, '2021-05-24'): 0,\n",
       " ('052996', 409.0, '2021-05-10'): 0,\n",
       " ('052996', 410.0, '2021-05-13'): 25.0,\n",
       " ('052996', 410.0, '2021-04-10'): 25.0,\n",
       " ('052996', 410.0, '2021-05-30'): 25.0,\n",
       " ('052996', 410.0, '2021-02-18'): 25.0,\n",
       " ('052996', 410.0, '2021-05-31'): 25.0,\n",
       " ('052996', 410.0, '2021-02-10'): 25.0,\n",
       " ('052996', 410.0, '2021-03-10'): 25.0,\n",
       " ('052996', 410.0, '2021-05-24'): 25.0,\n",
       " ('052996', 410.0, '2021-05-10'): 25.0,\n",
       " ('052996', 412.0, '2021-05-13'): 0,\n",
       " ('052996', 412.0, '2021-04-10'): 0,\n",
       " ('052996', 412.0, '2021-05-30'): 0,\n",
       " ('052996', 412.0, '2021-02-18'): 0,\n",
       " ('052996', 412.0, '2021-05-31'): 0,\n",
       " ('052996', 412.0, '2021-02-10'): 0,\n",
       " ('052996', 412.0, '2021-03-10'): 0,\n",
       " ('052996', 412.0, '2021-05-24'): 0,\n",
       " ('052996', 412.0, '2021-05-10'): 0,\n",
       " ('052996', 416.0, '2021-05-13'): 0,\n",
       " ('052996', 416.0, '2021-04-10'): 0,\n",
       " ('052996', 416.0, '2021-05-30'): 0,\n",
       " ('052996', 416.0, '2021-02-18'): 0,\n",
       " ('052996', 416.0, '2021-05-31'): 0,\n",
       " ('052996', 416.0, '2021-02-10'): 0,\n",
       " ('052996', 416.0, '2021-03-10'): 0,\n",
       " ('052996', 416.0, '2021-05-24'): 0,\n",
       " ('052996', 416.0, '2021-05-10'): 0,\n",
       " ('052996', 421.0, '2021-05-13'): 200.0,\n",
       " ('052996', 421.0, '2021-04-10'): 200.0,\n",
       " ('052996', 421.0, '2021-05-30'): 200.0,\n",
       " ('052996', 421.0, '2021-02-18'): 200.0,\n",
       " ('052996', 421.0, '2021-05-31'): 200.0,\n",
       " ('052996', 421.0, '2021-02-10'): 200.0,\n",
       " ('052996', 421.0, '2021-03-10'): 200.0,\n",
       " ('052996', 421.0, '2021-05-24'): 200.0,\n",
       " ('052996', 421.0, '2021-05-10'): 200.0,\n",
       " ('052996', 422.0, '2021-05-13'): 0,\n",
       " ('052996', 422.0, '2021-04-10'): 0,\n",
       " ('052996', 422.0, '2021-05-30'): 0,\n",
       " ('052996', 422.0, '2021-02-18'): 0,\n",
       " ('052996', 422.0, '2021-05-31'): 0,\n",
       " ('052996', 422.0, '2021-02-10'): 0,\n",
       " ('052996', 422.0, '2021-03-10'): 0,\n",
       " ('052996', 422.0, '2021-05-24'): 0,\n",
       " ('052996', 422.0, '2021-05-10'): 0,\n",
       " ('052996', 424.0, '2021-05-13'): 0,\n",
       " ('052996', 424.0, '2021-04-10'): 0,\n",
       " ('052996', 424.0, '2021-05-30'): 0,\n",
       " ('052996', 424.0, '2021-02-18'): 0,\n",
       " ('052996', 424.0, '2021-05-31'): 0,\n",
       " ('052996', 424.0, '2021-02-10'): 0,\n",
       " ('052996', 424.0, '2021-03-10'): 0,\n",
       " ('052996', 424.0, '2021-05-24'): 0,\n",
       " ('052996', 424.0, '2021-05-10'): 0,\n",
       " ('052996', 425.0, '2021-05-13'): 0,\n",
       " ('052996', 425.0, '2021-04-10'): 0,\n",
       " ('052996', 425.0, '2021-05-30'): 0,\n",
       " ('052996', 425.0, '2021-02-18'): 0,\n",
       " ('052996', 425.0, '2021-05-31'): 0,\n",
       " ('052996', 425.0, '2021-02-10'): 0,\n",
       " ('052996', 425.0, '2021-03-10'): 0,\n",
       " ('052996', 425.0, '2021-05-24'): 0,\n",
       " ('052996', 425.0, '2021-05-10'): 0,\n",
       " ('052996', 426.0, '2021-05-13'): 0,\n",
       " ('052996', 426.0, '2021-04-10'): 0,\n",
       " ('052996', 426.0, '2021-05-30'): 0,\n",
       " ('052996', 426.0, '2021-02-18'): 0,\n",
       " ('052996', 426.0, '2021-05-31'): 0,\n",
       " ('052996', 426.0, '2021-02-10'): 0,\n",
       " ('052996', 426.0, '2021-03-10'): 0,\n",
       " ('052996', 426.0, '2021-05-24'): 0,\n",
       " ('052996', 426.0, '2021-05-10'): 0,\n",
       " ('052996', 433.0, '2021-05-13'): 0,\n",
       " ('052996', 433.0, '2021-04-10'): 0,\n",
       " ('052996', 433.0, '2021-05-30'): 0,\n",
       " ('052996', 433.0, '2021-02-18'): 0,\n",
       " ('052996', 433.0, '2021-05-31'): 0,\n",
       " ('052996', 433.0, '2021-02-10'): 0,\n",
       " ('052996', 433.0, '2021-03-10'): 0,\n",
       " ('052996', 433.0, '2021-05-24'): 0,\n",
       " ('052996', 433.0, '2021-05-10'): 0,\n",
       " ('052996', 434.0, '2021-05-13'): 0,\n",
       " ('052996', 434.0, '2021-04-10'): 0,\n",
       " ('052996', 434.0, '2021-05-30'): 0,\n",
       " ('052996', 434.0, '2021-02-18'): 0,\n",
       " ('052996', 434.0, '2021-05-31'): 0,\n",
       " ('052996', 434.0, '2021-02-10'): 0,\n",
       " ('052996', 434.0, '2021-03-10'): 0,\n",
       " ('052996', 434.0, '2021-05-24'): 0,\n",
       " ('052996', 434.0, '2021-05-10'): 0,\n",
       " ('052996', 435.0, '2021-05-13'): 0,\n",
       " ('052996', 435.0, '2021-04-10'): 0,\n",
       " ('052996', 435.0, '2021-05-30'): 0,\n",
       " ('052996', 435.0, '2021-02-18'): 0,\n",
       " ('052996', 435.0, '2021-05-31'): 0,\n",
       " ('052996', 435.0, '2021-02-10'): 0,\n",
       " ('052996', 435.0, '2021-03-10'): 0,\n",
       " ('052996', 435.0, '2021-05-24'): 0,\n",
       " ('052996', 435.0, '2021-05-10'): 0,\n",
       " ('052996', 436.0, '2021-05-13'): 0,\n",
       " ('052996', 436.0, '2021-04-10'): 0,\n",
       " ('052996', 436.0, '2021-05-30'): 0,\n",
       " ('052996', 436.0, '2021-02-18'): 0,\n",
       " ('052996', 436.0, '2021-05-31'): 0,\n",
       " ('052996', 436.0, '2021-02-10'): 0,\n",
       " ('052996', 436.0, '2021-03-10'): 0,\n",
       " ('052996', 436.0, '2021-05-24'): 0,\n",
       " ('052996', 436.0, '2021-05-10'): 0,\n",
       " ('052996', 438.0, '2021-05-13'): 0,\n",
       " ('052996', 438.0, '2021-04-10'): 0,\n",
       " ('052996', 438.0, '2021-05-30'): 0,\n",
       " ('052996', 438.0, '2021-02-18'): 0,\n",
       " ('052996', 438.0, '2021-05-31'): 0,\n",
       " ('052996', 438.0, '2021-02-10'): 0,\n",
       " ('052996', 438.0, '2021-03-10'): 0,\n",
       " ('052996', 438.0, '2021-05-24'): 0,\n",
       " ('052996', 438.0, '2021-05-10'): 0,\n",
       " ('052996', 439.0, '2021-05-13'): 0,\n",
       " ('052996', 439.0, '2021-04-10'): 0,\n",
       " ('052996', 439.0, '2021-05-30'): 0,\n",
       " ('052996', 439.0, '2021-02-18'): 0,\n",
       " ('052996', 439.0, '2021-05-31'): 0,\n",
       " ('052996', 439.0, '2021-02-10'): 0,\n",
       " ('052996', 439.0, '2021-03-10'): 0,\n",
       " ('052996', 439.0, '2021-05-24'): 0,\n",
       " ('052996', 439.0, '2021-05-10'): 0,\n",
       " ('052996', 440.0, '2021-05-13'): 0,\n",
       " ('052996', 440.0, '2021-04-10'): 0,\n",
       " ('052996', 440.0, '2021-05-30'): 0,\n",
       " ('052996', 440.0, '2021-02-18'): 0,\n",
       " ('052996', 440.0, '2021-05-31'): 0,\n",
       " ('052996', 440.0, '2021-02-10'): 0,\n",
       " ('052996', 440.0, '2021-03-10'): 0,\n",
       " ('052996', 440.0, '2021-05-24'): 0,\n",
       " ('052996', 440.0, '2021-05-10'): 0,\n",
       " ('K04033', 404.0, '2021-05-13'): 12.84,\n",
       " ('K04033', 404.0, '2021-04-10'): 12.84,\n",
       " ('K04033', 404.0, '2021-05-30'): 12.84,\n",
       " ('K04033', 404.0, '2021-02-18'): 12.84,\n",
       " ('K04033', 404.0, '2021-05-31'): 12.84,\n",
       " ('K04033', 404.0, '2021-02-10'): 12.84,\n",
       " ('K04033', 404.0, '2021-03-10'): 12.84,\n",
       " ('K04033', 404.0, '2021-05-24'): 12.84,\n",
       " ('K04033', 404.0, '2021-05-10'): 12.84,\n",
       " ('K04033', 405.0, '2021-05-13'): 10.42,\n",
       " ('K04033', 405.0, '2021-04-10'): 10.42,\n",
       " ('K04033', 405.0, '2021-05-30'): 10.42,\n",
       " ('K04033', 405.0, '2021-02-18'): 10.42,\n",
       " ('K04033', 405.0, '2021-05-31'): 10.42,\n",
       " ('K04033', 405.0, '2021-02-10'): 10.42,\n",
       " ('K04033', 405.0, '2021-03-10'): 10.42,\n",
       " ('K04033', 405.0, '2021-05-24'): 10.42,\n",
       " ('K04033', 405.0, '2021-05-10'): 10.42,\n",
       " ('K04033', 407.0, '2021-05-13'): 8.69,\n",
       " ('K04033', 407.0, '2021-04-10'): 8.69,\n",
       " ('K04033', 407.0, '2021-05-30'): 8.69,\n",
       " ('K04033', 407.0, '2021-02-18'): 8.69,\n",
       " ('K04033', 407.0, '2021-05-31'): 8.69,\n",
       " ('K04033', 407.0, '2021-02-10'): 8.69,\n",
       " ('K04033', 407.0, '2021-03-10'): 8.69,\n",
       " ('K04033', 407.0, '2021-05-24'): 8.69,\n",
       " ('K04033', 407.0, '2021-05-10'): 8.69,\n",
       " ('K04033', 408.0, '2021-05-13'): 9.12,\n",
       " ('K04033', 408.0, '2021-04-10'): 9.12,\n",
       " ('K04033', 408.0, '2021-05-30'): 9.12,\n",
       " ('K04033', 408.0, '2021-02-18'): 9.12,\n",
       " ('K04033', 408.0, '2021-05-31'): 9.12,\n",
       " ('K04033', 408.0, '2021-02-10'): 9.12,\n",
       " ('K04033', 408.0, '2021-03-10'): 9.12,\n",
       " ('K04033', 408.0, '2021-05-24'): 9.12,\n",
       " ('K04033', 408.0, '2021-05-10'): 9.12,\n",
       " ('K04033', 409.0, '2021-05-13'): 10.33,\n",
       " ('K04033', 409.0, '2021-04-10'): 10.33,\n",
       " ('K04033', 409.0, '2021-05-30'): 10.33,\n",
       " ('K04033', 409.0, '2021-02-18'): 10.33,\n",
       " ('K04033', 409.0, '2021-05-31'): 10.33,\n",
       " ('K04033', 409.0, '2021-02-10'): 10.33,\n",
       " ('K04033', 409.0, '2021-03-10'): 10.33,\n",
       " ('K04033', 409.0, '2021-05-24'): 10.33,\n",
       " ('K04033', 409.0, '2021-05-10'): 10.33,\n",
       " ('K04033', 410.0, '2021-05-13'): 8.99,\n",
       " ('K04033', 410.0, '2021-04-10'): 8.99,\n",
       " ('K04033', 410.0, '2021-05-30'): 8.99,\n",
       " ('K04033', 410.0, '2021-02-18'): 8.99,\n",
       " ('K04033', 410.0, '2021-05-31'): 8.99,\n",
       " ('K04033', 410.0, '2021-02-10'): 8.99,\n",
       " ('K04033', 410.0, '2021-03-10'): 8.99,\n",
       " ('K04033', 410.0, '2021-05-24'): 8.99,\n",
       " ('K04033', 410.0, '2021-05-10'): 8.99,\n",
       " ('K04033', 412.0, '2021-05-13'): 12.32,\n",
       " ('K04033', 412.0, '2021-04-10'): 12.32,\n",
       " ('K04033', 412.0, '2021-05-30'): 12.32,\n",
       " ('K04033', 412.0, '2021-02-18'): 12.32,\n",
       " ('K04033', 412.0, '2021-05-31'): 12.32,\n",
       " ('K04033', 412.0, '2021-02-10'): 12.32,\n",
       " ('K04033', 412.0, '2021-03-10'): 12.32,\n",
       " ('K04033', 412.0, '2021-05-24'): 12.32,\n",
       " ('K04033', 412.0, '2021-05-10'): 12.32,\n",
       " ('K04033', 416.0, '2021-05-13'): 11.23,\n",
       " ('K04033', 416.0, '2021-04-10'): 11.23,\n",
       " ('K04033', 416.0, '2021-05-30'): 11.23,\n",
       " ('K04033', 416.0, '2021-02-18'): 11.23,\n",
       " ('K04033', 416.0, '2021-05-31'): 11.23,\n",
       " ('K04033', 416.0, '2021-02-10'): 11.23,\n",
       " ('K04033', 416.0, '2021-03-10'): 11.23,\n",
       " ('K04033', 416.0, '2021-05-24'): 11.23,\n",
       " ('K04033', 416.0, '2021-05-10'): 11.23,\n",
       " ('K04033', 421.0, '2021-05-13'): 0,\n",
       " ('K04033', 421.0, '2021-04-10'): 0,\n",
       " ('K04033', 421.0, '2021-05-30'): 0,\n",
       " ('K04033', 421.0, '2021-02-18'): 0,\n",
       " ('K04033', 421.0, '2021-05-31'): 0,\n",
       " ('K04033', 421.0, '2021-02-10'): 0,\n",
       " ('K04033', 421.0, '2021-03-10'): 0,\n",
       " ('K04033', 421.0, '2021-05-24'): 0,\n",
       " ('K04033', 421.0, '2021-05-10'): 0,\n",
       " ('K04033', 422.0, '2021-05-13'): 4.0,\n",
       " ('K04033', 422.0, '2021-04-10'): 4.0,\n",
       " ('K04033', 422.0, '2021-05-30'): 4.0,\n",
       " ('K04033', 422.0, '2021-02-18'): 4.0,\n",
       " ('K04033', 422.0, '2021-05-31'): 4.0,\n",
       " ('K04033', 422.0, '2021-02-10'): 4.0,\n",
       " ('K04033', 422.0, '2021-03-10'): 4.0,\n",
       " ('K04033', 422.0, '2021-05-24'): 4.0,\n",
       " ('K04033', 422.0, '2021-05-10'): 4.0,\n",
       " ('K04033', 424.0, '2021-05-13'): 9.87,\n",
       " ('K04033', 424.0, '2021-04-10'): 9.87,\n",
       " ('K04033', 424.0, '2021-05-30'): 9.87,\n",
       " ('K04033', 424.0, '2021-02-18'): 9.87,\n",
       " ('K04033', 424.0, '2021-05-31'): 9.87,\n",
       " ('K04033', 424.0, '2021-02-10'): 9.87,\n",
       " ('K04033', 424.0, '2021-03-10'): 9.87,\n",
       " ('K04033', 424.0, '2021-05-24'): 9.87,\n",
       " ('K04033', 424.0, '2021-05-10'): 9.87,\n",
       " ('K04033', 425.0, '2021-05-13'): 0,\n",
       " ('K04033', 425.0, '2021-04-10'): 0,\n",
       " ('K04033', 425.0, '2021-05-30'): 0,\n",
       " ('K04033', 425.0, '2021-02-18'): 0,\n",
       " ('K04033', 425.0, '2021-05-31'): 0,\n",
       " ('K04033', 425.0, '2021-02-10'): 0,\n",
       " ('K04033', 425.0, '2021-03-10'): 0,\n",
       " ('K04033', 425.0, '2021-05-24'): 0,\n",
       " ('K04033', 425.0, '2021-05-10'): 0,\n",
       " ('K04033', 426.0, '2021-05-13'): 11.77,\n",
       " ('K04033', 426.0, '2021-04-10'): 11.77,\n",
       " ('K04033', 426.0, '2021-05-30'): 11.77,\n",
       " ('K04033', 426.0, '2021-02-18'): 11.77,\n",
       " ('K04033', 426.0, '2021-05-31'): 11.77,\n",
       " ('K04033', 426.0, '2021-02-10'): 11.77,\n",
       " ('K04033', 426.0, '2021-03-10'): 11.77,\n",
       " ('K04033', 426.0, '2021-05-24'): 11.77,\n",
       " ('K04033', 426.0, '2021-05-10'): 11.77,\n",
       " ('K04033', 433.0, '2021-05-13'): 9.54,\n",
       " ('K04033', 433.0, '2021-04-10'): 9.54,\n",
       " ('K04033', 433.0, '2021-05-30'): 9.54,\n",
       " ('K04033', 433.0, '2021-02-18'): 9.54,\n",
       " ('K04033', 433.0, '2021-05-31'): 9.54,\n",
       " ('K04033', 433.0, '2021-02-10'): 9.54,\n",
       " ('K04033', 433.0, '2021-03-10'): 9.54,\n",
       " ('K04033', 433.0, '2021-05-24'): 9.54,\n",
       " ('K04033', 433.0, '2021-05-10'): 9.54,\n",
       " ('K04033', 434.0, '2021-05-13'): 13.05,\n",
       " ('K04033', 434.0, '2021-04-10'): 13.05,\n",
       " ('K04033', 434.0, '2021-05-30'): 13.05,\n",
       " ('K04033', 434.0, '2021-02-18'): 13.05,\n",
       " ('K04033', 434.0, '2021-05-31'): 13.05,\n",
       " ('K04033', 434.0, '2021-02-10'): 13.05,\n",
       " ('K04033', 434.0, '2021-03-10'): 13.05,\n",
       " ('K04033', 434.0, '2021-05-24'): 13.05,\n",
       " ('K04033', 434.0, '2021-05-10'): 13.05,\n",
       " ('K04033', 435.0, '2021-05-13'): 9.0,\n",
       " ('K04033', 435.0, '2021-04-10'): 9.0,\n",
       " ('K04033', 435.0, '2021-05-30'): 9.0,\n",
       " ('K04033', 435.0, '2021-02-18'): 9.0,\n",
       " ('K04033', 435.0, '2021-05-31'): 9.0,\n",
       " ('K04033', 435.0, '2021-02-10'): 9.0,\n",
       " ('K04033', 435.0, '2021-03-10'): 9.0,\n",
       " ('K04033', 435.0, '2021-05-24'): 9.0,\n",
       " ('K04033', 435.0, '2021-05-10'): 9.0,\n",
       " ('K04033', 436.0, '2021-05-13'): 9.0,\n",
       " ('K04033', 436.0, '2021-04-10'): 9.0,\n",
       " ('K04033', 436.0, '2021-05-30'): 9.0,\n",
       " ('K04033', 436.0, '2021-02-18'): 9.0,\n",
       " ('K04033', 436.0, '2021-05-31'): 9.0,\n",
       " ('K04033', 436.0, '2021-02-10'): 9.0,\n",
       " ('K04033', 436.0, '2021-03-10'): 9.0,\n",
       " ('K04033', 436.0, '2021-05-24'): 9.0,\n",
       " ('K04033', 436.0, '2021-05-10'): 9.0,\n",
       " ('K04033', 438.0, '2021-05-13'): 4.4,\n",
       " ('K04033', 438.0, '2021-04-10'): 4.4,\n",
       " ('K04033', 438.0, '2021-05-30'): 4.4,\n",
       " ('K04033', 438.0, '2021-02-18'): 4.4,\n",
       " ('K04033', 438.0, '2021-05-31'): 4.4,\n",
       " ('K04033', 438.0, '2021-02-10'): 4.4,\n",
       " ('K04033', 438.0, '2021-03-10'): 4.4,\n",
       " ('K04033', 438.0, '2021-05-24'): 4.4,\n",
       " ('K04033', 438.0, '2021-05-10'): 4.4,\n",
       " ('K04033', 439.0, '2021-05-13'): 12.47,\n",
       " ('K04033', 439.0, '2021-04-10'): 12.47,\n",
       " ('K04033', 439.0, '2021-05-30'): 12.47,\n",
       " ('K04033', 439.0, '2021-02-18'): 12.47,\n",
       " ('K04033', 439.0, '2021-05-31'): 12.47,\n",
       " ('K04033', 439.0, '2021-02-10'): 12.47,\n",
       " ('K04033', 439.0, '2021-03-10'): 12.47,\n",
       " ('K04033', 439.0, '2021-05-24'): 12.47,\n",
       " ('K04033', 439.0, '2021-05-10'): 12.47,\n",
       " ('K04033', 440.0, '2021-05-13'): 9.4,\n",
       " ('K04033', 440.0, '2021-04-10'): 9.4,\n",
       " ('K04033', 440.0, '2021-05-30'): 9.4,\n",
       " ('K04033', 440.0, '2021-02-18'): 9.4,\n",
       " ('K04033', 440.0, '2021-05-31'): 9.4,\n",
       " ('K04033', 440.0, '2021-02-10'): 9.4,\n",
       " ('K04033', 440.0, '2021-03-10'): 9.4,\n",
       " ('K04033', 440.0, '2021-05-24'): 9.4,\n",
       " ('K04033', 440.0, '2021-05-10'): 9.4,\n",
       " ('K04031', 404.0, '2021-05-13'): 0,\n",
       " ('K04031', 404.0, '2021-04-10'): 0,\n",
       " ('K04031', 404.0, '2021-05-30'): 0,\n",
       " ('K04031', 404.0, '2021-02-18'): 0,\n",
       " ('K04031', 404.0, '2021-05-31'): 0,\n",
       " ('K04031', 404.0, '2021-02-10'): 0,\n",
       " ('K04031', 404.0, '2021-03-10'): 0,\n",
       " ('K04031', 404.0, '2021-05-24'): 0,\n",
       " ('K04031', 404.0, '2021-05-10'): 0,\n",
       " ('K04031', 405.0, '2021-05-13'): 0,\n",
       " ('K04031', 405.0, '2021-04-10'): 0,\n",
       " ('K04031', 405.0, '2021-05-30'): 0,\n",
       " ('K04031', 405.0, '2021-02-18'): 0,\n",
       " ('K04031', 405.0, '2021-05-31'): 0,\n",
       " ('K04031', 405.0, '2021-02-10'): 0,\n",
       " ('K04031', 405.0, '2021-03-10'): 0,\n",
       " ('K04031', 405.0, '2021-05-24'): 0,\n",
       " ('K04031', 405.0, '2021-05-10'): 0,\n",
       " ('K04031', 407.0, '2021-05-13'): 4.85,\n",
       " ('K04031', 407.0, '2021-04-10'): 4.85,\n",
       " ('K04031', 407.0, '2021-05-30'): 4.85,\n",
       " ('K04031', 407.0, '2021-02-18'): 4.85,\n",
       " ('K04031', 407.0, '2021-05-31'): 4.85,\n",
       " ('K04031', 407.0, '2021-02-10'): 4.85,\n",
       " ('K04031', 407.0, '2021-03-10'): 4.85,\n",
       " ('K04031', 407.0, '2021-05-24'): 4.85,\n",
       " ('K04031', 407.0, '2021-05-10'): 4.85,\n",
       " ('K04031', 408.0, '2021-05-13'): 3.83,\n",
       " ('K04031', 408.0, '2021-04-10'): 3.83,\n",
       " ('K04031', 408.0, '2021-05-30'): 3.83,\n",
       " ('K04031', 408.0, '2021-02-18'): 3.83,\n",
       " ('K04031', 408.0, '2021-05-31'): 3.83,\n",
       " ('K04031', 408.0, '2021-02-10'): 3.83,\n",
       " ('K04031', 408.0, '2021-03-10'): 3.83,\n",
       " ('K04031', 408.0, '2021-05-24'): 3.83,\n",
       " ('K04031', 408.0, '2021-05-10'): 3.83,\n",
       " ('K04031', 409.0, '2021-05-13'): 5.37,\n",
       " ('K04031', 409.0, '2021-04-10'): 5.37,\n",
       " ('K04031', 409.0, '2021-05-30'): 5.37,\n",
       " ('K04031', 409.0, '2021-02-18'): 5.37,\n",
       " ('K04031', 409.0, '2021-05-31'): 5.37,\n",
       " ('K04031', 409.0, '2021-02-10'): 5.37,\n",
       " ('K04031', 409.0, '2021-03-10'): 5.37,\n",
       " ('K04031', 409.0, '2021-05-24'): 5.37,\n",
       " ('K04031', 409.0, '2021-05-10'): 5.37,\n",
       " ('K04031', 410.0, '2021-05-13'): 3.09,\n",
       " ('K04031', 410.0, '2021-04-10'): 3.09,\n",
       " ('K04031', 410.0, '2021-05-30'): 3.09,\n",
       " ('K04031', 410.0, '2021-02-18'): 3.09,\n",
       " ('K04031', 410.0, '2021-05-31'): 3.09,\n",
       " ('K04031', 410.0, '2021-02-10'): 3.09,\n",
       " ('K04031', 410.0, '2021-03-10'): 3.09,\n",
       " ('K04031', 410.0, '2021-05-24'): 3.09,\n",
       " ('K04031', 410.0, '2021-05-10'): 3.09,\n",
       " ('K04031', 412.0, '2021-05-13'): 0,\n",
       " ('K04031', 412.0, '2021-04-10'): 0,\n",
       " ('K04031', 412.0, '2021-05-30'): 0,\n",
       " ('K04031', 412.0, '2021-02-18'): 0,\n",
       " ('K04031', 412.0, '2021-05-31'): 0,\n",
       " ('K04031', 412.0, '2021-02-10'): 0,\n",
       " ('K04031', 412.0, '2021-03-10'): 0,\n",
       " ('K04031', 412.0, '2021-05-24'): 0,\n",
       " ('K04031', 412.0, '2021-05-10'): 0,\n",
       " ('K04031', 416.0, '2021-05-13'): 2.73,\n",
       " ('K04031', 416.0, '2021-04-10'): 2.73,\n",
       " ('K04031', 416.0, '2021-05-30'): 2.73,\n",
       " ('K04031', 416.0, '2021-02-18'): 2.73,\n",
       " ('K04031', 416.0, '2021-05-31'): 2.73,\n",
       " ('K04031', 416.0, '2021-02-10'): 2.73,\n",
       " ('K04031', 416.0, '2021-03-10'): 2.73,\n",
       " ('K04031', 416.0, '2021-05-24'): 2.73,\n",
       " ('K04031', 416.0, '2021-05-10'): 2.73,\n",
       " ('K04031', 421.0, '2021-05-13'): 0,\n",
       " ('K04031', 421.0, '2021-04-10'): 0,\n",
       " ('K04031', 421.0, '2021-05-30'): 0,\n",
       " ('K04031', 421.0, '2021-02-18'): 0,\n",
       " ('K04031', 421.0, '2021-05-31'): 0,\n",
       " ('K04031', 421.0, '2021-02-10'): 0,\n",
       " ('K04031', 421.0, '2021-03-10'): 0,\n",
       " ('K04031', 421.0, '2021-05-24'): 0,\n",
       " ('K04031', 421.0, '2021-05-10'): 0,\n",
       " ('K04031', 422.0, '2021-05-13'): 0,\n",
       " ('K04031', 422.0, '2021-04-10'): 0,\n",
       " ('K04031', 422.0, '2021-05-30'): 0,\n",
       " ('K04031', 422.0, '2021-02-18'): 0,\n",
       " ('K04031', 422.0, '2021-05-31'): 0,\n",
       " ('K04031', 422.0, '2021-02-10'): 0,\n",
       " ('K04031', 422.0, '2021-03-10'): 0,\n",
       " ('K04031', 422.0, '2021-05-24'): 0,\n",
       " ('K04031', 422.0, '2021-05-10'): 0,\n",
       " ('K04031', 424.0, '2021-05-13'): 3.94,\n",
       " ('K04031', 424.0, '2021-04-10'): 3.94,\n",
       " ('K04031', 424.0, '2021-05-30'): 3.94,\n",
       " ('K04031', 424.0, '2021-02-18'): 3.94,\n",
       " ('K04031', 424.0, '2021-05-31'): 3.94,\n",
       " ('K04031', 424.0, '2021-02-10'): 3.94,\n",
       " ('K04031', 424.0, '2021-03-10'): 3.94,\n",
       " ('K04031', 424.0, '2021-05-24'): 3.94,\n",
       " ('K04031', 424.0, '2021-05-10'): 3.94,\n",
       " ('K04031', 425.0, '2021-05-13'): 5.47,\n",
       " ('K04031', 425.0, '2021-04-10'): 5.47,\n",
       " ('K04031', 425.0, '2021-05-30'): 5.47,\n",
       " ('K04031', 425.0, '2021-02-18'): 5.47,\n",
       " ('K04031', 425.0, '2021-05-31'): 5.47,\n",
       " ('K04031', 425.0, '2021-02-10'): 5.47,\n",
       " ('K04031', 425.0, '2021-03-10'): 5.47,\n",
       " ('K04031', 425.0, '2021-05-24'): 5.47,\n",
       " ('K04031', 425.0, '2021-05-10'): 5.47,\n",
       " ('K04031', 426.0, '2021-05-13'): 6.25,\n",
       " ('K04031', 426.0, '2021-04-10'): 6.25,\n",
       " ('K04031', 426.0, '2021-05-30'): 6.25,\n",
       " ('K04031', 426.0, '2021-02-18'): 6.25,\n",
       " ('K04031', 426.0, '2021-05-31'): 6.25,\n",
       " ('K04031', 426.0, '2021-02-10'): 6.25,\n",
       " ('K04031', 426.0, '2021-03-10'): 6.25,\n",
       " ('K04031', 426.0, '2021-05-24'): 6.25,\n",
       " ('K04031', 426.0, '2021-05-10'): 6.25,\n",
       " ('K04031', 433.0, '2021-05-13'): 3.37,\n",
       " ('K04031', 433.0, '2021-04-10'): 3.37,\n",
       " ('K04031', 433.0, '2021-05-30'): 3.37,\n",
       " ('K04031', 433.0, '2021-02-18'): 3.37,\n",
       " ('K04031', 433.0, '2021-05-31'): 3.37,\n",
       " ('K04031', 433.0, '2021-02-10'): 3.37,\n",
       " ('K04031', 433.0, '2021-03-10'): 3.37,\n",
       " ('K04031', 433.0, '2021-05-24'): 3.37,\n",
       " ('K04031', 433.0, '2021-05-10'): 3.37,\n",
       " ('K04031', 434.0, '2021-05-13'): 3.86,\n",
       " ('K04031', 434.0, '2021-04-10'): 3.86,\n",
       " ('K04031', 434.0, '2021-05-30'): 3.86,\n",
       " ('K04031', 434.0, '2021-02-18'): 3.86,\n",
       " ('K04031', 434.0, '2021-05-31'): 3.86,\n",
       " ('K04031', 434.0, '2021-02-10'): 3.86,\n",
       " ('K04031', 434.0, '2021-03-10'): 3.86,\n",
       " ('K04031', 434.0, '2021-05-24'): 3.86,\n",
       " ('K04031', 434.0, '2021-05-10'): 3.86,\n",
       " ('K04031', 435.0, '2021-05-13'): 3.8,\n",
       " ('K04031', 435.0, '2021-04-10'): 3.8,\n",
       " ('K04031', 435.0, '2021-05-30'): 3.8,\n",
       " ('K04031', 435.0, '2021-02-18'): 3.8,\n",
       " ('K04031', 435.0, '2021-05-31'): 3.8,\n",
       " ('K04031', 435.0, '2021-02-10'): 3.8,\n",
       " ('K04031', 435.0, '2021-03-10'): 3.8,\n",
       " ('K04031', 435.0, '2021-05-24'): 3.8,\n",
       " ('K04031', 435.0, '2021-05-10'): 3.8,\n",
       " ('K04031', 436.0, '2021-05-13'): 4.53,\n",
       " ('K04031', 436.0, '2021-04-10'): 4.53,\n",
       " ('K04031', 436.0, '2021-05-30'): 4.53,\n",
       " ('K04031', 436.0, '2021-02-18'): 4.53,\n",
       " ('K04031', 436.0, '2021-05-31'): 4.53,\n",
       " ('K04031', 436.0, '2021-02-10'): 4.53,\n",
       " ('K04031', 436.0, '2021-03-10'): 4.53,\n",
       " ('K04031', 436.0, '2021-05-24'): 4.53,\n",
       " ('K04031', 436.0, '2021-05-10'): 4.53,\n",
       " ('K04031', 438.0, '2021-05-13'): 0,\n",
       " ('K04031', 438.0, '2021-04-10'): 0,\n",
       " ('K04031', 438.0, '2021-05-30'): 0,\n",
       " ('K04031', 438.0, '2021-02-18'): 0,\n",
       " ('K04031', 438.0, '2021-05-31'): 0,\n",
       " ('K04031', 438.0, '2021-02-10'): 0,\n",
       " ('K04031', 438.0, '2021-03-10'): 0,\n",
       " ('K04031', 438.0, '2021-05-24'): 0,\n",
       " ('K04031', 438.0, '2021-05-10'): 0,\n",
       " ('K04031', 439.0, '2021-05-13'): 0,\n",
       " ('K04031', 439.0, '2021-04-10'): 0,\n",
       " ('K04031', 439.0, '2021-05-30'): 0,\n",
       " ('K04031', 439.0, '2021-02-18'): 0,\n",
       " ('K04031', 439.0, '2021-05-31'): 0,\n",
       " ('K04031', 439.0, '2021-02-10'): 0,\n",
       " ('K04031', 439.0, '2021-03-10'): 0,\n",
       " ('K04031', 439.0, '2021-05-24'): 0,\n",
       " ('K04031', 439.0, '2021-05-10'): 0,\n",
       " ('K04031', 440.0, '2021-05-13'): 3.85,\n",
       " ('K04031', 440.0, '2021-04-10'): 3.85,\n",
       " ('K04031', 440.0, '2021-05-30'): 3.85,\n",
       " ('K04031', 440.0, '2021-02-18'): 3.85,\n",
       " ('K04031', 440.0, '2021-05-31'): 3.85,\n",
       " ('K04031', 440.0, '2021-02-10'): 3.85,\n",
       " ('K04031', 440.0, '2021-03-10'): 3.85,\n",
       " ('K04031', 440.0, '2021-05-24'): 3.85,\n",
       " ('K04031', 440.0, '2021-05-10'): 3.85,\n",
       " ('S00341', 404.0, '2021-05-13'): 0,\n",
       " ('S00341', 404.0, '2021-04-10'): 0,\n",
       " ('S00341', 404.0, '2021-05-30'): 0,\n",
       " ('S00341', 404.0, '2021-02-18'): 0,\n",
       " ('S00341', 404.0, '2021-05-31'): 0,\n",
       " ('S00341', 404.0, '2021-02-10'): 0,\n",
       " ('S00341', 404.0, '2021-03-10'): 0,\n",
       " ('S00341', 404.0, '2021-05-24'): 0,\n",
       " ('S00341', 404.0, '2021-05-10'): 0,\n",
       " ('S00341', 405.0, '2021-05-13'): 0,\n",
       " ('S00341', 405.0, '2021-04-10'): 0,\n",
       " ('S00341', 405.0, '2021-05-30'): 0,\n",
       " ('S00341', 405.0, '2021-02-18'): 0,\n",
       " ('S00341', 405.0, '2021-05-31'): 0,\n",
       " ('S00341', 405.0, '2021-02-10'): 0,\n",
       " ('S00341', 405.0, '2021-03-10'): 0,\n",
       " ('S00341', 405.0, '2021-05-24'): 0,\n",
       " ('S00341', 405.0, '2021-05-10'): 0,\n",
       " ('S00341', 407.0, '2021-05-13'): 0,\n",
       " ('S00341', 407.0, '2021-04-10'): 0,\n",
       " ('S00341', 407.0, '2021-05-30'): 0,\n",
       " ('S00341', 407.0, '2021-02-18'): 0,\n",
       " ('S00341', 407.0, '2021-05-31'): 0,\n",
       " ('S00341', 407.0, '2021-02-10'): 0,\n",
       " ('S00341', 407.0, '2021-03-10'): 0,\n",
       " ('S00341', 407.0, '2021-05-24'): 0,\n",
       " ('S00341', 407.0, '2021-05-10'): 0,\n",
       " ('S00341', 408.0, '2021-05-13'): 0,\n",
       " ('S00341', 408.0, '2021-04-10'): 0,\n",
       " ('S00341', 408.0, '2021-05-30'): 0,\n",
       " ('S00341', 408.0, '2021-02-18'): 0,\n",
       " ('S00341', 408.0, '2021-05-31'): 0,\n",
       " ('S00341', 408.0, '2021-02-10'): 0,\n",
       " ('S00341', 408.0, '2021-03-10'): 0,\n",
       " ('S00341', 408.0, '2021-05-24'): 0,\n",
       " ('S00341', 408.0, '2021-05-10'): 0,\n",
       " ('S00341', 409.0, '2021-05-13'): 0,\n",
       " ('S00341', 409.0, '2021-04-10'): 0,\n",
       " ('S00341', 409.0, '2021-05-30'): 0,\n",
       " ('S00341', 409.0, '2021-02-18'): 0,\n",
       " ('S00341', 409.0, '2021-05-31'): 0,\n",
       " ('S00341', 409.0, '2021-02-10'): 0,\n",
       " ('S00341', 409.0, '2021-03-10'): 0,\n",
       " ('S00341', 409.0, '2021-05-24'): 0,\n",
       " ('S00341', 409.0, '2021-05-10'): 0,\n",
       " ('S00341', 410.0, '2021-05-13'): 4.6,\n",
       " ('S00341', 410.0, '2021-04-10'): 4.6,\n",
       " ('S00341', 410.0, '2021-05-30'): 4.6,\n",
       " ('S00341', 410.0, '2021-02-18'): 4.6,\n",
       " ('S00341', 410.0, '2021-05-31'): 4.6,\n",
       " ('S00341', 410.0, '2021-02-10'): 4.6,\n",
       " ('S00341', 410.0, '2021-03-10'): 4.6,\n",
       " ('S00341', 410.0, '2021-05-24'): 4.6,\n",
       " ('S00341', 410.0, '2021-05-10'): 4.6,\n",
       " ('S00341', 412.0, '2021-05-13'): 0,\n",
       " ('S00341', 412.0, '2021-04-10'): 0,\n",
       " ('S00341', 412.0, '2021-05-30'): 0,\n",
       " ('S00341', 412.0, '2021-02-18'): 0,\n",
       " ('S00341', 412.0, '2021-05-31'): 0,\n",
       " ('S00341', 412.0, '2021-02-10'): 0,\n",
       " ('S00341', 412.0, '2021-03-10'): 0,\n",
       " ('S00341', 412.0, '2021-05-24'): 0,\n",
       " ('S00341', 412.0, '2021-05-10'): 0,\n",
       " ('S00341', 416.0, '2021-05-13'): 0,\n",
       " ('S00341', 416.0, '2021-04-10'): 0,\n",
       " ('S00341', 416.0, '2021-05-30'): 0,\n",
       " ('S00341', 416.0, '2021-02-18'): 0,\n",
       " ('S00341', 416.0, '2021-05-31'): 0,\n",
       " ('S00341', 416.0, '2021-02-10'): 0,\n",
       " ('S00341', 416.0, '2021-03-10'): 0,\n",
       " ('S00341', 416.0, '2021-05-24'): 0,\n",
       " ('S00341', 416.0, '2021-05-10'): 0,\n",
       " ('S00341', 421.0, '2021-05-13'): 0,\n",
       " ('S00341', 421.0, '2021-04-10'): 0,\n",
       " ('S00341', 421.0, '2021-05-30'): 0,\n",
       " ('S00341', 421.0, '2021-02-18'): 0,\n",
       " ('S00341', 421.0, '2021-05-31'): 0,\n",
       " ('S00341', 421.0, '2021-02-10'): 0,\n",
       " ('S00341', 421.0, '2021-03-10'): 0,\n",
       " ('S00341', 421.0, '2021-05-24'): 0,\n",
       " ('S00341', 421.0, '2021-05-10'): 0,\n",
       " ('S00341', 422.0, '2021-05-13'): 0,\n",
       " ('S00341', 422.0, '2021-04-10'): 0,\n",
       " ('S00341', 422.0, '2021-05-30'): 0,\n",
       " ('S00341', 422.0, '2021-02-18'): 0,\n",
       " ('S00341', 422.0, '2021-05-31'): 0,\n",
       " ('S00341', 422.0, '2021-02-10'): 0,\n",
       " ('S00341', 422.0, '2021-03-10'): 0,\n",
       " ('S00341', 422.0, '2021-05-24'): 0,\n",
       " ('S00341', 422.0, '2021-05-10'): 0,\n",
       " ('S00341', 424.0, '2021-05-13'): 0,\n",
       " ('S00341', 424.0, '2021-04-10'): 0,\n",
       " ('S00341', 424.0, '2021-05-30'): 0,\n",
       " ('S00341', 424.0, '2021-02-18'): 0,\n",
       " ('S00341', 424.0, '2021-05-31'): 0,\n",
       " ('S00341', 424.0, '2021-02-10'): 0,\n",
       " ('S00341', 424.0, '2021-03-10'): 0,\n",
       " ('S00341', 424.0, '2021-05-24'): 0,\n",
       " ('S00341', 424.0, '2021-05-10'): 0,\n",
       " ('S00341', 425.0, '2021-05-13'): 0,\n",
       " ('S00341', 425.0, '2021-04-10'): 0,\n",
       " ('S00341', 425.0, '2021-05-30'): 0,\n",
       " ('S00341', 425.0, '2021-02-18'): 0,\n",
       " ('S00341', 425.0, '2021-05-31'): 0,\n",
       " ('S00341', 425.0, '2021-02-10'): 0,\n",
       " ('S00341', 425.0, '2021-03-10'): 0,\n",
       " ('S00341', 425.0, '2021-05-24'): 0,\n",
       " ('S00341', 425.0, '2021-05-10'): 0,\n",
       " ('S00341', 426.0, '2021-05-13'): 0,\n",
       " ('S00341', 426.0, '2021-04-10'): 0,\n",
       " ('S00341', 426.0, '2021-05-30'): 0,\n",
       " ('S00341', 426.0, '2021-02-18'): 0,\n",
       " ('S00341', 426.0, '2021-05-31'): 0,\n",
       " ('S00341', 426.0, '2021-02-10'): 0,\n",
       " ('S00341', 426.0, '2021-03-10'): 0,\n",
       " ('S00341', 426.0, '2021-05-24'): 0,\n",
       " ('S00341', 426.0, '2021-05-10'): 0,\n",
       " ('S00341', 433.0, '2021-05-13'): 0,\n",
       " ('S00341', 433.0, '2021-04-10'): 0,\n",
       " ('S00341', 433.0, '2021-05-30'): 0,\n",
       " ('S00341', 433.0, '2021-02-18'): 0,\n",
       " ('S00341', 433.0, '2021-05-31'): 0,\n",
       " ('S00341', 433.0, '2021-02-10'): 0,\n",
       " ('S00341', 433.0, '2021-03-10'): 0,\n",
       " ('S00341', 433.0, '2021-05-24'): 0,\n",
       " ('S00341', 433.0, '2021-05-10'): 0,\n",
       " ('S00341', 434.0, '2021-05-13'): 0,\n",
       " ('S00341', 434.0, '2021-04-10'): 0,\n",
       " ('S00341', 434.0, '2021-05-30'): 0,\n",
       " ('S00341', 434.0, '2021-02-18'): 0,\n",
       " ('S00341', 434.0, '2021-05-31'): 0,\n",
       " ('S00341', 434.0, '2021-02-10'): 0,\n",
       " ('S00341', 434.0, '2021-03-10'): 0,\n",
       " ('S00341', 434.0, '2021-05-24'): 0,\n",
       " ('S00341', 434.0, '2021-05-10'): 0,\n",
       " ('S00341', 435.0, '2021-05-13'): 0,\n",
       " ('S00341', 435.0, '2021-04-10'): 0,\n",
       " ('S00341', 435.0, '2021-05-30'): 0,\n",
       " ('S00341', 435.0, '2021-02-18'): 0,\n",
       " ('S00341', 435.0, '2021-05-31'): 0,\n",
       " ('S00341', 435.0, '2021-02-10'): 0,\n",
       " ('S00341', 435.0, '2021-03-10'): 0,\n",
       " ('S00341', 435.0, '2021-05-24'): 0,\n",
       " ('S00341', 435.0, '2021-05-10'): 0,\n",
       " ('S00341', 436.0, '2021-05-13'): 0,\n",
       " ('S00341', 436.0, '2021-04-10'): 0,\n",
       " ('S00341', 436.0, '2021-05-30'): 0,\n",
       " ('S00341', 436.0, '2021-02-18'): 0,\n",
       " ('S00341', 436.0, '2021-05-31'): 0,\n",
       " ('S00341', 436.0, '2021-02-10'): 0,\n",
       " ('S00341', 436.0, '2021-03-10'): 0,\n",
       " ('S00341', 436.0, '2021-05-24'): 0,\n",
       " ('S00341', 436.0, '2021-05-10'): 0,\n",
       " ('S00341', 438.0, '2021-05-13'): 0,\n",
       " ('S00341', 438.0, '2021-04-10'): 0,\n",
       " ('S00341', 438.0, '2021-05-30'): 0,\n",
       " ('S00341', 438.0, '2021-02-18'): 0,\n",
       " ('S00341', 438.0, '2021-05-31'): 0,\n",
       " ('S00341', 438.0, '2021-02-10'): 0,\n",
       " ('S00341', 438.0, '2021-03-10'): 0,\n",
       " ('S00341', 438.0, '2021-05-24'): 0,\n",
       " ('S00341', 438.0, '2021-05-10'): 0,\n",
       " ('S00341', 439.0, '2021-05-13'): 0,\n",
       " ('S00341', 439.0, '2021-04-10'): 0,\n",
       " ('S00341', 439.0, '2021-05-30'): 0,\n",
       " ('S00341', 439.0, '2021-02-18'): 0,\n",
       " ('S00341', 439.0, '2021-05-31'): 0,\n",
       " ('S00341', 439.0, '2021-02-10'): 0,\n",
       " ('S00341', 439.0, '2021-03-10'): 0,\n",
       " ('S00341', 439.0, '2021-05-24'): 0,\n",
       " ('S00341', 439.0, '2021-05-10'): 0,\n",
       " ('S00341', 440.0, '2021-05-13'): 0,\n",
       " ('S00341', 440.0, '2021-04-10'): 0,\n",
       " ('S00341', 440.0, '2021-05-30'): 0,\n",
       " ('S00341', 440.0, '2021-02-18'): 0,\n",
       " ('S00341', 440.0, '2021-05-31'): 0,\n",
       " ('S00341', 440.0, '2021-02-10'): 0,\n",
       " ('S00341', 440.0, '2021-03-10'): 0,\n",
       " ('S00341', 440.0, '2021-05-24'): 0,\n",
       " ('S00341', 440.0, '2021-05-10'): 0,\n",
       " ('K04101', 404.0, '2021-05-13'): 0,\n",
       " ('K04101', 404.0, '2021-04-10'): 0,\n",
       " ('K04101', 404.0, '2021-05-30'): 0,\n",
       " ('K04101', 404.0, '2021-02-18'): 0,\n",
       " ('K04101', 404.0, '2021-05-31'): 0,\n",
       " ('K04101', 404.0, '2021-02-10'): 0,\n",
       " ('K04101', 404.0, '2021-03-10'): 0,\n",
       " ('K04101', 404.0, '2021-05-24'): 0,\n",
       " ('K04101', 404.0, '2021-05-10'): 0,\n",
       " ('K04101', 405.0, '2021-05-13'): 0,\n",
       " ('K04101', 405.0, '2021-04-10'): 0,\n",
       " ('K04101', 405.0, '2021-05-30'): 0,\n",
       " ('K04101', 405.0, '2021-02-18'): 0,\n",
       " ('K04101', 405.0, '2021-05-31'): 0,\n",
       " ('K04101', 405.0, '2021-02-10'): 0,\n",
       " ('K04101', 405.0, '2021-03-10'): 0,\n",
       " ('K04101', 405.0, '2021-05-24'): 0,\n",
       " ('K04101', 405.0, '2021-05-10'): 0,\n",
       " ('K04101', 407.0, '2021-05-13'): 0,\n",
       " ('K04101', 407.0, '2021-04-10'): 0,\n",
       " ('K04101', 407.0, '2021-05-30'): 0,\n",
       " ('K04101', 407.0, '2021-02-18'): 0,\n",
       " ('K04101', 407.0, '2021-05-31'): 0,\n",
       " ('K04101', 407.0, '2021-02-10'): 0,\n",
       " ('K04101', 407.0, '2021-03-10'): 0,\n",
       " ('K04101', 407.0, '2021-05-24'): 0,\n",
       " ('K04101', 407.0, '2021-05-10'): 0,\n",
       " ('K04101', 408.0, '2021-05-13'): 8.17,\n",
       " ('K04101', 408.0, '2021-04-10'): 8.17,\n",
       " ('K04101', 408.0, '2021-05-30'): 8.17,\n",
       " ('K04101', 408.0, '2021-02-18'): 8.17,\n",
       " ('K04101', 408.0, '2021-05-31'): 8.17,\n",
       " ('K04101', 408.0, '2021-02-10'): 8.17,\n",
       " ('K04101', 408.0, '2021-03-10'): 8.17,\n",
       " ('K04101', 408.0, '2021-05-24'): 8.17,\n",
       " ('K04101', 408.0, '2021-05-10'): 8.17,\n",
       " ('K04101', 409.0, '2021-05-13'): 10.62,\n",
       " ('K04101', 409.0, '2021-04-10'): 10.62,\n",
       " ('K04101', 409.0, '2021-05-30'): 10.62,\n",
       " ('K04101', 409.0, '2021-02-18'): 10.62,\n",
       " ('K04101', 409.0, '2021-05-31'): 10.62,\n",
       " ('K04101', 409.0, '2021-02-10'): 10.62,\n",
       " ('K04101', 409.0, '2021-03-10'): 10.62,\n",
       " ('K04101', 409.0, '2021-05-24'): 10.62,\n",
       " ('K04101', 409.0, '2021-05-10'): 10.62,\n",
       " ('K04101', 410.0, '2021-05-13'): 0,\n",
       " ('K04101', 410.0, '2021-04-10'): 0,\n",
       " ('K04101', 410.0, '2021-05-30'): 0,\n",
       " ('K04101', 410.0, '2021-02-18'): 0,\n",
       " ('K04101', 410.0, '2021-05-31'): 0,\n",
       " ('K04101', 410.0, '2021-02-10'): 0,\n",
       " ('K04101', 410.0, '2021-03-10'): 0,\n",
       " ('K04101', 410.0, '2021-05-24'): 0,\n",
       " ('K04101', 410.0, '2021-05-10'): 0,\n",
       " ('K04101', 412.0, '2021-05-13'): 0,\n",
       " ('K04101', 412.0, '2021-04-10'): 0,\n",
       " ('K04101', 412.0, '2021-05-30'): 0,\n",
       " ('K04101', 412.0, '2021-02-18'): 0,\n",
       " ('K04101', 412.0, '2021-05-31'): 0,\n",
       " ('K04101', 412.0, '2021-02-10'): 0,\n",
       " ('K04101', 412.0, '2021-03-10'): 0,\n",
       " ('K04101', 412.0, '2021-05-24'): 0,\n",
       " ('K04101', 412.0, '2021-05-10'): 0,\n",
       " ('K04101', 416.0, '2021-05-13'): 8.22,\n",
       " ('K04101', 416.0, '2021-04-10'): 8.22,\n",
       " ('K04101', 416.0, '2021-05-30'): 8.22,\n",
       " ('K04101', 416.0, '2021-02-18'): 8.22,\n",
       " ('K04101', 416.0, '2021-05-31'): 8.22,\n",
       " ('K04101', 416.0, '2021-02-10'): 8.22,\n",
       " ('K04101', 416.0, '2021-03-10'): 8.22,\n",
       " ('K04101', 416.0, '2021-05-24'): 8.22,\n",
       " ('K04101', 416.0, '2021-05-10'): 8.22,\n",
       " ('K04101', 421.0, '2021-05-13'): 0,\n",
       " ('K04101', 421.0, '2021-04-10'): 0,\n",
       " ('K04101', 421.0, '2021-05-30'): 0,\n",
       " ('K04101', 421.0, '2021-02-18'): 0,\n",
       " ('K04101', 421.0, '2021-05-31'): 0,\n",
       " ('K04101', 421.0, '2021-02-10'): 0,\n",
       " ('K04101', 421.0, '2021-03-10'): 0,\n",
       " ('K04101', 421.0, '2021-05-24'): 0,\n",
       " ('K04101', 421.0, '2021-05-10'): 0,\n",
       " ('K04101', 422.0, '2021-05-13'): 0,\n",
       " ('K04101', 422.0, '2021-04-10'): 0,\n",
       " ('K04101', 422.0, '2021-05-30'): 0,\n",
       " ('K04101', 422.0, '2021-02-18'): 0,\n",
       " ('K04101', 422.0, '2021-05-31'): 0,\n",
       " ('K04101', 422.0, '2021-02-10'): 0,\n",
       " ('K04101', 422.0, '2021-03-10'): 0,\n",
       " ('K04101', 422.0, '2021-05-24'): 0,\n",
       " ('K04101', 422.0, '2021-05-10'): 0,\n",
       " ('K04101', 424.0, '2021-05-13'): 9.32,\n",
       " ('K04101', 424.0, '2021-04-10'): 9.32,\n",
       " ('K04101', 424.0, '2021-05-30'): 9.32,\n",
       " ('K04101', 424.0, '2021-02-18'): 9.32,\n",
       " ('K04101', 424.0, '2021-05-31'): 9.32,\n",
       " ('K04101', 424.0, '2021-02-10'): 9.32,\n",
       " ('K04101', 424.0, '2021-03-10'): 9.32,\n",
       " ('K04101', 424.0, '2021-05-24'): 9.32,\n",
       " ('K04101', 424.0, '2021-05-10'): 9.32,\n",
       " ('K04101', 425.0, '2021-05-13'): 12.5,\n",
       " ('K04101', 425.0, '2021-04-10'): 12.5,\n",
       " ('K04101', 425.0, '2021-05-30'): 12.5,\n",
       " ('K04101', 425.0, '2021-02-18'): 12.5,\n",
       " ('K04101', 425.0, '2021-05-31'): 12.5,\n",
       " ('K04101', 425.0, '2021-02-10'): 12.5,\n",
       " ('K04101', 425.0, '2021-03-10'): 12.5,\n",
       " ('K04101', 425.0, '2021-05-24'): 12.5,\n",
       " ('K04101', 425.0, '2021-05-10'): 12.5,\n",
       " ('K04101', 426.0, '2021-05-13'): 11.21,\n",
       " ('K04101', 426.0, '2021-04-10'): 11.21,\n",
       " ('K04101', 426.0, '2021-05-30'): 11.21,\n",
       " ('K04101', 426.0, '2021-02-18'): 11.21,\n",
       " ('K04101', 426.0, '2021-05-31'): 11.21,\n",
       " ('K04101', 426.0, '2021-02-10'): 11.21,\n",
       " ('K04101', 426.0, '2021-03-10'): 11.21,\n",
       " ('K04101', 426.0, '2021-05-24'): 11.21,\n",
       " ('K04101', 426.0, '2021-05-10'): 11.21,\n",
       " ('K04101', 433.0, '2021-05-13'): 0,\n",
       " ('K04101', 433.0, '2021-04-10'): 0,\n",
       " ('K04101', 433.0, '2021-05-30'): 0,\n",
       " ('K04101', 433.0, '2021-02-18'): 0,\n",
       " ('K04101', 433.0, '2021-05-31'): 0,\n",
       " ('K04101', 433.0, '2021-02-10'): 0,\n",
       " ('K04101', 433.0, '2021-03-10'): 0,\n",
       " ('K04101', 433.0, '2021-05-24'): 0,\n",
       " ('K04101', 433.0, '2021-05-10'): 0,\n",
       " ('K04101', 434.0, '2021-05-13'): 0,\n",
       " ('K04101', 434.0, '2021-04-10'): 0,\n",
       " ('K04101', 434.0, '2021-05-30'): 0,\n",
       " ('K04101', 434.0, '2021-02-18'): 0,\n",
       " ('K04101', 434.0, '2021-05-31'): 0,\n",
       " ('K04101', 434.0, '2021-02-10'): 0,\n",
       " ('K04101', 434.0, '2021-03-10'): 0,\n",
       " ('K04101', 434.0, '2021-05-24'): 0,\n",
       " ('K04101', 434.0, '2021-05-10'): 0,\n",
       " ('K04101', 435.0, '2021-05-13'): 0,\n",
       " ('K04101', 435.0, '2021-04-10'): 0,\n",
       " ('K04101', 435.0, '2021-05-30'): 0,\n",
       " ('K04101', 435.0, '2021-02-18'): 0,\n",
       " ('K04101', 435.0, '2021-05-31'): 0,\n",
       " ('K04101', 435.0, '2021-02-10'): 0,\n",
       " ('K04101', 435.0, '2021-03-10'): 0,\n",
       " ('K04101', 435.0, '2021-05-24'): 0,\n",
       " ('K04101', 435.0, '2021-05-10'): 0,\n",
       " ('K04101', 436.0, '2021-05-13'): 0,\n",
       " ('K04101', 436.0, '2021-04-10'): 0,\n",
       " ('K04101', 436.0, '2021-05-30'): 0,\n",
       " ('K04101', 436.0, '2021-02-18'): 0,\n",
       " ('K04101', 436.0, '2021-05-31'): 0,\n",
       " ('K04101', 436.0, '2021-02-10'): 0,\n",
       " ('K04101', 436.0, '2021-03-10'): 0,\n",
       " ('K04101', 436.0, '2021-05-24'): 0,\n",
       " ('K04101', 436.0, '2021-05-10'): 0,\n",
       " ('K04101', 438.0, '2021-05-13'): 0,\n",
       " ('K04101', 438.0, '2021-04-10'): 0,\n",
       " ('K04101', 438.0, '2021-05-30'): 0,\n",
       " ('K04101', 438.0, '2021-02-18'): 0,\n",
       " ('K04101', 438.0, '2021-05-31'): 0,\n",
       " ('K04101', 438.0, '2021-02-10'): 0,\n",
       " ('K04101', 438.0, '2021-03-10'): 0,\n",
       " ('K04101', 438.0, '2021-05-24'): 0,\n",
       " ('K04101', 438.0, '2021-05-10'): 0,\n",
       " ('K04101', 439.0, '2021-05-13'): 0,\n",
       " ('K04101', 439.0, '2021-04-10'): 0,\n",
       " ('K04101', 439.0, '2021-05-30'): 0,\n",
       " ('K04101', 439.0, '2021-02-18'): 0,\n",
       " ('K04101', 439.0, '2021-05-31'): 0,\n",
       " ('K04101', 439.0, '2021-02-10'): 0,\n",
       " ('K04101', 439.0, '2021-03-10'): 0,\n",
       " ('K04101', 439.0, '2021-05-24'): 0,\n",
       " ('K04101', 439.0, '2021-05-10'): 0,\n",
       " ('K04101', 440.0, '2021-05-13'): 0,\n",
       " ('K04101', 440.0, '2021-04-10'): 0,\n",
       " ('K04101', 440.0, '2021-05-30'): 0,\n",
       " ('K04101', 440.0, '2021-02-18'): 0,\n",
       " ('K04101', 440.0, '2021-05-31'): 0,\n",
       " ('K04101', 440.0, '2021-02-10'): 0,\n",
       " ('K04101', 440.0, '2021-03-10'): 0,\n",
       " ('K04101', 440.0, '2021-05-24'): 0,\n",
       " ('K04101', 440.0, '2021-05-10'): 0,\n",
       " ('S00271', 404.0, '2021-05-13'): 0,\n",
       " ('S00271', 404.0, '2021-04-10'): 0,\n",
       " ('S00271', 404.0, '2021-05-30'): 0,\n",
       " ('S00271', 404.0, '2021-02-18'): 0,\n",
       " ('S00271', 404.0, '2021-05-31'): 0,\n",
       " ('S00271', 404.0, '2021-02-10'): 0,\n",
       " ('S00271', 404.0, '2021-03-10'): 0,\n",
       " ('S00271', 404.0, '2021-05-24'): 0,\n",
       " ('S00271', 404.0, '2021-05-10'): 0,\n",
       " ('S00271', 405.0, '2021-05-13'): 0,\n",
       " ('S00271', 405.0, '2021-04-10'): 0,\n",
       " ('S00271', 405.0, '2021-05-30'): 0,\n",
       " ('S00271', 405.0, '2021-02-18'): 0,\n",
       " ('S00271', 405.0, '2021-05-31'): 0,\n",
       " ('S00271', 405.0, '2021-02-10'): 0,\n",
       " ('S00271', 405.0, '2021-03-10'): 0,\n",
       " ('S00271', 405.0, '2021-05-24'): 0,\n",
       " ('S00271', 405.0, '2021-05-10'): 0,\n",
       " ('S00271', 407.0, '2021-05-13'): 0,\n",
       " ('S00271', 407.0, '2021-04-10'): 0,\n",
       " ('S00271', 407.0, '2021-05-30'): 0,\n",
       " ('S00271', 407.0, '2021-02-18'): 0,\n",
       " ('S00271', 407.0, '2021-05-31'): 0,\n",
       " ('S00271', 407.0, '2021-02-10'): 0,\n",
       " ('S00271', 407.0, '2021-03-10'): 0,\n",
       " ('S00271', 407.0, '2021-05-24'): 0,\n",
       " ('S00271', 407.0, '2021-05-10'): 0,\n",
       " ('S00271', 408.0, '2021-05-13'): 0,\n",
       " ('S00271', 408.0, '2021-04-10'): 0,\n",
       " ('S00271', 408.0, '2021-05-30'): 0,\n",
       " ('S00271', 408.0, '2021-02-18'): 0,\n",
       " ('S00271', 408.0, '2021-05-31'): 0,\n",
       " ('S00271', 408.0, '2021-02-10'): 0,\n",
       " ('S00271', 408.0, '2021-03-10'): 0,\n",
       " ('S00271', 408.0, '2021-05-24'): 0,\n",
       " ('S00271', 408.0, '2021-05-10'): 0,\n",
       " ('S00271', 409.0, '2021-05-13'): 0,\n",
       " ('S00271', 409.0, '2021-04-10'): 0,\n",
       " ('S00271', 409.0, '2021-05-30'): 0,\n",
       " ('S00271', 409.0, '2021-02-18'): 0,\n",
       " ('S00271', 409.0, '2021-05-31'): 0,\n",
       " ('S00271', 409.0, '2021-02-10'): 0,\n",
       " ('S00271', 409.0, '2021-03-10'): 0,\n",
       " ('S00271', 409.0, '2021-05-24'): 0,\n",
       " ('S00271', 409.0, '2021-05-10'): 0,\n",
       " ('S00271', 410.0, '2021-05-13'): 0,\n",
       " ('S00271', 410.0, '2021-04-10'): 0,\n",
       " ('S00271', 410.0, '2021-05-30'): 0,\n",
       " ('S00271', 410.0, '2021-02-18'): 0,\n",
       " ('S00271', 410.0, '2021-05-31'): 0,\n",
       " ('S00271', 410.0, '2021-02-10'): 0,\n",
       " ('S00271', 410.0, '2021-03-10'): 0,\n",
       " ('S00271', 410.0, '2021-05-24'): 0,\n",
       " ('S00271', 410.0, '2021-05-10'): 0,\n",
       " ('S00271', 412.0, '2021-05-13'): 0,\n",
       " ('S00271', 412.0, '2021-04-10'): 0,\n",
       " ('S00271', 412.0, '2021-05-30'): 0,\n",
       " ('S00271', 412.0, '2021-02-18'): 0,\n",
       " ('S00271', 412.0, '2021-05-31'): 0,\n",
       " ('S00271', 412.0, '2021-02-10'): 0,\n",
       " ('S00271', 412.0, '2021-03-10'): 0,\n",
       " ('S00271', 412.0, '2021-05-24'): 0,\n",
       " ('S00271', 412.0, '2021-05-10'): 0,\n",
       " ('S00271', 416.0, '2021-05-13'): 0,\n",
       " ('S00271', 416.0, '2021-04-10'): 0,\n",
       " ('S00271', 416.0, '2021-05-30'): 0,\n",
       " ('S00271', 416.0, '2021-02-18'): 0,\n",
       " ('S00271', 416.0, '2021-05-31'): 0,\n",
       " ('S00271', 416.0, '2021-02-10'): 0,\n",
       " ('S00271', 416.0, '2021-03-10'): 0,\n",
       " ('S00271', 416.0, '2021-05-24'): 0,\n",
       " ('S00271', 416.0, '2021-05-10'): 0,\n",
       " ('S00271', 421.0, '2021-05-13'): 0,\n",
       " ('S00271', 421.0, '2021-04-10'): 0,\n",
       " ('S00271', 421.0, '2021-05-30'): 0,\n",
       " ('S00271', 421.0, '2021-02-18'): 0,\n",
       " ('S00271', 421.0, '2021-05-31'): 0,\n",
       " ('S00271', 421.0, '2021-02-10'): 0,\n",
       " ('S00271', 421.0, '2021-03-10'): 0,\n",
       " ('S00271', 421.0, '2021-05-24'): 0,\n",
       " ('S00271', 421.0, '2021-05-10'): 0,\n",
       " ('S00271', 422.0, '2021-05-13'): 0,\n",
       " ('S00271', 422.0, '2021-04-10'): 0,\n",
       " ('S00271', 422.0, '2021-05-30'): 0,\n",
       " ('S00271', 422.0, '2021-02-18'): 0,\n",
       " ('S00271', 422.0, '2021-05-31'): 0,\n",
       " ('S00271', 422.0, '2021-02-10'): 0,\n",
       " ('S00271', 422.0, '2021-03-10'): 0,\n",
       " ('S00271', 422.0, '2021-05-24'): 0,\n",
       " ('S00271', 422.0, '2021-05-10'): 0,\n",
       " ('S00271', 424.0, '2021-05-13'): 0,\n",
       " ('S00271', 424.0, '2021-04-10'): 0,\n",
       " ('S00271', 424.0, '2021-05-30'): 0,\n",
       " ('S00271', 424.0, '2021-02-18'): 0,\n",
       " ('S00271', 424.0, '2021-05-31'): 0,\n",
       " ('S00271', 424.0, '2021-02-10'): 0,\n",
       " ('S00271', 424.0, '2021-03-10'): 0,\n",
       " ('S00271', 424.0, '2021-05-24'): 0,\n",
       " ('S00271', 424.0, '2021-05-10'): 0,\n",
       " ('S00271', 425.0, '2021-05-13'): 1.32,\n",
       " ...}"
      ]
     },
     "execution_count": 36,
     "metadata": {},
     "output_type": "execute_result"
    }
   ],
   "source": [
    "mijt"
   ]
  },
  {
   "cell_type": "markdown",
   "metadata": {},
   "source": [
    "## Genetic Alogorithm"
   ]
  },
  {
   "cell_type": "code",
   "execution_count": 60,
   "metadata": {
    "id": "_V9z5BYo-SEF"
   },
   "outputs": [],
   "source": [
    "def dict2list(xijt):\n",
    "    return list(xijt.values())\n",
    "\n",
    "\n",
    "def list2dict(bitstring, type='xijt'):\n",
    "    if type == 'xijt':\n",
    "        _keys = xijt_keys\n",
    "    elif type == 'mijt':\n",
    "        _keys = mijt_keys\n",
    "\n",
    "    for idx, value in enumerate(bitstring):\n",
    "        xijt[_keys[idx]] = value\n",
    "    return xijt\n",
    "\n",
    "\n",
    "def decode(mijt, xijt):\n",
    "    for j in J:\n",
    "        for t in T:\n",
    "            for i in I:\n",
    "                if mijt[i, j, t] == 0:\n",
    "                    xijt[i, j, t] = 0\n",
    "    # for i in I:\n",
    "    #     for j in J:\n",
    "    #         for t in T:\n",
    "    #             if xijt[i, j, t] < 0:\n",
    "    #                 xijt[i, j, t] = 0    \n",
    "    return xijt\n",
    "\n",
    "\n",
    "def generation_xijt():\n",
    "    xijt = {}\n",
    "    for i in I:\n",
    "        for j in J:\n",
    "            for t in T:\n",
    "                if dit[i, t] > 0:\n",
    "                    xijt[i, j, t] = random.uniform(0, 1) \n",
    "                else:\n",
    "                    xijt[i, j, t] = 0\n",
    "    xijt = decode(mijt, xijt)\n",
    "    return xijt\n",
    "\n",
    "\n",
    "def objective(xijt):\n",
    "    uit = {}\n",
    "    xijt = constraint_check(xijt)\n",
    "    for i in I:\n",
    "        for t in T:\n",
    "            u = dit[i, t] - sum(round(xijt[i, j, t]*dit[i, t] )for j in J)\n",
    "            if u >= 0:\n",
    "                uit[i, t] = u\n",
    "            else:\n",
    "                uit[i, t] = abs(u)*10000000\n",
    "    objective = sum(uit[i, t]*cit[i, t]*pit[i, t] for i in I for t in T)\n",
    "    return objective\n",
    "\n",
    "\n",
    "def constraint_check(xijt):\n",
    "    for j in J:\n",
    "        for t in T:\n",
    "            check_value = sum(mijt[i, j, t]*round(xijt[i, j, t]*dit[i, t]) for i in I) <=  600\n",
    "            if check_value == False:\n",
    "                for i in I:\n",
    "                    xijt[i, j, t] = 0\n",
    "    return xijt\n",
    "\n",
    "\n",
    "# tournament selection\n",
    "def selection(pop, scores):\n",
    "    k = round(n_pop*0.5)\n",
    "    # first random selection\n",
    "    selection_ix = randint(len(pop))\n",
    "    for ix in randint(0, len(pop), k-1):\n",
    "        # check if better (e.g. perform a tournament)\n",
    "        if scores[ix] < scores[selection_ix]:\n",
    "            selection_ix = ix\n",
    "    return pop[selection_ix]\n",
    "\n",
    "def crossover(p1, p2, r_cross):\n",
    "    p1 = dict2list(p1)\n",
    "    p2 = dict2list(p2)\n",
    "    # children are copies of parents by default\n",
    "    c1, c2 = p1.copy(), p2.copy()\n",
    "    # check for recombination\n",
    "    if rand() < r_cross:\n",
    "        base_bitstring = dict2list(mijt)\n",
    "        valid_index = []\n",
    "        for i in range(len(base_bitstring)):\n",
    "            if base_bitstring[i]>0:\n",
    "                valid_index.append(i)\n",
    "                \n",
    "        n = round(r_cross*len(valid_index))\n",
    "        pt_0  = random.sample(valid_index, n)\n",
    "        pt_1 = list(set(valid_index)-set(pt_0))\n",
    "\n",
    "        # select crossover point that is not on the end of the string\n",
    "        for i in pt_0:\n",
    "            c1[i] = p2[i]\n",
    "            c2[i] = p1[i]\n",
    "        for i in pt_1:\n",
    "            c1[i] = p2[i]\n",
    "            c2[i] = p1[i]\n",
    "\n",
    "    return [c1, c2]\n",
    "\n",
    "\n",
    "def mutation(bitstring, r_mut):\n",
    "    for i in range(len(bitstring)):\n",
    "        # check for a mutation\n",
    "        if rand() < r_mut:\n",
    "            base_bitstring = dict2list(mijt)\n",
    "            valid_index = []\n",
    "            for i in range(len(base_bitstring)):\n",
    "                if base_bitstring[i]>0:\n",
    "                    valid_index.append(i)\n",
    "                \n",
    "            n = round(r_mut*len(valid_index))\n",
    "            pt_0  = random.sample(valid_index, n)\n",
    "            for i in pt_0:\n",
    "                bitstring[i] = random.uniform(0, 1) \n",
    "\n",
    "\n",
    "def genetic_algorithm(bounds, n_iter, n_pop, r_cross, r_mut):\n",
    "    \n",
    "    # utility\n",
    "    log = []\n",
    "    log_detail = []\n",
    "    best_gen = 0\n",
    "\n",
    "    # GA algorithm\n",
    "    pop = [generation_xijt() for _ in range(n_pop)]\n",
    "    best, best_eval = decode(mijt, pop[0]), objective(decode(mijt, pop[0]))\n",
    "    print(best_eval)\n",
    "\n",
    "    for gen in tqdm(range(n_iter)):\n",
    "        decoded = [decode(mijt, p) for p in pop]\n",
    "        # evaluate all candidates in the population\n",
    "        scores = [objective(d) for d in decoded]\n",
    "\n",
    "        # check for new best solution\n",
    "        for i in range(n_pop):\n",
    "            if scores[i] < best_eval:\n",
    "                best, best_eval = pop[i], scores[i]\n",
    "                print(f'>best! {gen}, {scores[i]}')\n",
    "                best_gen = gen\n",
    "            else:\n",
    "                # stop rule\n",
    "                if gen - best_gen > 100:\n",
    "                    print('stop')\n",
    "                    return [best, best_eval, log, log_detail]\n",
    "\n",
    "        # select parents\n",
    "        selected = [selection(pop, scores) for _ in range(n_pop)]\n",
    "        log_detail.append([gen, objective(selected[0])])\n",
    "\n",
    "        children = list()\n",
    "        for i in range(0, n_pop, 2):\n",
    "            # get selected parents in pairs\n",
    "            p1, p2 = selected[i], selected[i+1]\n",
    "            # crossover and mutation\n",
    "            for c in crossover(p1, p2, r_cross):\n",
    "                # mutation\n",
    "                mutation(c, r_mut)\n",
    "                # store for next generation\n",
    "                children.append(list2dict(c))\n",
    "        pop = children\n",
    "        log.append([gen, best_eval])\n",
    "\n",
    "    return [best, best_eval, log, log_detail]\n"
   ]
  },
  {
   "cell_type": "code",
   "execution_count": 40,
   "metadata": {
    "id": "8USfLfvpolLz"
   },
   "outputs": [
    {
     "name": "stdout",
     "output_type": "stream",
     "text": [
      "11166477\n"
     ]
    },
    {
     "name": "stderr",
     "output_type": "stream",
     "text": [
      "  0%|          | 0/200 [00:00<?, ?it/s]"
     ]
    },
    {
     "name": "stdout",
     "output_type": "stream",
     "text": [
      ">best! 0, 11044359\n",
      ">best! 0, 7007276\n"
     ]
    },
    {
     "name": "stderr",
     "output_type": "stream",
     "text": [
      " 14%|█▍        | 29/200 [00:43<04:19,  1.51s/it]"
     ]
    },
    {
     "name": "stdout",
     "output_type": "stream",
     "text": [
      ">best! 29, 6593112\n"
     ]
    },
    {
     "name": "stderr",
     "output_type": "stream",
     "text": [
      " 18%|█▊        | 35/200 [00:52<04:09,  1.51s/it]"
     ]
    },
    {
     "name": "stdout",
     "output_type": "stream",
     "text": [
      ">best! 35, 6276566\n"
     ]
    },
    {
     "name": "stderr",
     "output_type": "stream",
     "text": [
      " 28%|██▊       | 57/200 [01:25<03:37,  1.52s/it]"
     ]
    },
    {
     "name": "stdout",
     "output_type": "stream",
     "text": [
      ">best! 57, 5980512\n"
     ]
    },
    {
     "name": "stderr",
     "output_type": "stream",
     "text": [
      " 42%|████▏     | 83/200 [02:06<03:04,  1.57s/it]"
     ]
    },
    {
     "name": "stdout",
     "output_type": "stream",
     "text": [
      ">best! 83, 5152994\n"
     ]
    },
    {
     "name": "stderr",
     "output_type": "stream",
     "text": [
      " 92%|█████████▏| 184/200 [04:37<00:24,  1.51s/it]"
     ]
    },
    {
     "name": "stdout",
     "output_type": "stream",
     "text": [
      "stop\n",
      "Done!\n",
      "CPU times: user 4min 37s, sys: 111 ms, total: 4min 38s\n",
      "Wall time: 4min 37s\n"
     ]
    },
    {
     "name": "stderr",
     "output_type": "stream",
     "text": [
      "\n"
     ]
    }
   ],
   "source": [
    "%%time\n",
    "xijt = generation_xijt()\n",
    "xijt_keys = list(xijt.keys())\n",
    "mijt_keys = list(mijt.keys())\n",
    "# number of generations\n",
    "n_iter = 200\n",
    "# define the population size\n",
    "n_pop = 10\n",
    "# crossover rate\n",
    "r_cross = 0.4\n",
    "# mutation rate\n",
    "r_mut = 0.4 \n",
    "\n",
    "best, score, log, log_detail = genetic_algorithm(mijt, n_iter, n_pop, r_cross, r_mut)\n",
    "print('Done!')\n"
   ]
  },
  {
   "cell_type": "code",
   "execution_count": 47,
   "metadata": {},
   "outputs": [
    {
     "data": {
      "text/plain": [
       "<AxesSubplot:>"
      ]
     },
     "execution_count": 47,
     "metadata": {},
     "output_type": "execute_result"
    },
    {
     "data": {
      "image/png": "[encoded data removed]",
      "text/plain": [
       "<Figure size 432x288 with 1 Axes>"
      ]
     },
     "metadata": {
      "needs_background": "light"
     },
     "output_type": "display_data"
    }
   ],
   "source": [
    "pd.DataFrame(log_detail)[1].plot()"
   ]
  },
  {
   "cell_type": "code",
   "execution_count": 48,
   "metadata": {},
   "outputs": [
    {
     "data": {
      "text/plain": [
       "<AxesSubplot:>"
      ]
     },
     "execution_count": 48,
     "metadata": {},
     "output_type": "execute_result"
    },
    {
     "data": {
      "image/png": "[encoded data removed]",
      "text/plain": [
       "<Figure size 432x288 with 1 Axes>"
      ]
     },
     "metadata": {
      "needs_background": "light"
     },
     "output_type": "display_data"
    }
   ],
   "source": [
    "pd.DataFrame(log)[1].plot()"
   ]
  },
  {
   "cell_type": "code",
   "execution_count": 50,
   "metadata": {},
   "outputs": [
    {
     "name": "stdout",
     "output_type": "stream",
     "text": [
      "253183284640\n"
     ]
    },
    {
     "name": "stderr",
     "output_type": "stream",
     "text": [
      "  0%|          | 0/200 [00:00<?, ?it/s]"
     ]
    },
    {
     "name": "stdout",
     "output_type": "stream",
     "text": [
      ">best! 0, 35711554370\n",
      ">best! 0, 12034648\n",
      ">best! 0, 9487338\n",
      ">best! 0, 8947764\n",
      ">best! 0, 7237612\n"
     ]
    },
    {
     "name": "stderr",
     "output_type": "stream",
     "text": [
      "  2%|▏         | 3/200 [00:08<09:34,  2.91s/it]"
     ]
    },
    {
     "name": "stdout",
     "output_type": "stream",
     "text": [
      ">best! 3, 6042290\n"
     ]
    },
    {
     "name": "stderr",
     "output_type": "stream",
     "text": [
      "  9%|▉         | 18/200 [00:52<08:42,  2.87s/it]"
     ]
    },
    {
     "name": "stdout",
     "output_type": "stream",
     "text": [
      ">best! 18, 4259831\n"
     ]
    },
    {
     "name": "stderr",
     "output_type": "stream",
     "text": [
      " 60%|█████▉    | 119/200 [05:46<03:56,  2.91s/it]"
     ]
    },
    {
     "name": "stdout",
     "output_type": "stream",
     "text": [
      "stop\n",
      "Done!\n",
      "CPU times: user 5min 46s, sys: 79.3 ms, total: 5min 46s\n",
      "Wall time: 5min 46s\n"
     ]
    },
    {
     "name": "stderr",
     "output_type": "stream",
     "text": [
      "\n"
     ]
    }
   ],
   "source": [
    "%%time\n",
    "# number of generations\n",
    "n_iter = 200\n",
    "# define the population size\n",
    "n_pop = 20\n",
    "# crossover rate\n",
    "r_cross = 0.4\n",
    "# mutation rate\n",
    "r_mut = 0.4 \n",
    "\n",
    "best, score, log, log_detail = genetic_algorithm(mijt, n_iter, n_pop, r_cross, r_mut)\n",
    "print('Done!')"
   ]
  },
  {
   "cell_type": "code",
   "execution_count": 51,
   "metadata": {},
   "outputs": [
    {
     "data": {
      "text/plain": [
       "<AxesSubplot:>"
      ]
     },
     "execution_count": 51,
     "metadata": {},
     "output_type": "execute_result"
    },
    {
     "data": {
      "image/png": "[encoded data removed]",
      "text/plain": [
       "<Figure size 432x288 with 1 Axes>"
      ]
     },
     "metadata": {
      "needs_background": "light"
     },
     "output_type": "display_data"
    }
   ],
   "source": [
    "pd.DataFrame(log_detail)[1].plot()"
   ]
  },
  {
   "cell_type": "code",
   "execution_count": 52,
   "metadata": {},
   "outputs": [
    {
     "data": {
      "text/plain": [
       "<AxesSubplot:>"
      ]
     },
     "execution_count": 52,
     "metadata": {},
     "output_type": "execute_result"
    },
    {
     "data": {
      "image/png": "[encoded data removed]",
      "text/plain": [
       "<Figure size 432x288 with 1 Axes>"
      ]
     },
     "metadata": {
      "needs_background": "light"
     },
     "output_type": "display_data"
    }
   ],
   "source": [
    "pd.DataFrame(log)[1].plot()"
   ]
  },
  {
   "cell_type": "code",
   "execution_count": 54,
   "metadata": {},
   "outputs": [
    {
     "name": "stdout",
     "output_type": "stream",
     "text": [
      "10310840\n"
     ]
    },
    {
     "name": "stderr",
     "output_type": "stream",
     "text": [
      "  0%|          | 0/200 [00:00<?, ?it/s]"
     ]
    },
    {
     "name": "stdout",
     "output_type": "stream",
     "text": [
      ">best! 0, 6995462\n",
      ">best! 0, 5949254\n"
     ]
    },
    {
     "name": "stderr",
     "output_type": "stream",
     "text": [
      " 44%|████▍     | 89/200 [08:34<10:41,  5.78s/it]"
     ]
    },
    {
     "name": "stdout",
     "output_type": "stream",
     "text": [
      ">best! 89, 5269082\n"
     ]
    },
    {
     "name": "stderr",
     "output_type": "stream",
     "text": [
      " 79%|███████▉  | 158/200 [15:12<04:02,  5.77s/it]"
     ]
    },
    {
     "name": "stdout",
     "output_type": "stream",
     "text": [
      ">best! 158, 5163674\n"
     ]
    },
    {
     "name": "stderr",
     "output_type": "stream",
     "text": [
      "100%|██████████| 200/200 [19:16<00:00,  5.78s/it]"
     ]
    },
    {
     "name": "stdout",
     "output_type": "stream",
     "text": [
      "Done!\n",
      "CPU times: user 19min 16s, sys: 189 ms, total: 19min 16s\n",
      "Wall time: 19min 16s\n"
     ]
    },
    {
     "name": "stderr",
     "output_type": "stream",
     "text": [
      "\n"
     ]
    }
   ],
   "source": [
    "%%time\n",
    "# number of generations\n",
    "n_iter = 200\n",
    "# define the population size\n",
    "n_pop = 40\n",
    "# crossover rate\n",
    "r_cross = 0.4\n",
    "# mutation rate\n",
    "r_mut = 0.4 \n",
    "\n",
    "best, score, log, log_detail = genetic_algorithm(mijt, n_iter, n_pop, r_cross, r_mut)\n",
    "print('Done!')"
   ]
  },
  {
   "cell_type": "code",
   "execution_count": 57,
   "metadata": {},
   "outputs": [
    {
     "data": {
      "text/plain": [
       "<AxesSubplot:>"
      ]
     },
     "execution_count": 57,
     "metadata": {},
     "output_type": "execute_result"
    },
    {
     "data": {
      "image/png": "[encoded data removed]",
      "text/plain": [
       "<Figure size 432x288 with 1 Axes>"
      ]
     },
     "metadata": {
      "needs_background": "light"
     },
     "output_type": "display_data"
    }
   ],
   "source": [
    "pd.DataFrame(log_detail)[1].plot()"
   ]
  },
  {
   "cell_type": "code",
   "execution_count": 58,
   "metadata": {},
   "outputs": [
    {
     "data": {
      "text/plain": [
       "<AxesSubplot:>"
      ]
     },
     "execution_count": 58,
     "metadata": {},
     "output_type": "execute_result"
    },
    {
     "data": {
      "image/png": "[encoded data removed]",
      "text/plain": [
       "<Figure size 432x288 with 1 Axes>"
      ]
     },
     "metadata": {
      "needs_background": "light"
     },
     "output_type": "display_data"
    }
   ],
   "source": [
    "pd.DataFrame(log)[1].plot()"
   ]
  },
  {
   "cell_type": "code",
   "execution_count": 59,
   "metadata": {},
   "outputs": [
    {
     "name": "stdout",
     "output_type": "stream",
     "text": [
      "11059463\n"
     ]
    },
    {
     "name": "stderr",
     "output_type": "stream",
     "text": [
      "  0%|          | 0/200 [00:00<?, ?it/s]"
     ]
    },
    {
     "name": "stdout",
     "output_type": "stream",
     "text": [
      ">best! 0, 6407683\n"
     ]
    },
    {
     "name": "stderr",
     "output_type": "stream",
     "text": [
      " 22%|██▏       | 43/200 [02:03<07:45,  2.96s/it]"
     ]
    },
    {
     "name": "stdout",
     "output_type": "stream",
     "text": [
      ">best! 43, 4587946\n"
     ]
    },
    {
     "name": "stderr",
     "output_type": "stream",
     "text": [
      " 72%|███████▏  | 144/200 [06:57<02:42,  2.90s/it]"
     ]
    },
    {
     "name": "stdout",
     "output_type": "stream",
     "text": [
      "stop\n",
      "Done!\n",
      "CPU times: user 6min 57s, sys: 180 ms, total: 6min 58s\n",
      "Wall time: 6min 57s\n"
     ]
    },
    {
     "name": "stderr",
     "output_type": "stream",
     "text": [
      "\n"
     ]
    }
   ],
   "source": [
    "%%time\n",
    "# number of generations\n",
    "n_iter = 200\n",
    "# define the population size\n",
    "n_pop = 20\n",
    "# crossover rate\n",
    "r_cross = 0.2\n",
    "# mutation rate\n",
    "r_mut = 0.4 \n",
    "\n",
    "best, score, log, log_detail = genetic_algorithm(mijt, n_iter, n_pop, r_cross, r_mut)\n",
    "print('Done!')"
   ]
  },
  {
   "cell_type": "code",
   "execution_count": 60,
   "metadata": {},
   "outputs": [
    {
     "data": {
      "text/plain": [
       "<AxesSubplot:>"
      ]
     },
     "execution_count": 60,
     "metadata": {},
     "output_type": "execute_result"
    },
    {
     "data": {
      "image/png": "[encoded data removed]",
      "text/plain": [
       "<Figure size 432x288 with 1 Axes>"
      ]
     },
     "metadata": {
      "needs_background": "light"
     },
     "output_type": "display_data"
    }
   ],
   "source": [
    "pd.DataFrame(log_detail)[1].plot()"
   ]
  },
  {
   "cell_type": "code",
   "execution_count": 61,
   "metadata": {},
   "outputs": [
    {
     "data": {
      "text/plain": [
       "<AxesSubplot:>"
      ]
     },
     "execution_count": 61,
     "metadata": {},
     "output_type": "execute_result"
    },
    {
     "data": {
      "image/png": "[encoded data removed]",
      "text/plain": [
       "<Figure size 432x288 with 1 Axes>"
      ]
     },
     "metadata": {
      "needs_background": "light"
     },
     "output_type": "display_data"
    }
   ],
   "source": [
    "pd.DataFrame(log)[1].plot()"
   ]
  },
  {
   "cell_type": "code",
   "execution_count": 62,
   "metadata": {},
   "outputs": [
    {
     "name": "stdout",
     "output_type": "stream",
     "text": [
      "12731853\n"
     ]
    },
    {
     "name": "stderr",
     "output_type": "stream",
     "text": [
      "  0%|          | 0/200 [00:00<?, ?it/s]"
     ]
    },
    {
     "name": "stdout",
     "output_type": "stream",
     "text": [
      ">best! 0, 8690670\n",
      ">best! 0, 7782007\n"
     ]
    },
    {
     "name": "stderr",
     "output_type": "stream",
     "text": [
      "  2%|▏         | 4/200 [00:11<09:17,  2.85s/it]"
     ]
    },
    {
     "name": "stdout",
     "output_type": "stream",
     "text": [
      ">best! 4, 6448550\n"
     ]
    },
    {
     "name": "stderr",
     "output_type": "stream",
     "text": [
      "  4%|▍         | 8/200 [00:22<09:04,  2.84s/it]"
     ]
    },
    {
     "name": "stdout",
     "output_type": "stream",
     "text": [
      ">best! 8, 3592042\n"
     ]
    },
    {
     "name": "stderr",
     "output_type": "stream",
     "text": [
      " 55%|█████▍    | 109/200 [05:09<04:18,  2.84s/it]"
     ]
    },
    {
     "name": "stdout",
     "output_type": "stream",
     "text": [
      "stop\n",
      "Done!\n",
      "CPU times: user 5min 9s, sys: 40 ms, total: 5min 9s\n",
      "Wall time: 5min 9s\n"
     ]
    },
    {
     "name": "stderr",
     "output_type": "stream",
     "text": [
      "\n"
     ]
    }
   ],
   "source": [
    "%%time\n",
    "# number of generations\n",
    "n_iter = 200\n",
    "# define the population size\n",
    "n_pop = 20\n",
    "# crossover rate\n",
    "r_cross = 0.4\n",
    "# mutation rate\n",
    "r_mut = 0.4 \n",
    "\n",
    "best, score, log, log_detail = genetic_algorithm(mijt, n_iter, n_pop, r_cross, r_mut)\n",
    "print('Done!')"
   ]
  },
  {
   "cell_type": "code",
   "execution_count": 65,
   "metadata": {},
   "outputs": [
    {
     "data": {
      "text/plain": [
       "<AxesSubplot:>"
      ]
     },
     "execution_count": 65,
     "metadata": {},
     "output_type": "execute_result"
    },
    {
     "data": {
      "image/png": "[encoded data removed]",
      "text/plain": [
       "<Figure size 432x288 with 1 Axes>"
      ]
     },
     "metadata": {
      "needs_background": "light"
     },
     "output_type": "display_data"
    }
   ],
   "source": [
    "pd.DataFrame(log_detail)[1].plot()"
   ]
  },
  {
   "cell_type": "code",
   "execution_count": 66,
   "metadata": {},
   "outputs": [
    {
     "data": {
      "text/plain": [
       "<AxesSubplot:>"
      ]
     },
     "execution_count": 66,
     "metadata": {},
     "output_type": "execute_result"
    },
    {
     "data": {
      "image/png": "[encoded data removed]",
      "text/plain": [
       "<Figure size 432x288 with 1 Axes>"
      ]
     },
     "metadata": {
      "needs_background": "light"
     },
     "output_type": "display_data"
    }
   ],
   "source": [
    "pd.DataFrame(log)[1].plot()"
   ]
  },
  {
   "cell_type": "code",
   "execution_count": 67,
   "metadata": {},
   "outputs": [
    {
     "name": "stdout",
     "output_type": "stream",
     "text": [
      "399240197180\n"
     ]
    },
    {
     "name": "stderr",
     "output_type": "stream",
     "text": [
      "  0%|          | 0/200 [00:00<?, ?it/s]"
     ]
    },
    {
     "name": "stdout",
     "output_type": "stream",
     "text": [
      ">best! 0, 7515273\n"
     ]
    },
    {
     "name": "stderr",
     "output_type": "stream",
     "text": [
      " 46%|████▌     | 92/200 [04:22<05:08,  2.85s/it]"
     ]
    },
    {
     "name": "stdout",
     "output_type": "stream",
     "text": [
      ">best! 92, 7111069\n"
     ]
    },
    {
     "name": "stderr",
     "output_type": "stream",
     "text": [
      " 56%|█████▌    | 111/200 [05:16<04:14,  2.86s/it]"
     ]
    },
    {
     "name": "stdout",
     "output_type": "stream",
     "text": [
      ">best! 111, 4628599\n"
     ]
    },
    {
     "name": "stderr",
     "output_type": "stream",
     "text": [
      "100%|██████████| 200/200 [09:30<00:00,  2.85s/it]"
     ]
    },
    {
     "name": "stdout",
     "output_type": "stream",
     "text": [
      "Done!\n",
      "CPU times: user 9min 30s, sys: 180 ms, total: 9min 30s\n",
      "Wall time: 9min 30s\n"
     ]
    },
    {
     "name": "stderr",
     "output_type": "stream",
     "text": [
      "\n"
     ]
    }
   ],
   "source": [
    "%%time\n",
    "# number of generations\n",
    "n_iter = 200\n",
    "# define the population size\n",
    "n_pop = 20\n",
    "# crossover rate\n",
    "r_cross = 0.3\n",
    "# mutation rate\n",
    "r_mut = 0.4 \n",
    "\n",
    "best, score, log, log_detail = genetic_algorithm(mijt, n_iter, n_pop, r_cross, r_mut)\n",
    "print('Done!')"
   ]
  },
  {
   "cell_type": "code",
   "execution_count": 68,
   "metadata": {},
   "outputs": [
    {
     "data": {
      "text/plain": [
       "<AxesSubplot:>"
      ]
     },
     "execution_count": 68,
     "metadata": {},
     "output_type": "execute_result"
    },
    {
     "data": {
      "image/png": "[encoded data removed]",
      "text/plain": [
       "<Figure size 432x288 with 1 Axes>"
      ]
     },
     "metadata": {
      "needs_background": "light"
     },
     "output_type": "display_data"
    }
   ],
   "source": [
    "pd.DataFrame(log_detail)[1].plot()"
   ]
  },
  {
   "cell_type": "code",
   "execution_count": 69,
   "metadata": {},
   "outputs": [
    {
     "data": {
      "text/plain": [
       "<AxesSubplot:>"
      ]
     },
     "execution_count": 69,
     "metadata": {},
     "output_type": "execute_result"
    },
    {
     "data": {
      "image/png": "[encoded data removed]",
      "text/plain": [
       "<Figure size 432x288 with 1 Axes>"
      ]
     },
     "metadata": {
      "needs_background": "light"
     },
     "output_type": "display_data"
    }
   ],
   "source": [
    "pd.DataFrame(log)[1].plot()"
   ]
  },
  {
   "cell_type": "code",
   "execution_count": 73,
   "metadata": {},
   "outputs": [
    {
     "name": "stdout",
     "output_type": "stream",
     "text": [
      "8289927\n"
     ]
    },
    {
     "name": "stderr",
     "output_type": "stream",
     "text": [
      "  0%|          | 0/200 [00:00<?, ?it/s]"
     ]
    },
    {
     "name": "stdout",
     "output_type": "stream",
     "text": [
      ">best! 0, 7133329\n",
      ">best! 0, 5649580\n"
     ]
    },
    {
     "name": "stderr",
     "output_type": "stream",
     "text": [
      " 16%|█▋        | 33/200 [00:15<01:18,  2.12it/s]"
     ]
    },
    {
     "name": "stdout",
     "output_type": "stream",
     "text": [
      ">best! 33, 4787354\n"
     ]
    },
    {
     "name": "stderr",
     "output_type": "stream",
     "text": [
      " 67%|██████▋   | 134/200 [01:03<00:31,  2.09it/s]"
     ]
    },
    {
     "name": "stdout",
     "output_type": "stream",
     "text": [
      "stop\n",
      "Done!\n",
      "CPU times: user 1min 4s, sys: 80.1 ms, total: 1min 4s\n",
      "Wall time: 1min 4s\n"
     ]
    },
    {
     "name": "stderr",
     "output_type": "stream",
     "text": [
      "\n"
     ]
    },
    {
     "data": {
      "text/plain": [
       "<AxesSubplot:>"
      ]
     },
     "execution_count": 73,
     "metadata": {},
     "output_type": "execute_result"
    },
    {
     "data": {
      "image/png": "[encoded data removed]",
      "text/plain": [
       "<Figure size 432x288 with 1 Axes>"
      ]
     },
     "metadata": {
      "needs_background": "light"
     },
     "output_type": "display_data"
    }
   ],
   "source": [
    "%%time\n",
    "# number of generations\n",
    "n_iter = 200\n",
    "# define the population size\n",
    "n_pop = 20\n",
    "# crossover rate\n",
    "r_cross = 0.4\n",
    "# mutation rate\n",
    "r_mut = 0.1\n",
    "\n",
    "best, score, log, log_detail = genetic_algorithm(mijt, n_iter, n_pop, r_cross, r_mut)\n",
    "print('Done!')\n",
    "pd.DataFrame(log)[1].plot()"
   ]
  },
  {
   "cell_type": "code",
   "execution_count": 71,
   "metadata": {},
   "outputs": [
    {
     "name": "stdout",
     "output_type": "stream",
     "text": [
      "90894474660\n"
     ]
    },
    {
     "name": "stderr",
     "output_type": "stream",
     "text": [
      "  0%|          | 0/200 [00:00<?, ?it/s]"
     ]
    },
    {
     "name": "stdout",
     "output_type": "stream",
     "text": [
      ">best! 0, 45445816280\n",
      ">best! 0, 6548603\n"
     ]
    },
    {
     "name": "stderr",
     "output_type": "stream",
     "text": [
      " 42%|████▏     | 83/200 [03:57<05:33,  2.85s/it]"
     ]
    },
    {
     "name": "stdout",
     "output_type": "stream",
     "text": [
      ">best! 83, 6336501\n"
     ]
    },
    {
     "name": "stderr",
     "output_type": "stream",
     "text": [
      " 51%|█████     | 102/200 [04:52<04:39,  2.85s/it]"
     ]
    },
    {
     "name": "stdout",
     "output_type": "stream",
     "text": [
      ">best! 102, 6190193\n"
     ]
    },
    {
     "name": "stderr",
     "output_type": "stream",
     "text": [
      " 72%|███████▎  | 145/200 [06:55<02:37,  2.87s/it]"
     ]
    },
    {
     "name": "stdout",
     "output_type": "stream",
     "text": [
      ">best! 145, 4326043\n"
     ]
    },
    {
     "name": "stderr",
     "output_type": "stream",
     "text": [
      "100%|██████████| 200/200 [09:35<00:00,  2.88s/it]"
     ]
    },
    {
     "name": "stdout",
     "output_type": "stream",
     "text": [
      "Done!\n",
      "CPU times: user 9min 35s, sys: 150 ms, total: 9min 35s\n",
      "Wall time: 9min 35s\n"
     ]
    },
    {
     "name": "stderr",
     "output_type": "stream",
     "text": [
      "\n"
     ]
    },
    {
     "data": {
      "text/plain": [
       "<AxesSubplot:>"
      ]
     },
     "execution_count": 71,
     "metadata": {},
     "output_type": "execute_result"
    },
    {
     "data": {
      "image/png": "[encoded data removed]",
      "text/plain": [
       "<Figure size 432x288 with 1 Axes>"
      ]
     },
     "metadata": {
      "needs_background": "light"
     },
     "output_type": "display_data"
    }
   ],
   "source": [
    "%%time\n",
    "# number of generations\n",
    "n_iter = 200\n",
    "# define the population size\n",
    "n_pop = 20\n",
    "# crossover rate\n",
    "r_cross = 0.1\n",
    "# mutation rate\n",
    "r_mut = 0.4\n",
    "\n",
    "best, score, log, log_detail = genetic_algorithm(mijt, n_iter, n_pop, r_cross, r_mut)\n",
    "print('Done!')\n",
    "pd.DataFrame(log)[1].plot()"
   ]
  },
  {
   "cell_type": "code",
   "execution_count": 61,
   "metadata": {},
   "outputs": [
    {
     "name": "stdout",
     "output_type": "stream",
     "text": [
      "13079733\n"
     ]
    },
    {
     "name": "stderr",
     "output_type": "stream",
     "text": [
      "  0%|          | 0/100 [00:00<?, ?it/s]"
     ]
    },
    {
     "name": "stdout",
     "output_type": "stream",
     "text": [
      ">best! 0, 9020071\n",
      ">best! 0, 6800715\n"
     ]
    },
    {
     "name": "stderr",
     "output_type": "stream",
     "text": [
      "  1%|          | 1/100 [00:05<09:33,  5.80s/it]"
     ]
    },
    {
     "name": "stdout",
     "output_type": "stream",
     "text": [
      ">best! 1, 6330234\n"
     ]
    },
    {
     "name": "stderr",
     "output_type": "stream",
     "text": [
      " 66%|██████▌   | 66/100 [06:16<03:14,  5.73s/it]"
     ]
    },
    {
     "name": "stdout",
     "output_type": "stream",
     "text": [
      ">best! 66, 4892312\n"
     ]
    },
    {
     "name": "stderr",
     "output_type": "stream",
     "text": [
      "100%|██████████| 100/100 [09:27<00:00,  5.68s/it]"
     ]
    },
    {
     "name": "stdout",
     "output_type": "stream",
     "text": [
      "Done!\n",
      "CPU times: user 9min 27s, sys: 80 ms, total: 9min 27s\n",
      "Wall time: 9min 27s\n"
     ]
    },
    {
     "name": "stderr",
     "output_type": "stream",
     "text": [
      "\n"
     ]
    },
    {
     "data": {
      "text/plain": [
       "<AxesSubplot:>"
      ]
     },
     "execution_count": 61,
     "metadata": {},
     "output_type": "execute_result"
    },
    {
     "data": {
      "image/png": "[encoded data removed]",
      "text/plain": [
       "<Figure size 432x288 with 1 Axes>"
      ]
     },
     "metadata": {
      "needs_background": "light"
     },
     "output_type": "display_data"
    }
   ],
   "source": [
    "%%time\n",
    "# number of generations\n",
    "n_iter = 100\n",
    "# define the population size\n",
    "n_pop = 40\n",
    "# crossover rate\n",
    "r_cross = 0.4\n",
    "# mutation rate\n",
    "r_mut = 0.4\n",
    "\n",
    "best, score, log, log_detail = genetic_algorithm(mijt, n_iter, n_pop, r_cross, r_mut)\n",
    "print('Done!')\n",
    "pd.DataFrame(log)[1].plot()"
   ]
  },
  {
   "cell_type": "code",
   "execution_count": null,
   "metadata": {},
   "outputs": [],
   "source": []
  },
  {
   "cell_type": "code",
   "execution_count": 107,
   "metadata": {},
   "outputs": [
    {
     "data": {
      "text/plain": [
       "2"
      ]
     },
     "execution_count": 107,
     "metadata": {},
     "output_type": "execute_result"
    }
   ],
   "source": [
    "dit['K04033', '2021-05-13']\n",
    "dit['K04031', '2021-05-24']\n",
    "dit['051718', '2021-05-30']\n",
    "dit['S00341', '2021-03-10']\n",
    "dit['052996', '2021-02-18']\n",
    "#dit['K04101', '2021-05-30']"
   ]
  },
  {
   "cell_type": "code",
   "execution_count": 62,
   "metadata": {},
   "outputs": [
    {
     "data": {
      "text/html": [
       "<div>\n",
       "<style scoped>\n",
       "    .dataframe tbody tr th:only-of-type {\n",
       "        vertical-align: middle;\n",
       "    }\n",
       "\n",
       "    .dataframe tbody tr th {\n",
       "        vertical-align: top;\n",
       "    }\n",
       "\n",
       "    .dataframe thead th {\n",
       "        text-align: right;\n",
       "    }\n",
       "</style>\n",
       "<table border=\"1\" class=\"dataframe\">\n",
       "  <thead>\n",
       "    <tr style=\"text-align: right;\">\n",
       "      <th></th>\n",
       "      <th>0</th>\n",
       "    </tr>\n",
       "  </thead>\n",
       "  <tbody>\n",
       "    <tr>\n",
       "      <th>(052996, 410.0, 2021-05-30)</th>\n",
       "      <td>1</td>\n",
       "    </tr>\n",
       "    <tr>\n",
       "      <th>(052996, 410.0, 2021-02-18)</th>\n",
       "      <td>1</td>\n",
       "    </tr>\n",
       "    <tr>\n",
       "      <th>(052996, 421.0, 2021-05-30)</th>\n",
       "      <td>1</td>\n",
       "    </tr>\n",
       "    <tr>\n",
       "      <th>(052996, 421.0, 2021-02-18)</th>\n",
       "      <td>1</td>\n",
       "    </tr>\n",
       "    <tr>\n",
       "      <th>(K04033, 404.0, 2021-05-13)</th>\n",
       "      <td>194</td>\n",
       "    </tr>\n",
       "    <tr>\n",
       "      <th>(K04033, 405.0, 2021-05-13)</th>\n",
       "      <td>268</td>\n",
       "    </tr>\n",
       "    <tr>\n",
       "      <th>(K04033, 407.0, 2021-05-13)</th>\n",
       "      <td>210</td>\n",
       "    </tr>\n",
       "    <tr>\n",
       "      <th>(K04033, 408.0, 2021-05-13)</th>\n",
       "      <td>238</td>\n",
       "    </tr>\n",
       "    <tr>\n",
       "      <th>(K04033, 409.0, 2021-05-13)</th>\n",
       "      <td>199</td>\n",
       "    </tr>\n",
       "    <tr>\n",
       "      <th>(K04033, 410.0, 2021-05-13)</th>\n",
       "      <td>124</td>\n",
       "    </tr>\n",
       "    <tr>\n",
       "      <th>(K04033, 412.0, 2021-05-13)</th>\n",
       "      <td>213</td>\n",
       "    </tr>\n",
       "    <tr>\n",
       "      <th>(K04033, 416.0, 2021-05-13)</th>\n",
       "      <td>143</td>\n",
       "    </tr>\n",
       "    <tr>\n",
       "      <th>(K04033, 422.0, 2021-05-13)</th>\n",
       "      <td>95</td>\n",
       "    </tr>\n",
       "    <tr>\n",
       "      <th>(K04033, 424.0, 2021-05-13)</th>\n",
       "      <td>157</td>\n",
       "    </tr>\n",
       "    <tr>\n",
       "      <th>(K04033, 426.0, 2021-05-13)</th>\n",
       "      <td>216</td>\n",
       "    </tr>\n",
       "    <tr>\n",
       "      <th>(K04033, 433.0, 2021-05-13)</th>\n",
       "      <td>73</td>\n",
       "    </tr>\n",
       "    <tr>\n",
       "      <th>(K04033, 434.0, 2021-05-13)</th>\n",
       "      <td>293</td>\n",
       "    </tr>\n",
       "    <tr>\n",
       "      <th>(K04033, 435.0, 2021-05-13)</th>\n",
       "      <td>102</td>\n",
       "    </tr>\n",
       "    <tr>\n",
       "      <th>(K04033, 438.0, 2021-05-13)</th>\n",
       "      <td>113</td>\n",
       "    </tr>\n",
       "    <tr>\n",
       "      <th>(K04033, 439.0, 2021-05-13)</th>\n",
       "      <td>50</td>\n",
       "    </tr>\n",
       "    <tr>\n",
       "      <th>(K04033, 440.0, 2021-05-13)</th>\n",
       "      <td>144</td>\n",
       "    </tr>\n",
       "    <tr>\n",
       "      <th>(K04031, 407.0, 2021-05-24)</th>\n",
       "      <td>200</td>\n",
       "    </tr>\n",
       "    <tr>\n",
       "      <th>(K04031, 408.0, 2021-05-24)</th>\n",
       "      <td>267</td>\n",
       "    </tr>\n",
       "    <tr>\n",
       "      <th>(K04031, 409.0, 2021-05-24)</th>\n",
       "      <td>275</td>\n",
       "    </tr>\n",
       "    <tr>\n",
       "      <th>(K04031, 410.0, 2021-05-24)</th>\n",
       "      <td>178</td>\n",
       "    </tr>\n",
       "    <tr>\n",
       "      <th>(K04031, 416.0, 2021-05-24)</th>\n",
       "      <td>281</td>\n",
       "    </tr>\n",
       "    <tr>\n",
       "      <th>(K04031, 424.0, 2021-05-24)</th>\n",
       "      <td>367</td>\n",
       "    </tr>\n",
       "    <tr>\n",
       "      <th>(K04031, 425.0, 2021-05-24)</th>\n",
       "      <td>110</td>\n",
       "    </tr>\n",
       "    <tr>\n",
       "      <th>(K04031, 426.0, 2021-05-24)</th>\n",
       "      <td>72</td>\n",
       "    </tr>\n",
       "    <tr>\n",
       "      <th>(K04031, 433.0, 2021-05-24)</th>\n",
       "      <td>23</td>\n",
       "    </tr>\n",
       "    <tr>\n",
       "      <th>(K04031, 434.0, 2021-05-24)</th>\n",
       "      <td>207</td>\n",
       "    </tr>\n",
       "    <tr>\n",
       "      <th>(K04031, 435.0, 2021-05-24)</th>\n",
       "      <td>263</td>\n",
       "    </tr>\n",
       "    <tr>\n",
       "      <th>(K04031, 436.0, 2021-05-24)</th>\n",
       "      <td>72</td>\n",
       "    </tr>\n",
       "    <tr>\n",
       "      <th>(K04031, 440.0, 2021-05-24)</th>\n",
       "      <td>230</td>\n",
       "    </tr>\n",
       "    <tr>\n",
       "      <th>(S00341, 410.0, 2021-04-10)</th>\n",
       "      <td>44</td>\n",
       "    </tr>\n",
       "    <tr>\n",
       "      <th>(S00341, 410.0, 2021-02-10)</th>\n",
       "      <td>269</td>\n",
       "    </tr>\n",
       "    <tr>\n",
       "      <th>(S00341, 410.0, 2021-03-10)</th>\n",
       "      <td>258</td>\n",
       "    </tr>\n",
       "    <tr>\n",
       "      <th>(S00341, 410.0, 2021-05-10)</th>\n",
       "      <td>285</td>\n",
       "    </tr>\n",
       "    <tr>\n",
       "      <th>(K04101, 408.0, 2021-05-30)</th>\n",
       "      <td>10</td>\n",
       "    </tr>\n",
       "    <tr>\n",
       "      <th>(K04101, 416.0, 2021-05-30)</th>\n",
       "      <td>1</td>\n",
       "    </tr>\n",
       "    <tr>\n",
       "      <th>(K04101, 424.0, 2021-05-30)</th>\n",
       "      <td>3</td>\n",
       "    </tr>\n",
       "    <tr>\n",
       "      <th>(K04101, 425.0, 2021-05-30)</th>\n",
       "      <td>15</td>\n",
       "    </tr>\n",
       "    <tr>\n",
       "      <th>(K04101, 426.0, 2021-05-30)</th>\n",
       "      <td>9</td>\n",
       "    </tr>\n",
       "    <tr>\n",
       "      <th>(S00271, 425.0, 2021-05-31)</th>\n",
       "      <td>129</td>\n",
       "    </tr>\n",
       "    <tr>\n",
       "      <th>(066157, 408.0, 2021-05-13)</th>\n",
       "      <td>70</td>\n",
       "    </tr>\n",
       "    <tr>\n",
       "      <th>(066157, 409.0, 2021-05-13)</th>\n",
       "      <td>175</td>\n",
       "    </tr>\n",
       "    <tr>\n",
       "      <th>(066157, 434.0, 2021-05-13)</th>\n",
       "      <td>100</td>\n",
       "    </tr>\n",
       "    <tr>\n",
       "      <th>(051718, 408.0, 2021-05-30)</th>\n",
       "      <td>14</td>\n",
       "    </tr>\n",
       "    <tr>\n",
       "      <th>(051718, 409.0, 2021-05-30)</th>\n",
       "      <td>7</td>\n",
       "    </tr>\n",
       "    <tr>\n",
       "      <th>(051718, 410.0, 2021-05-30)</th>\n",
       "      <td>14</td>\n",
       "    </tr>\n",
       "    <tr>\n",
       "      <th>(051718, 412.0, 2021-05-30)</th>\n",
       "      <td>10</td>\n",
       "    </tr>\n",
       "    <tr>\n",
       "      <th>(051718, 416.0, 2021-05-30)</th>\n",
       "      <td>4</td>\n",
       "    </tr>\n",
       "    <tr>\n",
       "      <th>(051718, 424.0, 2021-05-30)</th>\n",
       "      <td>12</td>\n",
       "    </tr>\n",
       "    <tr>\n",
       "      <th>(051718, 425.0, 2021-05-30)</th>\n",
       "      <td>8</td>\n",
       "    </tr>\n",
       "    <tr>\n",
       "      <th>(051718, 426.0, 2021-05-30)</th>\n",
       "      <td>9</td>\n",
       "    </tr>\n",
       "    <tr>\n",
       "      <th>(051718, 433.0, 2021-05-30)</th>\n",
       "      <td>10</td>\n",
       "    </tr>\n",
       "    <tr>\n",
       "      <th>(051718, 434.0, 2021-05-30)</th>\n",
       "      <td>11</td>\n",
       "    </tr>\n",
       "    <tr>\n",
       "      <th>(051718, 435.0, 2021-05-30)</th>\n",
       "      <td>10</td>\n",
       "    </tr>\n",
       "    <tr>\n",
       "      <th>(051718, 439.0, 2021-05-30)</th>\n",
       "      <td>9</td>\n",
       "    </tr>\n",
       "    <tr>\n",
       "      <th>(051718, 440.0, 2021-05-30)</th>\n",
       "      <td>18</td>\n",
       "    </tr>\n",
       "  </tbody>\n",
       "</table>\n",
       "</div>"
      ],
      "text/plain": [
       "                               0\n",
       "(052996, 410.0, 2021-05-30)    1\n",
       "(052996, 410.0, 2021-02-18)    1\n",
       "(052996, 421.0, 2021-05-30)    1\n",
       "(052996, 421.0, 2021-02-18)    1\n",
       "(K04033, 404.0, 2021-05-13)  194\n",
       "(K04033, 405.0, 2021-05-13)  268\n",
       "(K04033, 407.0, 2021-05-13)  210\n",
       "(K04033, 408.0, 2021-05-13)  238\n",
       "(K04033, 409.0, 2021-05-13)  199\n",
       "(K04033, 410.0, 2021-05-13)  124\n",
       "(K04033, 412.0, 2021-05-13)  213\n",
       "(K04033, 416.0, 2021-05-13)  143\n",
       "(K04033, 422.0, 2021-05-13)   95\n",
       "(K04033, 424.0, 2021-05-13)  157\n",
       "(K04033, 426.0, 2021-05-13)  216\n",
       "(K04033, 433.0, 2021-05-13)   73\n",
       "(K04033, 434.0, 2021-05-13)  293\n",
       "(K04033, 435.0, 2021-05-13)  102\n",
       "(K04033, 438.0, 2021-05-13)  113\n",
       "(K04033, 439.0, 2021-05-13)   50\n",
       "(K04033, 440.0, 2021-05-13)  144\n",
       "(K04031, 407.0, 2021-05-24)  200\n",
       "(K04031, 408.0, 2021-05-24)  267\n",
       "(K04031, 409.0, 2021-05-24)  275\n",
       "(K04031, 410.0, 2021-05-24)  178\n",
       "(K04031, 416.0, 2021-05-24)  281\n",
       "(K04031, 424.0, 2021-05-24)  367\n",
       "(K04031, 425.0, 2021-05-24)  110\n",
       "(K04031, 426.0, 2021-05-24)   72\n",
       "(K04031, 433.0, 2021-05-24)   23\n",
       "(K04031, 434.0, 2021-05-24)  207\n",
       "(K04031, 435.0, 2021-05-24)  263\n",
       "(K04031, 436.0, 2021-05-24)   72\n",
       "(K04031, 440.0, 2021-05-24)  230\n",
       "(S00341, 410.0, 2021-04-10)   44\n",
       "(S00341, 410.0, 2021-02-10)  269\n",
       "(S00341, 410.0, 2021-03-10)  258\n",
       "(S00341, 410.0, 2021-05-10)  285\n",
       "(K04101, 408.0, 2021-05-30)   10\n",
       "(K04101, 416.0, 2021-05-30)    1\n",
       "(K04101, 424.0, 2021-05-30)    3\n",
       "(K04101, 425.0, 2021-05-30)   15\n",
       "(K04101, 426.0, 2021-05-30)    9\n",
       "(S00271, 425.0, 2021-05-31)  129\n",
       "(066157, 408.0, 2021-05-13)   70\n",
       "(066157, 409.0, 2021-05-13)  175\n",
       "(066157, 434.0, 2021-05-13)  100\n",
       "(051718, 408.0, 2021-05-30)   14\n",
       "(051718, 409.0, 2021-05-30)    7\n",
       "(051718, 410.0, 2021-05-30)   14\n",
       "(051718, 412.0, 2021-05-30)   10\n",
       "(051718, 416.0, 2021-05-30)    4\n",
       "(051718, 424.0, 2021-05-30)   12\n",
       "(051718, 425.0, 2021-05-30)    8\n",
       "(051718, 426.0, 2021-05-30)    9\n",
       "(051718, 433.0, 2021-05-30)   10\n",
       "(051718, 434.0, 2021-05-30)   11\n",
       "(051718, 435.0, 2021-05-30)   10\n",
       "(051718, 439.0, 2021-05-30)    9\n",
       "(051718, 440.0, 2021-05-30)   18"
      ]
     },
     "execution_count": 62,
     "metadata": {},
     "output_type": "execute_result"
    }
   ],
   "source": [
    "solution_ = dict()\n",
    "xijt = decode(mijt, xijt)\n",
    "for i in I:\n",
    "    for j in J:\n",
    "        for t in T:\n",
    "            solution_[i, j, t] = round(best[i, j, t]*dit[i, t])\n",
    "\n",
    "sol = pd.DataFrame.from_dict(solution_, orient='index')\n",
    "sol.to_csv('GA_solution.csv')\n",
    "sol[sol[0]>0]"
   ]
  },
  {
   "cell_type": "code",
   "execution_count": 63,
   "metadata": {},
   "outputs": [
    {
     "name": "stdout",
     "output_type": "stream",
     "text": [
      "demand: 2\n",
      "machine 410.0: 1\n",
      "machine 421.0: 1\n",
      "total : 2\n"
     ]
    }
   ],
   "source": [
    "\n",
    "i = '052996'\n",
    "t = '2021-05-30'\n",
    "total = 0\n",
    "print(f'demand: {dit[i, t]}')\n",
    "for j in J:\n",
    "    if xijt[i,j,t]>0:\n",
    "        value = round(xijt[i,j,t]*dit[i, t])\n",
    "        print(f'machine {j}: {value}')\n",
    "        total += value\n",
    "print(f'total : {total}')"
   ]
  },
  {
   "cell_type": "code",
   "execution_count": 64,
   "metadata": {},
   "outputs": [
    {
     "name": "stdout",
     "output_type": "stream",
     "text": [
      "demand: 15\n",
      "machine 408.0: 10\n",
      "machine 409.0: 0\n",
      "machine 416.0: 1\n",
      "machine 424.0: 3\n",
      "machine 425.0: 15\n",
      "machine 426.0: 9\n",
      "total : 38\n"
     ]
    }
   ],
   "source": [
    "i = 'K04101'\n",
    "t = '2021-05-30'\n",
    "total = 0\n",
    "print(f'demand: {dit[i, t]}')\n",
    "for j in J:\n",
    "    if xijt[i,j,t]>0:\n",
    "        value = round(xijt[i,j,t]*dit[i, t])\n",
    "        print(f'machine {j}: {value}')\n",
    "        total += value\n",
    "print(f'total : {total}')"
   ]
  },
  {
   "cell_type": "code",
   "execution_count": 65,
   "metadata": {},
   "outputs": [
    {
     "name": "stdout",
     "output_type": "stream",
     "text": [
      "demand: 318\n",
      "machine 404.0: 194\n",
      "machine 405.0: 268\n",
      "machine 407.0: 210\n",
      "machine 408.0: 238\n",
      "machine 409.0: 199\n",
      "machine 410.0: 124\n",
      "machine 412.0: 213\n",
      "machine 416.0: 143\n",
      "machine 422.0: 95\n",
      "machine 424.0: 157\n",
      "machine 426.0: 216\n",
      "machine 433.0: 73\n",
      "machine 434.0: 293\n",
      "machine 435.0: 102\n",
      "machine 436.0: 0\n",
      "machine 438.0: 113\n",
      "machine 439.0: 50\n",
      "machine 440.0: 144\n",
      "total : 2832\n"
     ]
    }
   ],
   "source": [
    "i = 'K04033'\n",
    "t = '2021-05-13'\n",
    "\n",
    "total = 0\n",
    "print(f'demand: {dit[i, t]}')\n",
    "for j in J:\n",
    "    if xijt[i,j,t]>0:\n",
    "        value = round(xijt[i,j,t]*dit[i, t])\n",
    "        print(f'machine {j}: {value}')\n",
    "        total += value\n",
    "print(f'total : {total}')"
   ]
  },
  {
   "cell_type": "code",
   "execution_count": 66,
   "metadata": {},
   "outputs": [
    {
     "name": "stdout",
     "output_type": "stream",
     "text": [
      "demand: 383\n",
      "machine 407.0: 200\n",
      "machine 408.0: 267\n",
      "machine 409.0: 275\n",
      "machine 410.0: 178\n",
      "machine 416.0: 281\n",
      "machine 424.0: 367\n",
      "machine 425.0: 110\n",
      "machine 426.0: 72\n",
      "machine 433.0: 23\n",
      "machine 434.0: 207\n",
      "machine 435.0: 263\n",
      "machine 436.0: 72\n",
      "machine 440.0: 230\n",
      "total : 2545\n"
     ]
    }
   ],
   "source": [
    "i = 'K04031'\n",
    "t = '2021-05-24'\n",
    "\n",
    "total = 0\n",
    "print(f'demand: {dit[i, t]}')\n",
    "for j in J:\n",
    "    if xijt[i,j,t]>0:\n",
    "        value = round(xijt[i,j,t]*dit[i, t])\n",
    "        print(f'machine {j}: {value}')\n",
    "        total += value\n",
    "print(f'total : {total}')"
   ]
  },
  {
   "cell_type": "code",
   "execution_count": 67,
   "metadata": {},
   "outputs": [
    {
     "name": "stdout",
     "output_type": "stream",
     "text": [
      "demand: 2\n",
      "machine 410.0: 1\n",
      "machine 421.0: 1\n",
      "total : 2\n"
     ]
    }
   ],
   "source": [
    "i = '052996'\n",
    "t = '2021-02-18'\n",
    "\n",
    "total = 0\n",
    "print(f'demand: {dit[i, t]}')\n",
    "for j in J:\n",
    "    if xijt[i,j,t]>0:\n",
    "        value = round(xijt[i,j,t]*dit[i, t])\n",
    "        print(f'machine {j}: {value}')\n",
    "        total += value\n",
    "print(f'total : {total}')"
   ]
  },
  {
   "cell_type": "code",
   "execution_count": null,
   "metadata": {},
   "outputs": [],
   "source": []
  }
 ],
 "metadata": {
  "colab": {
   "name": "Sample.ipynb",
   "provenance": []
  },
  "interpreter": {
   "hash": "949777d72b0d2535278d3dc13498b2535136f6dfe0678499012e853ee9abcab1"
  },
  "kernelspec": {
   "display_name": "Python 3.9.7 64-bit",
   "name": "python3"
  },
  "language_info": {
   "codemirror_mode": {
    "name": "ipython",
    "version": 3
   },
   "file_extension": ".py",
   "mimetype": "text/x-python",
   "name": "python",
   "nbconvert_exporter": "python",
   "pygments_lexer": "ipython3",
   "version": "3.9.7"
  }
 },
 "nbformat": 4,
 "nbformat_minor": 1
}
