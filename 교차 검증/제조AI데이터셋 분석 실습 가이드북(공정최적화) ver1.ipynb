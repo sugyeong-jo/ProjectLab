{
 "cells": [
  {
   "cell_type": "markdown",
   "metadata": {
    "id": "GiMG8-UHMoI-"
   },
   "source": [
    "# **XGBoost를 이용한 사출공정의 최적 공정조건 산출**"
   ]
  },
  {
   "cell_type": "markdown",
   "metadata": {
    "id": "qFV_BCmS4XgJ"
   },
   "source": [
    "## [단계 1] 라이브러리/데이터 불러오기"
   ]
  },
  {
   "cell_type": "markdown",
   "metadata": {},
   "source": [
    "### ① 패키지 설치하기"
   ]
  },
  {
   "cell_type": "markdown",
   "metadata": {},
   "source": [
    "패키지를 설치하기에 앞서 사용자의 작업환경에 설치된 패키지 목록을 확인합니다."
   ]
  },
  {
   "cell_type": "code",
   "execution_count": null,
   "metadata": {},
   "outputs": [],
   "source": [
    "!pip list"
   ]
  },
  {
   "cell_type": "markdown",
   "metadata": {
    "id": "L48AxGOLkX98"
   },
   "source": [
    "*pip install* 명령어를 이용하여 분석에 필요한 패키지를 설치합니다."
   ]
  },
  {
   "cell_type": "code",
   "execution_count": null,
   "metadata": {
    "colab": {
     "base_uri": "https://localhost:8080/"
    },
    "id": "EGZDCBZlPO-O",
    "outputId": "f88401a7-0826-46d6-996e-a8bfc479c739",
    "scrolled": true
   },
   "outputs": [],
   "source": [
    "!pip install numpy\n",
    "!pip install pandas\n",
    "!pip install matplotlib\n",
    "!pip install seaborn\n",
    "!pip install pathlib\n",
    "!pip install datetime\n",
    "!pip install parse\n",
    "!pip install sklearn\n",
    "!pip install mlxtend --upgrade --no-deps\n",
    "!pip install xgboost\n",
    "!pip install pyswarm"
   ]
  },
  {
   "cell_type": "markdown",
   "metadata": {
    "id": "Sy8MztNPpsA-"
   },
   "source": [
    "### ② 패키지 및 모듈 불러오기"
   ]
  },
  {
   "cell_type": "code",
   "execution_count": null,
   "metadata": {
    "id": "M1XZmRgd4Whh"
   },
   "outputs": [],
   "source": [
    "import numpy as np\n",
    "import pandas as pd\n",
    "import argparse\n",
    "from pathlib import Path\n",
    "from numpy import mean\n",
    "from datetime import datetime\n",
    "from pathlib import Path\n",
    "from numpy import mean\n",
    "from datetime import datetime\n",
    "from parse import compile\n",
    "from sklearn.ensemble import IsolationForest\n",
    "from sklearn.model_selection import train_test_split\n",
    "from sklearn.preprocessing import OneHotEncoder\n",
    "from mlxtend.frequent_patterns import fpgrowth\n",
    "import xgboost\n",
    "from xgboost import plot_importance\n",
    "import matplotlib as mpl\n",
    "import matplotlib.pyplot as plt\n",
    "import seaborn as sns\n",
    "import warnings\n",
    "from pyswarm import pso\n",
    "import GPUtil\n",
    "warnings.simplefilter(\"ignore\")"
   ]
  },
  {
   "cell_type": "markdown",
   "metadata": {
    "id": "DV_mZFZJ1qk_"
   },
   "source": [
    "### ③ 데이터 불러오기"
   ]
  },
  {
   "cell_type": "code",
   "execution_count": null,
   "metadata": {
    "id": "nUzeWyX6sPM9"
   },
   "outputs": [],
   "source": [
    "path = './raw_data.csv'\n",
    "df_raw = pd.read_csv(path)"
   ]
  },
  {
   "cell_type": "markdown",
   "metadata": {
    "id": "ll_lc14q5zjD"
   },
   "source": [
    "## [단계 2] 데이터 종류 및 개수 확인"
   ]
  },
  {
   "cell_type": "markdown",
   "metadata": {
    "id": "KXUhf8f11CnT"
   },
   "source": [
    "### ① 데이터의 구성 확인"
   ]
  },
  {
   "cell_type": "code",
   "execution_count": null,
   "metadata": {
    "colab": {
     "base_uri": "https://localhost:8080/"
    },
    "id": "NiDzFk600DDB",
    "outputId": "ec61f7c3-5c31-4636-958b-a9df6a5cc27e"
   },
   "outputs": [],
   "source": [
    "print(df_raw.head())\n",
    "print(df_raw.info())"
   ]
  },
  {
   "cell_type": "markdown",
   "metadata": {
    "id": "tYAbtTJ2Zw-c"
   },
   "source": [
    "## [단계 3] 데이터 전처리\n"
   ]
  },
  {
   "cell_type": "markdown",
   "metadata": {
    "id": "skndAO7KHYRX"
   },
   "source": [
    "### ① 렌즈 분류 및 카테고리 열 추가\n",
    "\n",
    "분석 모델 개발 과정에서 렌즈의 종류를 분리하여 모델을 생성했을 때 예측력이 더 높아졌기 때문에 도수에 따라 카테고리를 만들어 데이터셋에 추가한다.\n",
    "\n",
    "데이터가 가장 많은 근시(MYOPIA)를 CATEGORY열의 기본값으로 추가한 후 REAL_POWER 값이 0과 같으면 BEAUTY, 0보다 크면 HYPER로 값을 변경한다."
   ]
  },
  {
   "cell_type": "code",
   "execution_count": null,
   "metadata": {
    "colab": {
     "base_uri": "https://localhost:8080/"
    },
    "id": "Y6Fx8J2VHyFH",
    "outputId": "26246417-131a-4e0f-93b0-59d1ef738716"
   },
   "outputs": [],
   "source": [
    "df_raw['CATEGORY'] = 'MYOPIA'\n",
    "df_raw['CATEGORY'][df_raw['REAL_POWER'] == 0] = 'BEAUTY'\n",
    "df_raw['CATEGORY'][df_raw['REAL_POWER'] > 0] = 'HYPER'\n",
    "\n",
    "print(df_raw.info())"
   ]
  },
  {
   "cell_type": "markdown",
   "metadata": {
    "id": "_cTSFn4U4OJJ"
   },
   "source": [
    "### ② 자주 사용하는 변수 정의"
   ]
  },
  {
   "cell_type": "code",
   "execution_count": null,
   "metadata": {
    "id": "lMrDCkcr4R4W"
   },
   "outputs": [],
   "source": [
    "# 금형조합과 곡률\n",
    "CORES = ['MOLD_IN_TOP','MOLD_IN_BOT','MOLD_OUT_TOP','MOLD_OUT_BOT']\n",
    "RADIUS = ['IN_RADIUS','OUT_RADIUS']\n",
    "EQUIP_INFO = ['EQUIP_ID','MOLD_POS']\n",
    "POWERS = ['POWER1','POWER2','POWER3','POWER4','POWER5']"
   ]
  },
  {
   "cell_type": "markdown",
   "metadata": {
    "id": "caIgsaYi1y4q"
   },
   "source": [
    "### ③ 누락 데이터 처리 함수 정의\n",
    "\n",
    "NULL이거나 공백인 데이터의 값을 np.NaN으로 수정하고, MOLD_IN_TOP, MOLD_IN_BOT, MOLD_OUT_TOP, MOLD_OUT_BOT 값이 np.NaN인 데이터를 삭제한다."
   ]
  },
  {
   "cell_type": "code",
   "execution_count": null,
   "metadata": {
    "id": "68mfwbxV104d"
   },
   "outputs": [],
   "source": [
    "def preprocessing_missing(df_before):\n",
    "\n",
    "    type = 'Missing Value'\n",
    "    print(f'Type of preprocessing: {type}')\n",
    "    print(f'The shape of data before preprocessing: {df_before.shape}')\n",
    "\n",
    "    tmp = np.where((df_before.values == 'NULL')|(df_before.values == ''), np.NaN, df_before.values)\n",
    "    df_after = pd.DataFrame(data=tmp, columns=df_before.columns)\n",
    "    df_after = df_after.dropna(how='any', subset=CORES+RADIUS)\n",
    "\n",
    "    print(f'The shape of data after preprocessing: {df_after.shape}\\n')\n",
    "    \n",
    "    return df_after"
   ]
  },
  {
   "cell_type": "markdown",
   "metadata": {
    "id": "XsMNF_M06d9D"
   },
   "source": [
    "### ④ 데이터 형변환 처리 함수 정의\n",
    "\n",
    "열(column)의 이름을 모두 대문자로 변환하고 각 데이터의 형을 통일시킨다.\n",
    "\n",
    "IN_RADIUS와 OUT_RADIUS의 플러스/마이너스 부호 오표기로 인한 에러를 줄이기 위해 절대값으로 수정한다."
   ]
  },
  {
   "cell_type": "code",
   "execution_count": null,
   "metadata": {
    "id": "eHkzxzEx6nne"
   },
   "outputs": [],
   "source": [
    "def preprocessing_conversion(df_before):\n",
    "\n",
    "    type = 'Data Type Conversion'\n",
    "    print(f'Type of preprocessing: {type}')\n",
    "    print(f'The shape of data before preprocessing: {df_before.shape}')\n",
    "    #컬럼명을 모두 대문자로 변환\n",
    "    df_before.columns = [col.upper() for col in df_before.columns]\n",
    "    print(df_before.columns)\n",
    "\n",
    "    # 컬럼의 데이터형 통일\n",
    "    col_type = {\n",
    "        'MOLD_POS':'int',\n",
    "        'REAL_POWER':'float32',\n",
    "        'CP':'float32',\n",
    "        'AX':'float32',\n",
    "        'OUT_RADIUS':'float32',\n",
    "        'IN_RADIUS':'float32',\n",
    "        'POWER':'float32',\n",
    "        'POWER1':'float32',\n",
    "        'POWER2':'float32',\n",
    "        'POWER3':'float32',\n",
    "        'POWER4':'float32',\n",
    "        'POWER5':'float32'\n",
    "    }\n",
    "\n",
    "    # \n",
    "    df_after = df_before.astype(col_type)\n",
    "    df_after['MFG_DT'] = pd.to_datetime(df_before['MFG_DT'])\n",
    "    \n",
    "    # IN_RADIUS와 OUT_RADIUS의 값의 부호 삭제\n",
    "    df_after['IN_RADIUS'] = abs(df_after['IN_RADIUS'])\n",
    "    df_after['OUT_RADIUS'] = abs(df_after['OUT_RADIUS'])\n",
    "\n",
    "    # CORES 대문자로 변환\n",
    "    df_after[CORES] = df_after[CORES].applymap(lambda x: x.upper())\n",
    "\n",
    "\n",
    "    print(f'The shape of data after preprocessing: {df_after.shape}\\n')\n",
    "    \n",
    "    return df_after"
   ]
  },
  {
   "cell_type": "markdown",
   "metadata": {
    "id": "DfTgR-Eb_NrA"
   },
   "source": [
    "### ⑤ 지정 날짜 기준 데이터 추출 함수 정의\n",
    "\n",
    "데이터의 품질이 보장되는 2020년 1월 1일 이후 데이터만 분석에 활용하기 위해 기준일 이후 데이터를 삭제한다."
   ]
  },
  {
   "cell_type": "code",
   "execution_count": null,
   "metadata": {
    "id": "XCqrB35h_PMq"
   },
   "outputs": [],
   "source": [
    "def preprocessing_date(df_before):\n",
    "\n",
    "    type = 'Removing Irrelevant Data in terms of Date'\n",
    "    print(f'Type of preprocessing: {type}')\n",
    "    print(f'The shape of data before preprocessing: {df_before.shape}')\n",
    "    df_after = df_before[df_before['MFG_DT'] >= np.datetime64('2020-01-01')]\n",
    "    print(f'The shape of data after preprocessing: {df_after.shape}\\n')\n",
    "    \n",
    "    return df_after"
   ]
  },
  {
   "cell_type": "markdown",
   "metadata": {
    "id": "yp8fep5jATEB"
   },
   "source": [
    "### ⑥ 이상치 처리 함수 정의\n",
    "\n",
    "POWER는 POWER1, POWER2, POWER3, POWER4, POWER5의 평균을 도수기준표에 넣어 결정하는 값으로 최종 결정된 도수인 REAL_POWER와 일치해야한다.\n",
    "\n",
    "위 조건을 만족하지 않는 데이터를 제거한 뒤 IN_RADIUS와 OUT_RADIUS를 기준으로 Isolation Forest 알고리즘을 사용하여 이상치를 제거한다.\n",
    "\n",
    "IN_RADIUS와 OUT_RADIUS를 기준으로 한 산점도를 그려 이상치 제거가 잘 되었는지 확인한다."
   ]
  },
  {
   "cell_type": "code",
   "execution_count": null,
   "metadata": {
    "id": "HxUP5cP3Ab_C"
   },
   "outputs": [],
   "source": [
    "def preprocessing_outlier(df_before):\n",
    "\n",
    "    type = 'Removing Outliers'\n",
    "    print(f'Type of preprocessing: {type}')\n",
    "    print(f'The shape of data before preprocessing: {df_before.shape}')\n",
    "\n",
    "    # 조건1 : REAL_POWER 값과 POWER 값이 같은 경우\n",
    "    mask1 = (df_before['REAL_POWER'] == df_before['POWER'])\n",
    "    # 조건2 : POWER1, POWER2, POWER3, POWER4, POWER5의 평균과 POWER의 오차가 0.5보다 큰 경우\n",
    "    mask2 = abs(mean(df_before[POWERS], axis=1) - df_before['POWER']) < 0.5\n",
    "    # 조건1과 조건2를 모두 만족하는 경우만 추출\n",
    "    df_after = df_before[mask1 & mask2]\n",
    "\n",
    "    # IsolationForest 적용 전의 데이터 시각화\n",
    "    fig = plt.figure(figsize=(16,16))\n",
    "    ax_before = fig.add_subplot(1, 1, 1)\n",
    "    df_after.plot.scatter(\n",
    "        x='IN_RADIUS',\n",
    "        y='OUT_RADIUS',\n",
    "        ax=ax_before\n",
    "    )\n",
    "    \n",
    "    # IsolationForest 적용 후의 데이터 시각화\n",
    "    results = IsolationForest(random_state=0).fit_predict(df_after[RADIUS])\n",
    "    df_after = df_after[results == 1]\n",
    "    df_after.plot.scatter(\n",
    "        x='IN_RADIUS',\n",
    "        y='OUT_RADIUS',\n",
    "        ax=ax_before,\n",
    "        color='black'\n",
    "    )\n",
    "\n",
    "    plt.show()\n",
    "\n",
    "    print(f'The shape of data after preprocessing: {df_after.shape}\\n')\n",
    "    \n",
    "    return df_after"
   ]
  },
  {
   "cell_type": "markdown",
   "metadata": {
    "id": "wdPShMcNEjRS"
   },
   "source": [
    "### ⑦ 데이터 전처리 실행\n",
    "\n",
    "이후 단계는 근시렌즈에 대한 분석과 예측을 진행한다.\n",
    "\n",
    "앞서 정의한 전처리 프로세스를 순차적으로 실행하고 최종 전처리 데이터를 추출한다."
   ]
  },
  {
   "cell_type": "code",
   "execution_count": null,
   "metadata": {
    "id": "HdteM9fyI28H"
   },
   "outputs": [],
   "source": [
    "df_raw = df_raw[df_raw['CATEGORY']=='MYOPIA']"
   ]
  },
  {
   "cell_type": "code",
   "execution_count": null,
   "metadata": {
    "colab": {
     "base_uri": "https://localhost:8080/"
    },
    "id": "euLzlBYcXXsT",
    "outputId": "5910a5e8-281a-4f34-d04b-4f5280311352"
   },
   "outputs": [],
   "source": [
    "df_after = preprocessing_missing(df_raw)"
   ]
  },
  {
   "cell_type": "code",
   "execution_count": null,
   "metadata": {
    "colab": {
     "base_uri": "https://localhost:8080/"
    },
    "id": "6JKcXN4kX8hO",
    "outputId": "da990965-d741-452b-e0d2-ee4196421526"
   },
   "outputs": [],
   "source": [
    "df_after = preprocessing_conversion(df_after)"
   ]
  },
  {
   "cell_type": "code",
   "execution_count": null,
   "metadata": {
    "colab": {
     "base_uri": "https://localhost:8080/"
    },
    "id": "MobrbRxDZ9_o",
    "outputId": "84c5e7e1-11fc-4453-90b0-e59639e10822"
   },
   "outputs": [],
   "source": [
    "df_after = preprocessing_date(df_after)"
   ]
  },
  {
   "cell_type": "code",
   "execution_count": null,
   "metadata": {
    "colab": {
     "base_uri": "https://localhost:8080/",
     "height": 1000
    },
    "id": "jqIF1Y4WZ_X4",
    "outputId": "911a093c-0ae0-40ef-c32f-3b6727c268f0",
    "scrolled": false
   },
   "outputs": [],
   "source": [
    "df_after = preprocessing_outlier(df_after)"
   ]
  },
  {
   "cell_type": "code",
   "execution_count": null,
   "metadata": {
    "colab": {
     "base_uri": "https://localhost:8080/"
    },
    "id": "UFtPwQIBE-r5",
    "outputId": "5fff94d5-6a8f-41d5-a534-6c04a5b72276",
    "scrolled": true
   },
   "outputs": [],
   "source": [
    "print(df_after.info())"
   ]
  },
  {
   "cell_type": "markdown",
   "metadata": {
    "id": "x_KD-yqk6AeQ"
   },
   "source": [
    "## [단계 4] 데이터 특성 파악"
   ]
  },
  {
   "cell_type": "markdown",
   "metadata": {
    "id": "zWR1oAb3ov9c"
   },
   "source": [
    "### ① describe 함수를 통한 요약통계량 파악"
   ]
  },
  {
   "cell_type": "code",
   "execution_count": null,
   "metadata": {
    "colab": {
     "base_uri": "https://localhost:8080/",
     "height": 314
    },
    "id": "YPi7thhjkoh9",
    "outputId": "163dd05d-1987-4957-fffc-c0e189ecc448",
    "scrolled": false
   },
   "outputs": [],
   "source": [
    "df_after.describe()"
   ]
  },
  {
   "cell_type": "markdown",
   "metadata": {
    "id": "tcnE2C9io1wU"
   },
   "source": [
    "### ② corr 함수를 통한 변수 간 상관관계 파악"
   ]
  },
  {
   "cell_type": "code",
   "execution_count": null,
   "metadata": {
    "colab": {
     "base_uri": "https://localhost:8080/",
     "height": 1000
    },
    "id": "Xj4Xn-QTmOGd",
    "outputId": "60c68d68-f1f8-4333-d2ac-33c2d9c6478d"
   },
   "outputs": [],
   "source": [
    "plt.subplots(figsize=(25,25))\n",
    "sns.heatmap(data = df_after.corr(), linewidths=0.1, annot=True, fmt ='.4f', cmap='Blues')"
   ]
  },
  {
   "cell_type": "markdown",
   "metadata": {
    "id": "GAXIOxmt6Kgh"
   },
   "source": [
    "## [단계 5] XGBoost 모델 학습"
   ]
  },
  {
   "cell_type": "markdown",
   "metadata": {
    "id": "7rUzGpWWqPoM"
   },
   "source": [
    "### ① 주요 변수 및 함수 정의"
   ]
  },
  {
   "cell_type": "code",
   "execution_count": null,
   "metadata": {
    "id": "G8vOLeRJRrXJ"
   },
   "outputs": [],
   "source": [
    "# Onehot encoder\n",
    "ENCODER = None\n",
    "\n",
    "# XGBoost\n",
    "N_ESTIMATORS = 6000\n",
    "ETA = 0.25\n",
    "SUB_SAMPLE = 0.9"
   ]
  },
  {
   "cell_type": "code",
   "execution_count": null,
   "metadata": {
    "id": "0fAHw5rwlvG0"
   },
   "outputs": [],
   "source": [
    "def prepare_data(df, numeric_cols, onehot_cols, y_col):\n",
    "    x_cols = numeric_cols + onehot_cols\n",
    "    df = df.dropna(\n",
    "        axis=0,\n",
    "        how='any',\n",
    "        subset=x_cols+y_col\n",
    "    )    \n",
    "    data_X = df[x_cols]\n",
    "    data_y = df[y_col]\n",
    "\n",
    "    print('\\nSplitting data into train set and test set...')\n",
    "    X_train, X_test, y_train, y_test = train_test_split(data_X,data_y,test_size=.3,random_state=42)\n",
    "\n",
    "    print(f'The shape of X_train, y_train: {X_train.shape}, {y_train.shape}')\n",
    "    print(f'The shape of X_test, y_test: {X_test.shape}, {y_test.shape}')\n",
    "\n",
    "    bounds = df.groupby(['REAL_POWER'])[numeric_cols].agg(['min', 'max'])\n",
    "\n",
    "    return X_train, X_test, y_train, y_test, bounds"
   ]
  },
  {
   "cell_type": "code",
   "execution_count": null,
   "metadata": {
    "id": "PKvHKxeGnE0H"
   },
   "outputs": [],
   "source": [
    "def transform_cols(df, encoder):\n",
    "    if encoder is None:\n",
    "        print('ENCODER fit_transform')\n",
    "        encoder = OneHotEncoder(handle_unknown='ignore', sparse=False)\n",
    "        onehot = encoder.fit_transform(df[EQUIP_INFO])\n",
    "    else:\n",
    "        print('ENCODER transform')\n",
    "        onehot = encoder.transform(df[EQUIP_INFO])\n",
    "\n",
    "    transformed_onehot_cols = encoder.get_feature_names(EQUIP_INFO).ravel().tolist()\n",
    "    df = np.hstack((df[RADIUS].to_numpy(),onehot))\n",
    "    df = pd.DataFrame(df, columns=RADIUS+transformed_onehot_cols)\n",
    "    \n",
    "    return df, encoder"
   ]
  },
  {
   "cell_type": "markdown",
   "metadata": {
    "id": "AdbO5e3QuoBa"
   },
   "source": [
    "### ② 학습 데이터와 평가 데이터 분리"
   ]
  },
  {
   "cell_type": "code",
   "execution_count": null,
   "metadata": {
    "colab": {
     "base_uri": "https://localhost:8080/"
    },
    "id": "9iDPPEzRaNma",
    "outputId": "5455d72e-05b0-40c9-c376-76c21233a6c4"
   },
   "outputs": [],
   "source": [
    "df_prep = df_after.reset_index().melt(\n",
    "    id_vars=['index','SALE_CD','REAL_POWER','CP','AX']+RADIUS+EQUIP_INFO,\n",
    "    value_vars=POWERS,\n",
    "    value_name='y'\n",
    ")\n",
    "\n",
    "print(f'The shape of data which will be returned: {df_prep.shape}')"
   ]
  },
  {
   "cell_type": "code",
   "execution_count": null,
   "metadata": {},
   "outputs": [],
   "source": [
    "df_prep"
   ]
  },
  {
   "cell_type": "code",
   "execution_count": null,
   "metadata": {
    "colab": {
     "base_uri": "https://localhost:8080/"
    },
    "id": "UFtPwQIBE-r5",
    "outputId": "5fff94d5-6a8f-41d5-a534-6c04a5b72276",
    "scrolled": true
   },
   "outputs": [],
   "source": [
    "print(df_prep.info())"
   ]
  },
  {
   "cell_type": "code",
   "execution_count": null,
   "metadata": {
    "colab": {
     "base_uri": "https://localhost:8080/"
    },
    "id": "9hCZvn3Jutc5",
    "outputId": "361bc6ca-9afb-4f10-c7d3-5540664bbff1"
   },
   "outputs": [],
   "source": [
    "X_train, X_test, y_train, y_test, bounds = prepare_data(\n",
    "    df = df_prep,\n",
    "    numeric_cols = RADIUS,\n",
    "    onehot_cols = EQUIP_INFO,\n",
    "    y_col=['y']\n",
    ")"
   ]
  },
  {
   "cell_type": "markdown",
   "metadata": {
    "id": "pG7-w5DyyI7Z"
   },
   "source": [
    "### ③ XGBoost Regressor 호출 및 파라미터 설정"
   ]
  },
  {
   "cell_type": "code",
   "execution_count": null,
   "metadata": {
    "id": "8LPAPbMHyJ8I"
   },
   "outputs": [],
   "source": [
    "if len(GPUtil.getGPUs()) < 1:\n",
    "    regressor = xgboost.XGBRegressor(\n",
    "        n_estimators = N_ESTIMATORS,\n",
    "        objective = 'reg:squarederror',\n",
    "        eta = ETA,\n",
    "        tree_method = 'hist',\n",
    "        gpu_id = 0,\n",
    "        subsample = SUB_SAMPLE\n",
    "    )\n",
    "else:\n",
    "    regressor = xgboost.XGBRegressor(\n",
    "        n_estimators = N_ESTIMATORS,\n",
    "        objective = 'reg:squarederror',\n",
    "        eta = ETA,\n",
    "        tree_method = 'gpu_hist',\n",
    "        gpu_id = 0,\n",
    "        subsample = SUB_SAMPLE\n",
    "    )"
   ]
  },
  {
   "cell_type": "markdown",
   "metadata": {
    "id": "GHfW7KKN2ZBY"
   },
   "source": [
    "### ④ X_train과 X_test 열의 One-hot 인코딩"
   ]
  },
  {
   "cell_type": "code",
   "execution_count": null,
   "metadata": {
    "id": "dp3Nb_ML2ZfY"
   },
   "outputs": [],
   "source": [
    "X_train, ENCODER = transform_cols(X_train, ENCODER)\n",
    "X_test, ENCODER = transform_cols(X_test, ENCODER)"
   ]
  },
  {
   "cell_type": "code",
   "execution_count": null,
   "metadata": {
    "colab": {
     "base_uri": "https://localhost:8080/"
    },
    "id": "jvTQrd1hygiB",
    "outputId": "02f3f058-6ed2-4a25-e846-194a4ea93b04"
   },
   "outputs": [],
   "source": [
    "X_train.columns"
   ]
  },
  {
   "cell_type": "markdown",
   "metadata": {
    "id": "HeOeA3cTBS8o"
   },
   "source": [
    "### ⑤ XGBoost Regressor 모델 학습"
   ]
  },
  {
   "cell_type": "code",
   "execution_count": null,
   "metadata": {
    "colab": {
     "base_uri": "https://localhost:8080/"
    },
    "id": "R0AVhyr43AzN",
    "outputId": "4bfd7649-a611-464b-d771-a3728d328338"
   },
   "outputs": [],
   "source": [
    "history=regressor.fit(\n",
    "    X = X_train,\n",
    "    y = y_train,\n",
    "    eval_set = [(X_train, y_train), (X_test, y_test)], \n",
    "    eval_metric = 'mae',\n",
    "    early_stopping_rounds = N_ESTIMATORS/10\n",
    ")"
   ]
  },
  {
   "cell_type": "code",
   "execution_count": null,
   "metadata": {},
   "outputs": [],
   "source": [
    "print(f'Score: train({regressor.score(X_train, y_train)}),test({regressor.score(X_test, y_test)})')"
   ]
  },
  {
   "cell_type": "markdown",
   "metadata": {
    "id": "Gy3rirzjQjxg"
   },
   "source": [
    "### ⑥ 모델 평가"
   ]
  },
  {
   "cell_type": "code",
   "execution_count": null,
   "metadata": {},
   "outputs": [],
   "source": [
    "fig, ax = plt.subplots(figsize=(10,10))\n",
    "plot_importance(regressor, ax=ax)"
   ]
  },
  {
   "cell_type": "code",
   "execution_count": null,
   "metadata": {},
   "outputs": [],
   "source": [
    "plt.figure(figsize=(10,7))\n",
    "plt.yscale('log')\n",
    "plt.text(5000, 0.09, \"Minimum mae \\n= \"+str(min(xgb_val[\"validation_0\"][\"mae\"])))\n",
    "plt.plot(xgb_val[\"validation_0\"][\"mae\"], label='Training loss')\n",
    "plt.plot(xgb_val[\"validation_1\"][\"mae\"], label='Validation loss')\n",
    "plt.axvline(regressor.best_ntree_limit, color='gray', label='Optimal tree number')\n",
    "plt.xlabel('Number of trees')\n",
    "plt.ylabel('Loss(log)')\n",
    "plt.legend()\n",
    "\n",
    "plt.show()"
   ]
  },
  {
   "cell_type": "markdown",
   "metadata": {
    "id": "LYO-JH9sCISz"
   },
   "source": [
    "## [단계 6] 목표도수를 생산하기 위핸 최적 금형조합 도출"
   ]
  },
  {
   "cell_type": "markdown",
   "metadata": {
    "id": "VjOcVuIttv_6"
   },
   "source": [
    "### ① 결과 데이터프레임 생성"
   ]
  },
  {
   "cell_type": "code",
   "execution_count": null,
   "metadata": {
    "id": "G730ykub0ALh"
   },
   "outputs": [],
   "source": [
    "# 결과를 담을 데이터프레임 생성\n",
    "cols_result = EQUIP_INFO+CORES+RADIUS+['RANK_INDEX','RANK_INDEX_1','RANK_INDEX_2','PREDICTED_POWER','PREDICTED_POWER2','ERROR']\n",
    "df_result = pd.DataFrame(columns=cols_result)"
   ]
  },
  {
   "cell_type": "code",
   "execution_count": null,
   "metadata": {},
   "outputs": [],
   "source": [
    "df_result = df_result.astype(\n",
    "    {\n",
    "        'IN_RADIUS':'float',\n",
    "        'OUT_RADIUS':'float',\n",
    "        'RANK_INDEX':'float',\n",
    "        'RANK_INDEX_1':'float',\n",
    "        'RANK_INDEX_2':'float',\n",
    "        'PREDICTED_POWER':'float',\n",
    "        'PREDICTED_POWER2':'float',\n",
    "        'ERROR':'float'\n",
    "    }\n",
    ")\n",
    "df_result.dtypes"
   ]
  },
  {
   "cell_type": "markdown",
   "metadata": {
    "id": "yLrxSF_dCbV6"
   },
   "source": [
    "### ② 생산조건 입력\n",
    "\n",
    "최적 공정조건을 찾기 위한 제약조건을 입력합니다.\n",
    "* 설비(equipment_id)\n",
    "* 금형 위치(mold_position)\n",
    "* 목표 도수(target_power)\n",
    "* 금형 조합(core_group)"
   ]
  },
  {
   "cell_type": "code",
   "execution_count": null,
   "metadata": {
    "colab": {
     "base_uri": "https://localhost:8080/",
     "height": 875
    },
    "id": "_2l3zQ2e6AES",
    "outputId": "2d97a9fe-1510-4df1-b980-a90e7a19942d"
   },
   "outputs": [],
   "source": [
    "df_sample = df_raw.groupby(['CATEGORY']+EQUIP_INFO+['REAL_POWER','MOLD_IN_TOP']).count().reset_index()\n",
    "df_sample = df_sample[df_sample['POWER1'] > 10].sort_values(by=['POWER1'], ascending=False)\n",
    "df_sample = df_sample[df_sample['CATEGORY']=='MYOPIA']\n",
    "df_sample.reset_index(drop=True, inplace=True)\n",
    "df_sample.iloc[0:10]"
   ]
  },
  {
   "cell_type": "code",
   "execution_count": null,
   "metadata": {
    "colab": {
     "base_uri": "https://localhost:8080/"
    },
    "id": "Da0T1FS7HQpR",
    "outputId": "f4fca867-4140-4c19-f0e6-25678f3a8de1"
   },
   "outputs": [],
   "source": [
    "idx_sample = input(\"샘플데이터 중 원하는 데이터의 인덱스를 입력해주세요: \")\n",
    "idx_sample = int(idx_sample)\n",
    "\n",
    "equipment_id = df_sample.iloc[idx_sample]['EQUIP_ID']\n",
    "mold_position = df_sample.iloc[idx_sample]['MOLD_POS']\n",
    "mold_position = int(mold_position)\n",
    "target_power = df_sample.iloc[idx_sample]['REAL_POWER']\n",
    "target_power = float(target_power)\n",
    "core_group = df_sample.iloc[idx_sample]['MOLD_IN_TOP'][:-9]\n",
    "\n",
    "# 선택한 조건 확인 출력\n",
    "print(f'equipment_id: {equipment_id}, \\\n",
    "        mold_position: {mold_position},\\\n",
    "        target_power: {target_power}, \\\n",
    "        core_group: {core_group}')\n",
    "\n",
    "if target_power < 0:\n",
    "    category = \"MYOPIA\"\n",
    "elif target_power == 0:\n",
    "    category = \"BEAUTY\"\n",
    "else:\n",
    "    category = \"HYPER\""
   ]
  },
  {
   "cell_type": "markdown",
   "metadata": {
    "id": "M8Cx8uYjGXEv"
   },
   "source": [
    "### ③ 연관규칙 알고리즘을 통한 금형조합 묶음"
   ]
  },
  {
   "cell_type": "markdown",
   "metadata": {
    "id": "8uRo2NHUGceX"
   },
   "source": [
    "####  연관규칙 적용을 위한 데이터 전처리\n"
   ]
  },
  {
   "cell_type": "code",
   "execution_count": null,
   "metadata": {
    "colab": {
     "base_uri": "https://localhost:8080/"
    },
    "id": "2PwCbYPY6Fo0",
    "outputId": "2991f142-292c-4169-89c0-c97a358aa5f2"
   },
   "outputs": [],
   "source": [
    "# 금형 이름에서 공백(' ')을 밑줄('_')로 변환\n",
    "df_pre_assoc = df_raw.copy();\n",
    "\n",
    "df_pre_assoc = df_pre_assoc[df_pre_assoc['MOLD_IN_TOP'].str.contains(core_group)]\n",
    "\n",
    "for name in CORES:\n",
    "    df_pre_assoc[name] = df_pre_assoc[name].str.replace(' ', '_')\n",
    "\n",
    "print(df_pre_assoc[CORES][:5])"
   ]
  },
  {
   "cell_type": "markdown",
   "metadata": {
    "id": "9GGfpVUFIts4"
   },
   "source": [
    "#### One hot encoding 실행"
   ]
  },
  {
   "cell_type": "code",
   "execution_count": null,
   "metadata": {
    "id": "80ld52AuFFeX"
   },
   "outputs": [],
   "source": [
    "# one hot encoding\n",
    "df_pre_assoc = pd.get_dummies(df_pre_assoc, columns=CORES)\n",
    "print(df_pre_assoc.columns[16:], df_pre_assoc.shape)"
   ]
  },
  {
   "cell_type": "markdown",
   "metadata": {
    "id": "UCUEhnSRKMz8"
   },
   "source": [
    "#### 연관규칙 알고리즘을 위한 데이터셋 추출"
   ]
  },
  {
   "cell_type": "code",
   "execution_count": null,
   "metadata": {
    "colab": {
     "base_uri": "https://localhost:8080/"
    },
    "id": "P3zInNW-6KT4",
    "outputId": "c6901ba0-795c-4271-9351-fa4db9f253c0"
   },
   "outputs": [],
   "source": [
    "# 전처리 데이터에서 CATEGORY, EQUIP_ID, MOLD_POS, REAL_POWER가 입력조건과 일치하는 데이터만 추출\n",
    "df_assoc = df_pre_assoc.copy()\n",
    "assoc_pos = mold_position\n",
    "\n",
    "df_assoc = df_assoc[(df_assoc['CATEGORY']==category) & \n",
    "                    (df_assoc['EQUIP_ID']==equipment_id) & \n",
    "                    (df_assoc['MOLD_POS']==mold_position) & \n",
    "                    (df_assoc['REAL_POWER']==target_power)]"
   ]
  },
  {
   "cell_type": "code",
   "execution_count": null,
   "metadata": {
    "id": "L0u_bS1yUgQW"
   },
   "outputs": [],
   "source": [
    "# 생산이력이 없으면 입력조건과 CATEGORY가 일치하는 모든 데이터를 대상으로 연관규칙을 실행\n",
    "if df_assoc.shape[0] == 0:\n",
    "  print(f'No history, Searching within All')\n",
    "  df_assoc = df_pre_assoc.copy()\n",
    "  df_assoc = df_assoc[(df_assoc['CATEGORY']==category) & (df_assoc['REAL_POWER']==target_power)]\n",
    "  assoc_pos = 0"
   ]
  },
  {
   "cell_type": "code",
   "execution_count": null,
   "metadata": {},
   "outputs": [],
   "source": [
    "df_assoc.shape"
   ]
  },
  {
   "cell_type": "code",
   "execution_count": null,
   "metadata": {
    "colab": {
     "base_uri": "https://localhost:8080/"
    },
    "id": "kXLvB-f_hZfo",
    "outputId": "611bd65a-eebf-4a64-fa7c-3c69c60784e4"
   },
   "outputs": [],
   "source": [
    "# One-hot 인코딩 결과 int(0, 1)에서 bool(False, True)로 변환\n",
    "df_ = df_assoc.copy()\n",
    "df_ex = df_.iloc[:,16:].replace({1:True, 0:False})\n",
    "\n",
    "print(df_ex.info(verbose=True))"
   ]
  },
  {
   "cell_type": "markdown",
   "metadata": {
    "id": "Y9a3V5Q5MbvX"
   },
   "source": [
    "#### 연관규칙 알고리즘 실행"
   ]
  },
  {
   "cell_type": "code",
   "execution_count": null,
   "metadata": {
    "colab": {
     "base_uri": "https://localhost:8080/"
    },
    "id": "pESGI-UqZxvp",
    "outputId": "4880deca-740b-4475-e1a0-dd521e7a6d8c"
   },
   "outputs": [],
   "source": [
    "# 연관규칙 알고리즘\n",
    "assoc_result = fpgrowth(df_ex, min_support=0.005, use_colnames=True)\n",
    "\n",
    "# 연관규칙 도출 결과 중 [‘sets’]==4인 경우,\n",
    "# 즉 4개의 금형이 조합을 이루는 유효한 값을 추려냄 \n",
    "assoc_result['sets'] = assoc_result['itemsets'].apply(lambda x: len(x))\n",
    "print(assoc_result.sort_values(by=['sets'], ascending=False))\n",
    "\n",
    "assoc_result = assoc_result[assoc_result['sets']==4]\n",
    "print(assoc_result)"
   ]
  },
  {
   "cell_type": "markdown",
   "metadata": {
    "id": "lluJaIzmQoCt"
   },
   "source": [
    "### ④ 연관규칙 결과 테이블 만들기"
   ]
  },
  {
   "cell_type": "markdown",
   "metadata": {
    "id": "aXU81hClOrLs"
   },
   "source": [
    "#### 데이터셋의 컬럼명 복원"
   ]
  },
  {
   "cell_type": "code",
   "execution_count": null,
   "metadata": {
    "colab": {
     "base_uri": "https://localhost:8080/"
    },
    "id": "cIBMS_J_RKuh",
    "outputId": "4c417196-7501-42b8-e9bf-8444fbcf7383"
   },
   "outputs": [],
   "source": [
    "# One-hot 인코딩에서 각 금형값 앞에 컬럼명을 추가했던 것을 제거\n",
    "temp_df = pd.DataFrame(columns=CORES+['SUPPORT'])\n",
    "temp_list = [list(x) for x in assoc_result['itemsets']]\n",
    "\n",
    "for i, dset in enumerate(temp_list):\n",
    "  for name in dset:\n",
    "    if 'MOLD_IN_TOP_' in name:\n",
    "      p1 = compile('MOLD_IN_TOP_{}')\n",
    "      mold_in_top = p1.parse(name)[0]\n",
    "    elif 'MOLD_IN_BOT_' in name:\n",
    "      p2 = compile('MOLD_IN_BOT_{}')\n",
    "      mold_in_bot = p2.parse(name)[0]\n",
    "    elif 'MOLD_OUT_TOP_' in name:\n",
    "      p3 = compile('MOLD_OUT_TOP_{}')\n",
    "      mold_out_top = p3.parse(name)[0]\n",
    "    elif 'MOLD_OUT_BOT_' in name:\n",
    "      p4 = compile('MOLD_OUT_BOT_{}')\n",
    "      mold_out_bot = p4.parse(name)[0]    \n",
    "  score = assoc_result['support'].iloc[i]\n",
    "\n",
    "  temp_df.loc[i] = [mold_in_top, mold_in_bot, mold_out_top, mold_out_bot, score]\n",
    "  temp_df = temp_df.sort_values(by='SUPPORT', ascending=False)\n",
    "\n",
    "assoc_result = temp_df\n",
    "\n",
    "# 금형이름에서 '_'를 ' '로 변환\n",
    "for name in CORES:\n",
    "    assoc_result[name] = assoc_result[name].str.replace('_', ' ')\n",
    "print(assoc_result)"
   ]
  },
  {
   "cell_type": "markdown",
   "metadata": {
    "id": "0RfS1k6VPnU2"
   },
   "source": [
    "#### 비교군 데이터셋 생성\n",
    "\n",
    "원천 데이터 중 EQUIP_ID와 MOLD_POS가 일치하는 비교군 데이터를 추출한다."
   ]
  },
  {
   "cell_type": "code",
   "execution_count": null,
   "metadata": {
    "id": "-uYCWzOmgWOV"
   },
   "outputs": [],
   "source": [
    "df_temp_raw = df_raw.copy()\n",
    "if assoc_pos != 0:\n",
    "  df_temp_raw = df_temp_raw[(df_temp_raw['EQUIP_ID']==equipment_id) & (df_temp_raw['MOLD_POS']==assoc_pos)]"
   ]
  },
  {
   "cell_type": "markdown",
   "metadata": {
    "id": "NDMb4cV_RqM3"
   },
   "source": [
    "#### 중복 결과데이터 삭제 (1)\n",
    "비교군 데이터에서 연관규칙 결과와 일치하는 데이터를 모두 찾고 중복되는 값을 제거한다."
   ]
  },
  {
   "cell_type": "code",
   "execution_count": null,
   "metadata": {},
   "outputs": [],
   "source": [
    "df_temp_result = pd.DataFrame(columns=df_temp_raw.columns)\n",
    "df_temp_result = df_temp_result.astype(\n",
    "    {\n",
    "        'REAL_POWER':'float',\n",
    "        'CP':'float',\n",
    "        'AX':'float',\n",
    "        'IN_RADIUS':'float',\n",
    "        'OUT_RADIUS':'float',\n",
    "        'POWER':'float',\n",
    "        'POWER1':'float',\n",
    "        'POWER2':'float',\n",
    "        'POWER3':'float',\n",
    "        'POWER4':'float',\n",
    "        'POWER5':'float'\n",
    "    }\n",
    ")"
   ]
  },
  {
   "cell_type": "code",
   "execution_count": null,
   "metadata": {
    "colab": {
     "base_uri": "https://localhost:8080/"
    },
    "id": "apt0PUtPmQ7m",
    "outputId": "ec38916d-34c6-4636-a8e6-8b2c27794f61"
   },
   "outputs": [],
   "source": [
    "for i in range(assoc_result.shape[0]):\n",
    "    # 연관규칙 결과와 일치하는 결과를 모두 찾기\n",
    "    mold_in_top = assoc_result.loc[i,]['MOLD_IN_TOP']\n",
    "    mold_in_bot = assoc_result.loc[i,]['MOLD_IN_BOT']\n",
    "    mold_out_top = assoc_result.loc[i,]['MOLD_OUT_TOP']\n",
    "    mold_out_bot = assoc_result.loc[i,]['MOLD_OUT_BOT']\n",
    "    \n",
    "    df_temp = df_temp_raw[(df_temp_raw['MOLD_IN_TOP']==mold_in_top) & \\\n",
    "                          (df_temp_raw['MOLD_IN_BOT']==mold_in_bot) & \\\n",
    "                          (df_temp_raw['MOLD_OUT_TOP']==mold_out_top) & \\\n",
    "                          (df_temp_raw['MOLD_OUT_BOT']==mold_out_bot)\n",
    "                         ]\n",
    "    df_temp_result = pd.concat([df_temp_result, df_temp])\n",
    "    \n",
    "# 중복 데이터 제거\n",
    "df_temp_result = df_temp_result.drop(['MFG_DT','SALE_CD','REAL_POWER','CP','AX','POWER','CATEGORY'], axis=1)\n",
    "\n",
    "df_temp_result = df_temp_result[EQUIP_INFO+CORES+RADIUS+POWERS]\n",
    "df_temp_result = df_temp_result.drop_duplicates(CORES+RADIUS)\n",
    "df_temp_result.reset_index(inplace=True, drop=True)"
   ]
  },
  {
   "cell_type": "code",
   "execution_count": null,
   "metadata": {
    "scrolled": false
   },
   "outputs": [],
   "source": [
    "df_temp_result[EQUIP_INFO+CORES+POWERS]"
   ]
  },
  {
   "cell_type": "markdown",
   "metadata": {
    "id": "D5KU3uukT2QY"
   },
   "source": [
    "#### P 컬럼 생성\n",
    "\n",
    "POWER1, POWER2, POWER3, POWER4, POWER5열을 pivot 하고 POWER1, POWER2, POWER3, POWER4, POWER5 값을 통합한 컬럼의 이름을 P로 지정"
   ]
  },
  {
   "cell_type": "code",
   "execution_count": null,
   "metadata": {
    "id": "QkSJjqCDyClz"
   },
   "outputs": [],
   "source": [
    "tmp = df_temp_result.melt(\n",
    "    id_vars=EQUIP_INFO+CORES,\n",
    "    value_vars=POWERS,\n",
    "    value_name='P'\n",
    ").astype({'P':'float'})"
   ]
  },
  {
   "cell_type": "code",
   "execution_count": null,
   "metadata": {},
   "outputs": [],
   "source": [
    "tmp"
   ]
  },
  {
   "cell_type": "markdown",
   "metadata": {
    "id": "S2R6pnLkWGaC"
   },
   "source": [
    "#### P값이 중복되는 데이터 삭제\n",
    "\n",
    "EQUIP_ID, MOLD_POS, core_group이 같은 데이터를 묶고 나머지 값(P 외)의 중위수 찾기"
   ]
  },
  {
   "cell_type": "code",
   "execution_count": null,
   "metadata": {
    "id": "CQ_Tp8f_yPh1"
   },
   "outputs": [],
   "source": [
    "tmp = tmp.groupby(\n",
    "    EQUIP_INFO+CORES,\n",
    "    as_index=False,\n",
    "    sort=False\n",
    ").median()"
   ]
  },
  {
   "cell_type": "markdown",
   "metadata": {
    "id": "Omn4Yi_pwG8Y"
   },
   "source": [
    "#### 중복 결과데이터 삭제 (2)\n",
    "\n",
    "EQUIP_ID, MOLD_POS, CORES가 일치하는 데이터끼리 묶고 나머지 값의 중위수를 찾는다."
   ]
  },
  {
   "cell_type": "code",
   "execution_count": null,
   "metadata": {
    "id": "RwDx3JbQjqiQ"
   },
   "outputs": [],
   "source": [
    "df_temp_result = df_temp_result.groupby(\n",
    "    EQUIP_INFO+CORES,\n",
    "    as_index=False,\n",
    "    sort=False\n",
    ").median()\n",
    "\n",
    "df_result = pd.concat([df_result, df_temp_result])"
   ]
  },
  {
   "cell_type": "markdown",
   "metadata": {
    "id": "Kx1Sf5m6WfXc"
   },
   "source": [
    "#### RANK_INDEX_1 컬럼값 추가\n",
    "df_result의 'RANK_INDEX_1'열에 P와 target_power의 오차의 절대값을 추가"
   ]
  },
  {
   "cell_type": "code",
   "execution_count": null,
   "metadata": {
    "id": "cj8w718UzBO9"
   },
   "outputs": [],
   "source": [
    "df_result['RANK_INDEX_1'] = np.abs(tmp['P'].values - target_power)"
   ]
  },
  {
   "cell_type": "code",
   "execution_count": null,
   "metadata": {},
   "outputs": [],
   "source": [
    "df_result"
   ]
  },
  {
   "cell_type": "markdown",
   "metadata": {},
   "source": [
    "#### 연관규칙 결과가 존재하지 않을 때\n",
    "생산이력이 전혀 없는 케이스에 대해서는 프로세스를 종료한다."
   ]
  },
  {
   "cell_type": "code",
   "execution_count": null,
   "metadata": {},
   "outputs": [],
   "source": [
    "if df_result.shape[0]==0:\n",
    "    print('입력조건과 일치하는 생산이력이 존재하지 않습니다.')"
   ]
  },
  {
   "cell_type": "markdown",
   "metadata": {
    "id": "QwJwxznlQK6M"
   },
   "source": [
    "## [단계 7] 연관규칙 결과와 XGBoost 예측 결과에서 최적조건 찾기"
   ]
  },
  {
   "cell_type": "markdown",
   "metadata": {
    "id": "lVJIacYtbm4A"
   },
   "source": [
    "### ① 예측도수 변환에 필요한 변수 및 함수 정의\n",
    "\n",
    "XGBoost 예측 결과의 POWER1, POWER2, POWER3, POWER4, POWER5로부터 POWER를 할당한다."
   ]
  },
  {
   "cell_type": "code",
   "execution_count": null,
   "metadata": {
    "id": "xzdW6mPuuv5N"
   },
   "outputs": [],
   "source": [
    "# POWER 할당 함수\n",
    "POWER_VALUES = np.array([-0.25, -0.5, -0.75,\n",
    "                         -1.0, -1.25, -1.5, -1.75,\n",
    "                         -2.0, -2.25, -2.5, -2.75,\n",
    "                         -3.0, -3.25, -3.5, -3.75,\n",
    "                         -4.0, -4.25, -4.5, -4.75,\n",
    "                         -5.0, -5.25, -5.5, -5.75,\n",
    "                         -6.0, -6.5,\n",
    "                         -7.0, -7.5,\n",
    "                         -8.0, -8.5,\n",
    "                         -9.0, -9.5,\n",
    "                         -10.0])\n",
    "\n",
    "def power_allocate(value):\n",
    "    return POWER_VALUES[np.argmin(abs(POWER_VALUES - value))]\n",
    "\n",
    "def vectorize(value):\n",
    "    return np.vectorize(power_allocate)(value)"
   ]
  },
  {
   "cell_type": "markdown",
   "metadata": {
    "id": "fWXm-kw-Wf7U"
   },
   "source": [
    "### ② XGBoost Regressor를 이용한 도수 예측\n",
    "\n",
    "연관규칙 결과 데이터 df_result에서 IN_RADIUS와 OUT_RADIUS의 값을 부호를 없앤 뒤, IN_RADIUS, OUT_RADIUS, EQUIP_ID, MOLD_POS를 XGBoost 회귀모델에 넣고 REAL_POWER를 예측한다."
   ]
  },
  {
   "cell_type": "code",
   "execution_count": null,
   "metadata": {
    "colab": {
     "base_uri": "https://localhost:8080/"
    },
    "id": "2GiG8fEJvRNw",
    "outputId": "10169230-a295-46b2-83eb-01ea5d202ebc"
   },
   "outputs": [],
   "source": [
    "# 생산조건(설비, 금형위치)에 따른 REAL_POWER 예측\n",
    "df_result[RADIUS] = abs(df_result[RADIUS])\n",
    "\n",
    "X = df_result[RADIUS+EQUIP_INFO]\n",
    "X.loc[:,'EQUIP_ID'] = equipment_id\n",
    "X.loc[:,'MOLD_POS'] = mold_position\n",
    "\n",
    "X, ENCODER = transform_cols(X,ENCODER)"
   ]
  },
  {
   "cell_type": "code",
   "execution_count": null,
   "metadata": {},
   "outputs": [],
   "source": [
    "# XGBoost Regressor 모델을 이용한 REAL_POWER 예측\n",
    "df_result['PREDICTED_POWER'] = regressor.predict(X)\n",
    "df_result['PREDICTED_POWER2'] = df_result['PREDICTED_POWER'].apply(vectorize)"
   ]
  },
  {
   "cell_type": "markdown",
   "metadata": {
    "id": "pfCYOauGcm22"
   },
   "source": [
    "### ③ XGBoost 예측결과 내 우선순위 도출\n",
    "\n",
    "예측 도수(PREDICTED_POWER)와 목표 도수(target_power)의 오차를 RANK_INDEX_2에 저장한다.\n",
    "\n",
    "입력조건(equipment_id, mold_postion)과 일치하는 데이터가 있는 경우 최종 우선순위(RANK_INDEX)는 RANK_INDEX_1과 RANK_INDEX_2의 합이 되고, 일치하는 입력조건이 없는 경우는 RANK_INDEX_2를 최종 우선순위로 사용한다.\n",
    "\n",
    "최종 우선순위가 높은 순으로 최대 5개의 최적조건 도출한다."
   ]
  },
  {
   "cell_type": "code",
   "execution_count": null,
   "metadata": {
    "id": "SdrWwbaAwMFd"
   },
   "outputs": [],
   "source": [
    "df_result['RANK_INDEX_2'] = np.abs(df_result['PREDICTED_POWER'].values - target_power)\n",
    "if all(df_result['EQUIP_ID'] == equipment_id) & all(df_result['MOLD_POS'] == mold_position):\n",
    "    df_result['RANK_INDEX'] = df_result['RANK_INDEX_1'] + df_result['RANK_INDEX_2']\n",
    "else:\n",
    "    df_result['RANK_INDEX'] = df_result['RANK_INDEX_2']\n",
    "df_result = df_result.sort_values(by='RANK_INDEX').iloc[:5] # 5개까지\n",
    "\n",
    "df_result['EQUIP_ID'] = equipment_id\n",
    "df_result['MOLD_POS'] = mold_position"
   ]
  },
  {
   "cell_type": "markdown",
   "metadata": {
    "id": "Y9m1N3dbc83g"
   },
   "source": [
    "### ④ 결과 출력"
   ]
  },
  {
   "cell_type": "code",
   "execution_count": null,
   "metadata": {},
   "outputs": [],
   "source": [
    "df_result['ERROR'] = df_result['PREDICTED_POWER2'] - target_power"
   ]
  },
  {
   "cell_type": "code",
   "execution_count": null,
   "metadata": {
    "id": "4auvvUtE6W7f",
    "scrolled": true
   },
   "outputs": [],
   "source": [
    "print(\"\\n최종 금형조합 추천 결과\")\n",
    "showing_cols = EQUIP_INFO+CORES+RADIUS+['PREDICTED_POWER','PREDICTED_POWER2','ERROR']\n",
    "df_result[showing_cols]"
   ]
  },
  {
   "cell_type": "code",
   "execution_count": null,
   "metadata": {
    "id": "WELofKK0PZtl",
    "scrolled": true
   },
   "outputs": [],
   "source": [
    "print(f'equipment_id: {equipment_id}, \\\n",
    "        mold_position: {mold_position},\\\n",
    "        target_power: {target_power}, \\\n",
    "        core_group: {core_group}')"
   ]
  }
 ],
 "metadata": {
  "accelerator": "GPU",
  "colab": {
   "collapsed_sections": [],
   "name": "KAMP Dataset 사출공정 최적조건.ipynb",
   "provenance": []
  },
  "kernelspec": {
   "display_name": "Python 3",
   "language": "python",
   "name": "python3"
  },
  "language_info": {
   "codemirror_mode": {
    "name": "ipython",
    "version": 3
   },
   "file_extension": ".py",
   "mimetype": "text/x-python",
   "name": "python",
   "nbconvert_exporter": "python",
   "pygments_lexer": "ipython3",
   "version": "3.8.8"
  }
 },
 "nbformat": 4,
 "nbformat_minor": 1
}
